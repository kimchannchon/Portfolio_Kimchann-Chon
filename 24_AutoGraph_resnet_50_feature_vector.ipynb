{
  "nbformat": 4,
  "nbformat_minor": 0,
  "metadata": {
    "coursera": {
      "schema_names": [
        "TF3C2W3-1",
        "TF3C2W3-2",
        "TF3C2W3-3",
        "TF3C2W3-4",
        "TF3C2W3-5",
        "TF3C2W3-6",
        "TF3C2W3-7"
      ]
    },
    "jupytext": {
      "encoding": "# -*- coding: utf-8 -*-"
    },
    "kernelspec": {
      "display_name": "Python 3",
      "language": "python",
      "name": "python3"
    },
    "language_info": {
      "codemirror_mode": {
        "name": "ipython",
        "version": 3
      },
      "file_extension": ".py",
      "mimetype": "text/x-python",
      "name": "python",
      "nbconvert_exporter": "python",
      "pygments_lexer": "ipython3",
      "version": "3.8.5"
    },
    "colab": {
      "name": "C2W3_Assignment.ipynb",
      "provenance": []
    },
    "accelerator": "GPU"
  },
  "cells": [
    {
      "cell_type": "code",
      "metadata": {
        "id": "V9oECvVSI1Kj"
      },
      "source": [
        "from __future__ import absolute_import, division, print_function, unicode_literals\n",
        "import numpy as np"
      ],
      "execution_count": 1,
      "outputs": []
    },
    {
      "cell_type": "code",
      "metadata": {
        "id": "mT7meGqrZTz9"
      },
      "source": [
        "import tensorflow as tf\n",
        "import tensorflow_datasets as tfds\n",
        "import tensorflow_hub as hub\n",
        "import matplotlib.pyplot as plt"
      ],
      "execution_count": 2,
      "outputs": []
    },
    {
      "cell_type": "code",
      "metadata": {
        "id": "Eo1SiD543g5q"
      },
      "source": [
        "splits, info = tfds.load('horses_or_humans', as_supervised=True, with_info=True, \n",
        "                         split=['train[:80%]', 'train[80%:]', 'test'], data_dir='./data')\n",
        "\n",
        "(train_examples, validation_examples, test_examples) = splits\n",
        "\n",
        "num_examples = info.splits['train'].num_examples\n",
        "num_classes = info.features['label'].num_classes"
      ],
      "execution_count": 3,
      "outputs": []
    },
    {
      "cell_type": "code",
      "metadata": {
        "id": "cJdruxxGhBi5"
      },
      "source": [
        "BATCH_SIZE = 32\n",
        "IMAGE_SIZE = 224"
      ],
      "execution_count": 4,
      "outputs": []
    },
    {
      "cell_type": "code",
      "metadata": {
        "id": "qpQi4Jo9cFq0"
      },
      "source": [
        "# Autograph pre-processing - resize-normalize an image\n",
        "@tf.function\n",
        "def map_fn(img, label):\n",
        "    image_height = 224\n",
        "    image_width = 224\n",
        "    img = tf.image.resize(img, size=(image_height, image_width))\n",
        "    img /= 255. \n",
        "    return img, label"
      ],
      "execution_count": 5,
      "outputs": []
    },
    {
      "cell_type": "code",
      "metadata": {
        "colab": {
          "base_uri": "https://localhost:8080/"
        },
        "id": "fo8LPyMu3g5s",
        "outputId": "20dda5f3-aa26-4a83-c7ba-e2dc9211a745"
      },
      "source": [
        "## TEST\n",
        "test_image, test_label = list(train_examples)[0]\n",
        "test_result = map_fn(test_image, test_label)\n",
        "\n",
        "print(test_result[0].shape)\n",
        "print(test_result[1].shape)\n",
        "del test_image, test_label, test_result"
      ],
      "execution_count": 6,
      "outputs": [
        {
          "output_type": "stream",
          "text": [
            "(224, 224, 3)\n",
            "()\n"
          ],
          "name": "stdout"
        }
      ]
    },
    {
      "cell_type": "code",
      "metadata": {
        "id": "sv5bEYhaeUUO"
      },
      "source": [
        "# train dataset\n",
        "def prepare_dataset(train_examples, validation_examples, test_examples, num_examples, map_fn, batch_size):\n",
        "    train_ds = train_examples.map(map_fn).shuffle(num_examples).batch(batch_size)\n",
        "    valid_ds = validation_examples.map(map_fn).batch(batch_size)\n",
        "    test_ds = test_examples.map(map_fn).batch(batch_size)\n",
        "    \n",
        "    return train_ds, valid_ds, test_ds"
      ],
      "execution_count": 7,
      "outputs": []
    },
    {
      "cell_type": "code",
      "metadata": {
        "id": "aPC57v103g5w"
      },
      "source": [
        "train_ds, valid_ds, test_ds = prepare_dataset(train_examples, validation_examples, test_examples, num_examples, map_fn, BATCH_SIZE)"
      ],
      "execution_count": 8,
      "outputs": []
    },
    {
      "cell_type": "code",
      "metadata": {
        "colab": {
          "base_uri": "https://localhost:8080/"
        },
        "id": "GMmgNlO73g5x",
        "outputId": "d006351b-db80-4d51-d6a5-b8b9093fd9a0"
      },
      "source": [
        "## TEST\n",
        "test_train_ds = list(train_ds)\n",
        "\n",
        "print(len(test_train_ds))\n",
        "print(test_train_ds[0][0].shape)\n",
        "del test_train_ds"
      ],
      "execution_count": 9,
      "outputs": [
        {
          "output_type": "stream",
          "text": [
            "26\n",
            "(32, 224, 224, 3)\n"
          ],
          "name": "stdout"
        }
      ]
    },
    {
      "cell_type": "code",
      "metadata": {
        "colab": {
          "base_uri": "https://localhost:8080/"
        },
        "id": "ltxyJVWTqNAO",
        "outputId": "fddc036a-75ce-4eea-c72b-4a0c6444a44b"
      },
      "source": [
        "# MODEL\n",
        "MODULE_HANDLE = 'data/resnet_50_feature_vector'\n",
        "model = tf.keras.Sequential([\n",
        "    hub.KerasLayer(MODULE_HANDLE, input_shape=(IMAGE_SIZE, IMAGE_SIZE, 3)),\n",
        "    tf.keras.layers.Dense(num_classes, activation='softmax')\n",
        "])\n",
        "model.summary()"
      ],
      "execution_count": 10,
      "outputs": [
        {
          "output_type": "stream",
          "text": [
            "Model: \"sequential\"\n",
            "_________________________________________________________________\n",
            "Layer (type)                 Output Shape              Param #   \n",
            "=================================================================\n",
            "keras_layer (KerasLayer)     (None, 2048)              23561152  \n",
            "_________________________________________________________________\n",
            "dense (Dense)                (None, 2)                 4098      \n",
            "=================================================================\n",
            "Total params: 23,565,250\n",
            "Trainable params: 4,098\n",
            "Non-trainable params: 23,561,152\n",
            "_________________________________________________________________\n"
          ],
          "name": "stdout"
        }
      ]
    },
    {
      "cell_type": "code",
      "metadata": {
        "id": "BmgLELrP3g5y"
      },
      "source": [
        "def set_adam_optimizer():    \n",
        "    optimizer = tf.keras.optimizers.Adam()\n",
        "    return optimizer"
      ],
      "execution_count": 11,
      "outputs": []
    },
    {
      "cell_type": "code",
      "metadata": {
        "colab": {
          "base_uri": "https://localhost:8080/"
        },
        "id": "aGGevcQA3g5y",
        "outputId": "2478b381-1ed8-4d01-b9c3-90753ebe6c79"
      },
      "source": [
        "## TEST\n",
        "test_optimizer = set_adam_optimizer()\n",
        "\n",
        "print(type(test_optimizer))\n",
        "del test_optimizer"
      ],
      "execution_count": 12,
      "outputs": [
        {
          "output_type": "stream",
          "text": [
            "<class 'tensorflow.python.keras.optimizer_v2.adam.Adam'>\n"
          ],
          "name": "stdout"
        }
      ]
    },
    {
      "cell_type": "code",
      "metadata": {
        "id": "E-8Jkawq3g5z"
      },
      "source": [
        "def set_sparse_cat_crossentropy_loss():    \n",
        "    train_loss = tf.keras.losses.SparseCategoricalCrossentropy() \n",
        "    val_loss = tf.keras.losses.SparseCategoricalCrossentropy()     \n",
        "    return train_loss, val_loss"
      ],
      "execution_count": 13,
      "outputs": []
    },
    {
      "cell_type": "code",
      "metadata": {
        "colab": {
          "base_uri": "https://localhost:8080/"
        },
        "id": "z708wnWj3g5z",
        "outputId": "12366e72-66ab-4436-b741-248de6ece219"
      },
      "source": [
        "## TEST\n",
        "test_train_loss, test_val_loss = set_sparse_cat_crossentropy_loss()\n",
        "\n",
        "print(type(test_train_loss))\n",
        "print(type(test_val_loss))\n",
        "del test_train_loss, test_val_loss"
      ],
      "execution_count": 14,
      "outputs": [
        {
          "output_type": "stream",
          "text": [
            "<class 'tensorflow.python.keras.losses.SparseCategoricalCrossentropy'>\n",
            "<class 'tensorflow.python.keras.losses.SparseCategoricalCrossentropy'>\n"
          ],
          "name": "stdout"
        }
      ]
    },
    {
      "cell_type": "code",
      "metadata": {
        "id": "DqvDpajC3g50"
      },
      "source": [
        "def set_sparse_cat_crossentropy_accuracy():    \n",
        "    train_accuracy = tf.keras.metrics.SparseCategoricalAccuracy()\n",
        "    val_accuracy = tf.keras.metrics.SparseCategoricalAccuracy()     \n",
        "    return train_accuracy, val_accuracy"
      ],
      "execution_count": 15,
      "outputs": []
    },
    {
      "cell_type": "code",
      "metadata": {
        "colab": {
          "base_uri": "https://localhost:8080/"
        },
        "id": "jt2bcFMd3g50",
        "outputId": "72d2f50a-c139-431f-ded5-0147c4f0fd5e"
      },
      "source": [
        "## TEST\n",
        "test_train_accuracy, test_val_accuracy = set_sparse_cat_crossentropy_accuracy()\n",
        "\n",
        "print(type(test_train_accuracy))\n",
        "print(type(test_val_accuracy))\n",
        "del test_train_accuracy, test_val_accuracy"
      ],
      "execution_count": 16,
      "outputs": [
        {
          "output_type": "stream",
          "text": [
            "<class 'tensorflow.python.keras.metrics.SparseCategoricalAccuracy'>\n",
            "<class 'tensorflow.python.keras.metrics.SparseCategoricalAccuracy'>\n"
          ],
          "name": "stdout"
        }
      ]
    },
    {
      "cell_type": "code",
      "metadata": {
        "id": "j92oDYGCjnBh"
      },
      "source": [
        "optimizer = set_adam_optimizer()\n",
        "train_loss, val_loss = set_sparse_cat_crossentropy_loss()\n",
        "train_accuracy, val_accuracy = set_sparse_cat_crossentropy_accuracy()"
      ],
      "execution_count": 17,
      "outputs": []
    },
    {
      "cell_type": "code",
      "metadata": {
        "id": "3xtg_MMhJETd"
      },
      "source": [
        "# access GPU\n",
        "device = '/gpu:0' if tf.config.list_physical_devices('GPU') else '/cpu:0'\n",
        "EPOCHS = 3\n",
        "\n",
        "# Custom training step\n",
        "def train_one_step(model, optimizer, x, y, train_loss, train_accuracy):\n",
        "    '''\n",
        "    Trains on a batch of images for one step.\n",
        "    \n",
        "    Args:\n",
        "        model (keras Model) -- image classifier\n",
        "        optimizer (keras Optimizer) -- optimizer to use during training\n",
        "        x (Tensor) -- training images\n",
        "        y (Tensor) -- training labels\n",
        "        train_loss (keras Loss) -- loss object for training\n",
        "        train_accuracy (keras Metric) -- accuracy metric for training\n",
        "    '''\n",
        "    with tf.GradientTape() as tape:            \n",
        "        predictions = model(x)        \n",
        "        loss = train_loss(y, predictions)\n",
        "   \n",
        "    grads = tape.gradient(loss, model.trainable_weights)  \n",
        "    optimizer.apply_gradients(zip(grads, model.trainable_weights))\n",
        "    train_accuracy.update_state(y, predictions)\n",
        "    return loss"
      ],
      "execution_count": 18,
      "outputs": []
    },
    {
      "cell_type": "code",
      "metadata": {
        "colab": {
          "base_uri": "https://localhost:8080/"
        },
        "id": "I0ySgeHP3g51",
        "outputId": "cfcabb09-4cee-473f-ff88-27af72816065"
      },
      "source": [
        "## TEST\n",
        "def base_model():\n",
        "    inputs = tf.keras.layers.Input(shape=(2))\n",
        "    x = tf.keras.layers.Dense(64, activation='relu')(inputs)\n",
        "    outputs = tf.keras.layers.Dense(1, activation='sigmoid')(x)\n",
        "    model = tf.keras.Model(inputs=inputs, outputs=outputs)\n",
        "    return model\n",
        "\n",
        "test_model = base_model()\n",
        "\n",
        "test_optimizer = set_adam_optimizer()\n",
        "test_image = tf.ones((2,2))\n",
        "test_label = tf.ones((1,))\n",
        "test_train_loss, _ = set_sparse_cat_crossentropy_loss()\n",
        "test_train_accuracy, _ = set_sparse_cat_crossentropy_accuracy()\n",
        "\n",
        "test_result = train_one_step(test_model, test_optimizer, test_image, test_label, test_train_loss, test_train_accuracy)\n",
        "print(test_result)\n",
        "\n",
        "del test_result, test_model, test_optimizer, test_image, test_label, test_train_loss, test_train_accuracy"
      ],
      "execution_count": 19,
      "outputs": [
        {
          "output_type": "stream",
          "text": [
            "tf.Tensor(0.6931472, shape=(), dtype=float32)\n"
          ],
          "name": "stdout"
        }
      ]
    },
    {
      "cell_type": "code",
      "metadata": {
        "id": "K8bqyB8C3g52"
      },
      "source": [
        "# Enable autograph on the training loop - tf.function\n",
        "@tf.function\n",
        "def train(model, optimizer, epochs, device, train_ds, train_loss, train_accuracy, valid_ds, val_loss, val_accuracy):\n",
        "    '''\n",
        "    Performs the entire training loop. Prints the loss and accuracy per step and epoch.\n",
        "    \n",
        "    Args:\n",
        "        model (keras Model) -- image classifier\n",
        "        optimizer (keras Optimizer) -- optimizer to use during training\n",
        "        epochs (int) -- number of epochs\n",
        "        train_ds (tf Dataset) -- the train set containing image-label pairs\n",
        "        train_loss (keras Loss) -- loss function for training\n",
        "        train_accuracy (keras Metric) -- accuracy metric for training\n",
        "        valid_ds (Tensor) -- the val set containing image-label pairs\n",
        "        val_loss (keras Loss) -- loss object for validation\n",
        "        val_accuracy (keras Metric) -- accuracy metric for validation\n",
        "    '''\n",
        "    step = 0\n",
        "    loss = 0.0\n",
        "    for epoch in range(epochs):\n",
        "        for x, y in train_ds:    \n",
        "            step += 1\n",
        "            with tf.device(device_name=device): # access GPU                \n",
        "                loss = train_one_step(model, optimizer, x, y, train_loss, train_accuracy)\n",
        "              \n",
        "            tf.print('Step', step, \n",
        "                   ': train loss', loss, \n",
        "                   '; train accuracy', train_accuracy.result())\n",
        "\n",
        "        with tf.device(device_name=device):\n",
        "            for x, y in valid_ds:                \n",
        "                y_pred = model(x)\n",
        "                loss = val_loss(y, y_pred)\n",
        "                val_accuracy(y, y_pred)        \n",
        "       \n",
        "        tf.print('val loss', loss, '; val accuracy', val_accuracy.result())        "
      ],
      "execution_count": 20,
      "outputs": []
    },
    {
      "cell_type": "code",
      "metadata": {
        "colab": {
          "base_uri": "https://localhost:8080/"
        },
        "graded": true,
        "id": "6iDWgg977wb9",
        "name": "train",
        "outputId": "75387a52-eb96-464c-c3a9-f7d8cfbc009e"
      },
      "source": [
        "train(model, optimizer, EPOCHS, device, train_ds, train_loss, train_accuracy, valid_ds, val_loss, val_accuracy)"
      ],
      "execution_count": 21,
      "outputs": [
        {
          "output_type": "stream",
          "text": [
            "Step 1 : train loss 0.516057789 ; train accuracy 0.65625\n",
            "Step 2 : train loss 0.197591156 ; train accuracy 0.8125\n",
            "Step 3 : train loss 0.141589761 ; train accuracy 0.864583313\n",
            "Step 4 : train loss 0.05714304 ; train accuracy 0.8984375\n",
            "Step 5 : train loss 0.0652074814 ; train accuracy 0.91875\n",
            "Step 6 : train loss 0.0310707726 ; train accuracy 0.932291687\n",
            "Step 7 : train loss 0.0219821259 ; train accuracy 0.941964269\n",
            "Step 8 : train loss 0.0129072182 ; train accuracy 0.94921875\n",
            "Step 9 : train loss 0.0118642515 ; train accuracy 0.954861104\n",
            "Step 10 : train loss 0.00959129073 ; train accuracy 0.959375\n",
            "Step 11 : train loss 0.00879315287 ; train accuracy 0.963068187\n",
            "Step 12 : train loss 0.00642730761 ; train accuracy 0.966145813\n",
            "Step 13 : train loss 0.0790208057 ; train accuracy 0.966346145\n",
            "Step 14 : train loss 0.00338492589 ; train accuracy 0.96875\n",
            "Step 15 : train loss 0.00177660852 ; train accuracy 0.970833361\n",
            "Step 16 : train loss 0.00145881064 ; train accuracy 0.97265625\n",
            "Step 17 : train loss 0.00210873457 ; train accuracy 0.974264681\n",
            "Step 18 : train loss 0.00222039875 ; train accuracy 0.975694418\n",
            "Step 19 : train loss 0.000924203894 ; train accuracy 0.976973712\n",
            "Step 20 : train loss 0.00165978167 ; train accuracy 0.978125\n",
            "Step 21 : train loss 0.00309004 ; train accuracy 0.979166687\n",
            "Step 22 : train loss 0.00229724823 ; train accuracy 0.980113626\n",
            "Step 23 : train loss 0.000990820117 ; train accuracy 0.980978251\n",
            "Step 24 : train loss 0.00155086396 ; train accuracy 0.981770813\n",
            "Step 25 : train loss 0.00132661592 ; train accuracy 0.9825\n",
            "Step 26 : train loss 0.0020191879 ; train accuracy 0.98296839\n",
            "val loss 0.000820035522 ; val accuracy 1\n",
            "Step 27 : train loss 0.000816300453 ; train accuracy 0.983606577\n",
            "Step 28 : train loss 0.00137781701 ; train accuracy 0.98419863\n",
            "Step 29 : train loss 0.000487427693 ; train accuracy 0.984749436\n",
            "Step 30 : train loss 0.000362609455 ; train accuracy 0.985263169\n",
            "Step 31 : train loss 0.000406197214 ; train accuracy 0.985743403\n",
            "Step 32 : train loss 0.0010499371 ; train accuracy 0.986193299\n",
            "Step 33 : train loss 0.000964239822 ; train accuracy 0.986615658\n",
            "Step 34 : train loss 0.000284738548 ; train accuracy 0.987013\n",
            "Step 35 : train loss 0.0304419361 ; train accuracy 0.986486495\n",
            "Step 36 : train loss 0.0005875192 ; train accuracy 0.986865163\n",
            "Step 37 : train loss 0.000453562971 ; train accuracy 0.987223148\n",
            "Step 38 : train loss 0.000688058615 ; train accuracy 0.98756218\n",
            "Step 39 : train loss 0.00114909955 ; train accuracy 0.987883687\n",
            "Step 40 : train loss 0.000732343411 ; train accuracy 0.988189\n",
            "Step 41 : train loss 0.000882613 ; train accuracy 0.988479257\n",
            "Step 42 : train loss 0.000349810085 ; train accuracy 0.988755643\n",
            "Step 43 : train loss 0.000898416096 ; train accuracy 0.989019036\n",
            "Step 44 : train loss 0.000487233716 ; train accuracy 0.989270389\n",
            "Step 45 : train loss 0.0010041683 ; train accuracy 0.989510477\n",
            "Step 46 : train loss 0.000849160366 ; train accuracy 0.989740074\n",
            "Step 47 : train loss 0.000992407324 ; train accuracy 0.989959836\n",
            "Step 48 : train loss 0.000567327894 ; train accuracy 0.99017036\n",
            "Step 49 : train loss 0.000764912344 ; train accuracy 0.9903723\n",
            "Step 50 : train loss 0.000440541859 ; train accuracy 0.990566\n",
            "Step 51 : train loss 0.000511395046 ; train accuracy 0.990752161\n",
            "Step 52 : train loss 0.000492460968 ; train accuracy 0.9908759\n",
            "val loss 0.00071233738 ; val accuracy 1\n",
            "Step 53 : train loss 0.000650009897 ; train accuracy 0.991050124\n",
            "Step 54 : train loss 0.000876827049 ; train accuracy 0.991217792\n",
            "Step 55 : train loss 0.000494578271 ; train accuracy 0.991379321\n",
            "Step 56 : train loss 0.000471701 ; train accuracy 0.991535\n",
            "Step 57 : train loss 0.000378272671 ; train accuracy 0.991685152\n",
            "Step 58 : train loss 0.000589681556 ; train accuracy 0.991830051\n",
            "Step 59 : train loss 0.000370026159 ; train accuracy 0.99197\n",
            "Step 60 : train loss 0.000369603047 ; train accuracy 0.992105246\n",
            "Step 61 : train loss 0.00066807121 ; train accuracy 0.992236\n",
            "Step 62 : train loss 0.000624613953 ; train accuracy 0.992362499\n",
            "Step 63 : train loss 0.000339366234 ; train accuracy 0.992485\n",
            "Step 64 : train loss 0.0104920147 ; train accuracy 0.99260354\n",
            "Step 65 : train loss 0.000467910548 ; train accuracy 0.992718458\n",
            "Step 66 : train loss 0.000744733 ; train accuracy 0.9928298\n",
            "Step 67 : train loss 0.000255147927 ; train accuracy 0.992937863\n",
            "Step 68 : train loss 0.000250496378 ; train accuracy 0.993042648\n",
            "Step 69 : train loss 0.000590472715 ; train accuracy 0.993144453\n",
            "Step 70 : train loss 0.000691088848 ; train accuracy 0.993243217\n",
            "Step 71 : train loss 0.00030893879 ; train accuracy 0.993339241\n",
            "Step 72 : train loss 0.000476878835 ; train accuracy 0.993432581\n",
            "Step 73 : train loss 0.000420064898 ; train accuracy 0.9935233\n",
            "Step 74 : train loss 0.000440681382 ; train accuracy 0.993611574\n",
            "Step 75 : train loss 0.000385972206 ; train accuracy 0.993697464\n",
            "Step 76 : train loss 0.000614360208 ; train accuracy 0.99378109\n",
            "Step 77 : train loss 0.000477148918 ; train accuracy 0.99386251\n",
            "Step 78 : train loss 0.000370298309 ; train accuracy 0.993917286\n",
            "val loss 0.000626450405 ; val accuracy 1\n"
          ],
          "name": "stdout"
        }
      ]
    },
    {
      "cell_type": "code",
      "metadata": {
        "id": "HwFx4Nbh25p5"
      },
      "source": [
        "# Evaluation\n",
        "\n",
        "test_imgs = []\n",
        "test_labels = []\n",
        "\n",
        "predictions = []\n",
        "with tf.device(device_name=device):\n",
        "    for images, labels in test_ds:\n",
        "        \n",
        "        preds = model(images)\n",
        "        preds = preds.numpy()\n",
        "        predictions.extend(preds)\n",
        "\n",
        "        test_imgs.extend(images.numpy())\n",
        "        test_labels.extend(labels.numpy())"
      ],
      "execution_count": 22,
      "outputs": []
    },
    {
      "cell_type": "code",
      "metadata": {
        "cellView": "form",
        "id": "IiutdErSpRH_"
      },
      "source": [
        "class_names = ['horse', 'human']\n",
        "\n",
        "def plot_image(i, predictions_array, true_label, img):\n",
        "    predictions_array, true_label, img = predictions_array[i], true_label[i], img[i]\n",
        "    plt.grid(False)\n",
        "    plt.xticks([])\n",
        "    plt.yticks([])\n",
        "\n",
        "    img = np.squeeze(img)\n",
        "\n",
        "    plt.imshow(img, cmap=plt.cm.binary)\n",
        "\n",
        "    predicted_label = np.argmax(predictions_array)\n",
        "\n",
        "    if predicted_label == true_label:\n",
        "        color = 'green'\n",
        "    else:\n",
        "        color = 'red'\n",
        " \n",
        "    print(true_label)\n",
        "  \n",
        "    # show the image and overlay the prediction\n",
        "    plt.xlabel(\"{} {:2.0f}% ({})\".format(class_names[predicted_label],\n",
        "                                100*np.max(predictions_array),\n",
        "                                class_names[true_label]),\n",
        "                                color=color)"
      ],
      "execution_count": 23,
      "outputs": []
    },
    {
      "cell_type": "code",
      "metadata": {
        "cellView": "form",
        "colab": {
          "base_uri": "https://localhost:8080/",
          "height": 214
        },
        "id": "aVknjW4A11uz",
        "outputId": "89fd78a6-a38d-4401-a09e-8037a96fb36b"
      },
      "source": [
        "index = 55\n",
        "plt.figure(figsize=(6,3))\n",
        "plt.subplot(1,2,1)\n",
        "plot_image(index, predictions, test_labels, test_imgs)\n",
        "plt.show()"
      ],
      "execution_count": 24,
      "outputs": [
        {
          "output_type": "stream",
          "text": [
            "0\n"
          ],
          "name": "stdout"
        },
        {
          "output_type": "display_data",
          "data": {
            "image/png": "[encoded data removed]",
            "text/plain": [
              "<Figure size 432x216 with 1 Axes>"
            ]
          },
          "metadata": {
            "tags": []
          }
        }
      ]
    }
  ]
}