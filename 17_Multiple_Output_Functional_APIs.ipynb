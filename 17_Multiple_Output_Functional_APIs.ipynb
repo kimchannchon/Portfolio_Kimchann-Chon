{
  "nbformat": 4,
  "nbformat_minor": 0,
  "metadata": {
    "colab": {
      "name": "C1W1_Assignment.ipynb",
      "provenance": []
    },
    "kernelspec": {
      "display_name": "Python 3",
      "language": "python",
      "name": "python3"
    },
    "language_info": {
      "codemirror_mode": {
        "name": "ipython",
        "version": 3
      },
      "file_extension": ".py",
      "mimetype": "text/x-python",
      "name": "python",
      "nbconvert_exporter": "python",
      "pygments_lexer": "ipython3",
      "version": "3.8.8"
    },
    "accelerator": "GPU"
  },
  "cells": [
    {
      "cell_type": "code",
      "metadata": {
        "id": "t8N3pcTQ5oQI"
      },
      "source": [
        "import tensorflow as tf\n",
        "from tensorflow.keras.models import Model\n",
        "from tensorflow.keras.layers import Dense, Input\n",
        "import numpy as np\n",
        "import matplotlib.pyplot as plt\n",
        "import pandas as pd\n",
        "from sklearn.model_selection import train_test_split\n",
        "from sklearn.metrics import confusion_matrix\n",
        "import itertools"
      ],
      "execution_count": 1,
      "outputs": []
    },
    {
      "cell_type": "code",
      "metadata": {
        "deletable": false,
        "id": "2qYAjKXCd4RH",
        "nbgrader": {
          "cell_type": "code",
          "checksum": "cb9f284ba6255170fe04a309a407d72d",
          "grade": false,
          "grade_id": "cell-e5bfa0f152d9a21f",
          "locked": false,
          "schema_version": 3,
          "solution": true,
          "task": false
        }
      },
      "source": [
        "URL = 'http://archive.ics.uci.edu/ml/machine-learning-databases/wine-quality/winequality-white.csv'\n",
        "white_df = pd.read_csv(URL, sep=\";\")\n",
        "\n",
        "# fill the `is_red` column with zeros.\n",
        "white_df[\"is_red\"] = 0\n",
        "\n",
        "# keep only the first of duplicate items\n",
        "white_df = white_df.drop_duplicates(keep='first')"
      ],
      "execution_count": 2,
      "outputs": []
    },
    {
      "cell_type": "code",
      "metadata": {
        "colab": {
          "base_uri": "https://localhost:8080/"
        },
        "id": "OQHK0ohBQRCk",
        "outputId": "ec7e5695-3385-4f3d-a791-ea8e527d3ee5"
      },
      "source": [
        "print(white_df.alcohol[0])\n",
        "print(white_df.alcohol[100])"
      ],
      "execution_count": 3,
      "outputs": [
        {
          "output_type": "stream",
          "text": [
            "8.8\n",
            "9.1\n"
          ],
          "name": "stdout"
        }
      ]
    },
    {
      "cell_type": "code",
      "metadata": {
        "deletable": false,
        "id": "8y3QxKwBed8v",
        "nbgrader": {
          "cell_type": "code",
          "checksum": "be72275f78e2c2d0038dde9aa63f8d4f",
          "grade": false,
          "grade_id": "cell-e47a40f306593274",
          "locked": false,
          "schema_version": 3,
          "solution": true,
          "task": false
        }
      },
      "source": [
        "# Pre-process\n",
        "URL = 'http://archive.ics.uci.edu/ml/machine-learning-databases/wine-quality/winequality-red.csv'\n",
        "red_df = pd.read_csv(URL, sep=\";\")\n",
        "\n",
        "red_df[\"is_red\"] = 1\n",
        "red_df = red_df.drop_duplicates(keep='first')"
      ],
      "execution_count": 4,
      "outputs": []
    },
    {
      "cell_type": "code",
      "metadata": {
        "colab": {
          "base_uri": "https://localhost:8080/"
        },
        "id": "zsB3LUzNQpo_",
        "outputId": "1f817d29-6289-4213-962a-be767474712a"
      },
      "source": [
        "print(red_df.alcohol[0])\n",
        "print(red_df.alcohol[100])"
      ],
      "execution_count": 5,
      "outputs": [
        {
          "output_type": "stream",
          "text": [
            "9.4\n",
            "10.2\n"
          ],
          "name": "stdout"
        }
      ]
    },
    {
      "cell_type": "code",
      "metadata": {
        "id": "YpQrOjJbfN3m"
      },
      "source": [
        "# Concatenate the datasets\n",
        "df = pd.concat([red_df, white_df], ignore_index=True)"
      ],
      "execution_count": 6,
      "outputs": []
    },
    {
      "cell_type": "code",
      "metadata": {
        "colab": {
          "base_uri": "https://localhost:8080/"
        },
        "id": "Se2dTmThQyjb",
        "outputId": "325973fe-e4ec-4240-c597-7d77281698bf"
      },
      "source": [
        "print(df.alcohol[0])\n",
        "print(df.alcohol[100])"
      ],
      "execution_count": 7,
      "outputs": [
        {
          "output_type": "stream",
          "text": [
            "9.4\n",
            "9.5\n"
          ],
          "name": "stdout"
        }
      ]
    },
    {
      "cell_type": "code",
      "metadata": {
        "id": "wx6y3rPpQv4k"
      },
      "source": [
        "# shuffle the data\n",
        "df = df.iloc[np.random.permutation(len(df))]"
      ],
      "execution_count": 8,
      "outputs": []
    },
    {
      "cell_type": "code",
      "metadata": {
        "colab": {
          "base_uri": "https://localhost:8080/",
          "height": 265
        },
        "id": "IsvK0-Sgy17C",
        "outputId": "a25bf505-d2b9-459e-d210-f4d46566f20f"
      },
      "source": [
        "df['quality'].hist(bins=20); "
      ],
      "execution_count": 9,
      "outputs": [
        {
          "output_type": "display_data",
          "data": {
            "image/png": "[encoded data removed]",
            "text/plain": [
              "<Figure size 432x288 with 1 Axes>"
            ]
          },
          "metadata": {
            "tags": [],
            "needs_background": "light"
          }
        }
      ]
    },
    {
      "cell_type": "code",
      "metadata": {
        "deletable": false,
        "id": "doH9_-gnf3sz",
        "nbgrader": {
          "cell_type": "code",
          "checksum": "d9ba9fc3a3ca02ccc567be33652b80fe",
          "grade": false,
          "grade_id": "cell-6a3e9db696f6827b",
          "locked": false,
          "schema_version": 3,
          "solution": true,
          "task": false
        }
      },
      "source": [
        "# Imbalanced data\n",
        "df = df[(df['quality'] > 4) & (df['quality'] < 8 )]\n",
        "\n",
        "# reset index and drop the old one\n",
        "df = df.reset_index(drop=True)"
      ],
      "execution_count": 10,
      "outputs": []
    },
    {
      "cell_type": "code",
      "metadata": {
        "colab": {
          "base_uri": "https://localhost:8080/"
        },
        "id": "xNR1iAlMRPXO",
        "outputId": "406109ee-47dd-43ee-e9e2-03ac3cb28ea3"
      },
      "source": [
        "print(df.alcohol[0])\n",
        "print(df.alcohol[100])"
      ],
      "execution_count": 11,
      "outputs": [
        {
          "output_type": "stream",
          "text": [
            "10.6\n",
            "9.0\n"
          ],
          "name": "stdout"
        }
      ]
    },
    {
      "cell_type": "code",
      "metadata": {
        "colab": {
          "base_uri": "https://localhost:8080/",
          "height": 265
        },
        "id": "857ygzZiLgGg",
        "outputId": "3bd484ae-55e7-4a97-f9c3-f268bc03a489"
      },
      "source": [
        "df['quality'].hist(bins=20);"
      ],
      "execution_count": 12,
      "outputs": [
        {
          "output_type": "display_data",
          "data": {
            "image/png": "[encoded data removed]",
            "text/plain": [
              "<Figure size 432x288 with 1 Axes>"
            ]
          },
          "metadata": {
            "tags": [],
            "needs_background": "light"
          }
        }
      ]
    },
    {
      "cell_type": "code",
      "metadata": {
        "deletable": false,
        "id": "PAVIf2-fgRVY",
        "nbgrader": {
          "cell_type": "code",
          "checksum": "7f5738f4fb51d65adc9a8acbdf2b9970",
          "grade": false,
          "grade_id": "cell-91946cadf745206b",
          "locked": false,
          "schema_version": 3,
          "solution": true,
          "task": false
        }
      },
      "source": [
        "# Train Test Split\n",
        "# split df into 80:20 train and test sets\n",
        "train, test = train_test_split(df, test_size=0.2, random_state = 1)\n",
        "                               \n",
        "# split train into 80:20 train and val sets\n",
        "train, val = train_test_split(train, test_size=0.2, random_state = 1)"
      ],
      "execution_count": 13,
      "outputs": []
    },
    {
      "cell_type": "code",
      "metadata": {
        "id": "Y_afyhhHM6WQ"
      },
      "source": [
        "train_stats = train.describe()\n",
        "train_stats.pop('is_red')\n",
        "train_stats.pop('quality')\n",
        "train_stats = train_stats.transpose()"
      ],
      "execution_count": 14,
      "outputs": []
    },
    {
      "cell_type": "code",
      "metadata": {
        "colab": {
          "base_uri": "https://localhost:8080/",
          "height": 390
        },
        "id": "n_gAtPjZ0otF",
        "outputId": "96169ade-8244-4516-fc0f-59d9edc220e2"
      },
      "source": [
        "train_stats"
      ],
      "execution_count": 15,
      "outputs": [
        {
          "output_type": "execute_result",
          "data": {
            "text/html": [
              "<div>\n",
              "<style scoped>\n",
              "    .dataframe tbody tr th:only-of-type {\n",
              "        vertical-align: middle;\n",
              "    }\n",
              "\n",
              "    .dataframe tbody tr th {\n",
              "        vertical-align: top;\n",
              "    }\n",
              "\n",
              "    .dataframe thead th {\n",
              "        text-align: right;\n",
              "    }\n",
              "</style>\n",
              "<table border=\"1\" class=\"dataframe\">\n",
              "  <thead>\n",
              "    <tr style=\"text-align: right;\">\n",
              "      <th></th>\n",
              "      <th>count</th>\n",
              "      <th>mean</th>\n",
              "      <th>std</th>\n",
              "      <th>min</th>\n",
              "      <th>25%</th>\n",
              "      <th>50%</th>\n",
              "      <th>75%</th>\n",
              "      <th>max</th>\n",
              "    </tr>\n",
              "  </thead>\n",
              "  <tbody>\n",
              "    <tr>\n",
              "      <th>fixed acidity</th>\n",
              "      <td>3155.0</td>\n",
              "      <td>7.213677</td>\n",
              "      <td>1.291486</td>\n",
              "      <td>4.20000</td>\n",
              "      <td>6.4000</td>\n",
              "      <td>7.00000</td>\n",
              "      <td>7.7000</td>\n",
              "      <td>15.50000</td>\n",
              "    </tr>\n",
              "    <tr>\n",
              "      <th>volatile acidity</th>\n",
              "      <td>3155.0</td>\n",
              "      <td>0.338758</td>\n",
              "      <td>0.164656</td>\n",
              "      <td>0.08000</td>\n",
              "      <td>0.2300</td>\n",
              "      <td>0.29000</td>\n",
              "      <td>0.4000</td>\n",
              "      <td>1.33000</td>\n",
              "    </tr>\n",
              "    <tr>\n",
              "      <th>citric acid</th>\n",
              "      <td>3155.0</td>\n",
              "      <td>0.320460</td>\n",
              "      <td>0.146977</td>\n",
              "      <td>0.00000</td>\n",
              "      <td>0.2500</td>\n",
              "      <td>0.31000</td>\n",
              "      <td>0.4000</td>\n",
              "      <td>1.66000</td>\n",
              "    </tr>\n",
              "    <tr>\n",
              "      <th>residual sugar</th>\n",
              "      <td>3155.0</td>\n",
              "      <td>5.108415</td>\n",
              "      <td>4.604200</td>\n",
              "      <td>0.60000</td>\n",
              "      <td>1.8000</td>\n",
              "      <td>2.70000</td>\n",
              "      <td>7.6000</td>\n",
              "      <td>65.80000</td>\n",
              "    </tr>\n",
              "    <tr>\n",
              "      <th>chlorides</th>\n",
              "      <td>3155.0</td>\n",
              "      <td>0.056841</td>\n",
              "      <td>0.036682</td>\n",
              "      <td>0.01200</td>\n",
              "      <td>0.0380</td>\n",
              "      <td>0.04700</td>\n",
              "      <td>0.0660</td>\n",
              "      <td>0.61100</td>\n",
              "    </tr>\n",
              "    <tr>\n",
              "      <th>free sulfur dioxide</th>\n",
              "      <td>3155.0</td>\n",
              "      <td>30.211094</td>\n",
              "      <td>17.140629</td>\n",
              "      <td>1.00000</td>\n",
              "      <td>17.0000</td>\n",
              "      <td>28.00000</td>\n",
              "      <td>41.0000</td>\n",
              "      <td>128.00000</td>\n",
              "    </tr>\n",
              "    <tr>\n",
              "      <th>total sulfur dioxide</th>\n",
              "      <td>3155.0</td>\n",
              "      <td>114.854992</td>\n",
              "      <td>56.385701</td>\n",
              "      <td>6.00000</td>\n",
              "      <td>76.0000</td>\n",
              "      <td>117.00000</td>\n",
              "      <td>154.0000</td>\n",
              "      <td>344.00000</td>\n",
              "    </tr>\n",
              "    <tr>\n",
              "      <th>density</th>\n",
              "      <td>3155.0</td>\n",
              "      <td>0.994586</td>\n",
              "      <td>0.002972</td>\n",
              "      <td>0.98711</td>\n",
              "      <td>0.9923</td>\n",
              "      <td>0.99471</td>\n",
              "      <td>0.9968</td>\n",
              "      <td>1.03898</td>\n",
              "    </tr>\n",
              "    <tr>\n",
              "      <th>pH</th>\n",
              "      <td>3155.0</td>\n",
              "      <td>3.222913</td>\n",
              "      <td>0.157980</td>\n",
              "      <td>2.72000</td>\n",
              "      <td>3.1200</td>\n",
              "      <td>3.21000</td>\n",
              "      <td>3.3200</td>\n",
              "      <td>4.01000</td>\n",
              "    </tr>\n",
              "    <tr>\n",
              "      <th>sulphates</th>\n",
              "      <td>3155.0</td>\n",
              "      <td>0.535255</td>\n",
              "      <td>0.148562</td>\n",
              "      <td>0.23000</td>\n",
              "      <td>0.4400</td>\n",
              "      <td>0.51000</td>\n",
              "      <td>0.6000</td>\n",
              "      <td>1.95000</td>\n",
              "    </tr>\n",
              "    <tr>\n",
              "      <th>alcohol</th>\n",
              "      <td>3155.0</td>\n",
              "      <td>10.521450</td>\n",
              "      <td>1.168752</td>\n",
              "      <td>8.40000</td>\n",
              "      <td>9.5000</td>\n",
              "      <td>10.40000</td>\n",
              "      <td>11.3000</td>\n",
              "      <td>14.20000</td>\n",
              "    </tr>\n",
              "  </tbody>\n",
              "</table>\n",
              "</div>"
            ],
            "text/plain": [
              "                       count        mean  ...       75%        max\n",
              "fixed acidity         3155.0    7.213677  ...    7.7000   15.50000\n",
              "volatile acidity      3155.0    0.338758  ...    0.4000    1.33000\n",
              "citric acid           3155.0    0.320460  ...    0.4000    1.66000\n",
              "residual sugar        3155.0    5.108415  ...    7.6000   65.80000\n",
              "chlorides             3155.0    0.056841  ...    0.0660    0.61100\n",
              "free sulfur dioxide   3155.0   30.211094  ...   41.0000  128.00000\n",
              "total sulfur dioxide  3155.0  114.854992  ...  154.0000  344.00000\n",
              "density               3155.0    0.994586  ...    0.9968    1.03898\n",
              "pH                    3155.0    3.222913  ...    3.3200    4.01000\n",
              "sulphates             3155.0    0.535255  ...    0.6000    1.95000\n",
              "alcohol               3155.0   10.521450  ...   11.3000   14.20000\n",
              "\n",
              "[11 rows x 8 columns]"
            ]
          },
          "metadata": {
            "tags": []
          },
          "execution_count": 15
        }
      ]
    },
    {
      "cell_type": "code",
      "metadata": {
        "id": "Z_fs14XQqZVP"
      },
      "source": [
        "# Get the labels\n",
        "def format_output(data):\n",
        "    is_red = data.pop('is_red')\n",
        "    is_red = np.array(is_red)\n",
        "    quality = data.pop('quality')\n",
        "    quality = np.array(quality)\n",
        "    return (quality, is_red)"
      ],
      "execution_count": 16,
      "outputs": []
    },
    {
      "cell_type": "code",
      "metadata": {
        "deletable": false,
        "id": "8L3ZZe1fQicm",
        "nbgrader": {
          "cell_type": "code",
          "checksum": "7a86809e54895a816434c48dc903f55d",
          "grade": false,
          "grade_id": "cell-5c30fa2c2a354b0f",
          "locked": false,
          "schema_version": 3,
          "solution": true,
          "task": false
        }
      },
      "source": [
        "# format the output of the train set\n",
        "train_Y = format_output(train)\n",
        "\n",
        "# format the output of the val set\n",
        "val_Y = format_output(val)\n",
        "    \n",
        "# format the output of the test set\n",
        "test_Y = format_output(test)"
      ],
      "execution_count": 17,
      "outputs": []
    },
    {
      "cell_type": "code",
      "metadata": {
        "colab": {
          "base_uri": "https://localhost:8080/",
          "height": 204
        },
        "id": "t7BKg7C0J41j",
        "outputId": "7214c9bb-ccd3-4bc7-930a-594a12d531f3"
      },
      "source": [
        "train.head()"
      ],
      "execution_count": 18,
      "outputs": [
        {
          "output_type": "execute_result",
          "data": {
            "text/html": [
              "<div>\n",
              "<style scoped>\n",
              "    .dataframe tbody tr th:only-of-type {\n",
              "        vertical-align: middle;\n",
              "    }\n",
              "\n",
              "    .dataframe tbody tr th {\n",
              "        vertical-align: top;\n",
              "    }\n",
              "\n",
              "    .dataframe thead th {\n",
              "        text-align: right;\n",
              "    }\n",
              "</style>\n",
              "<table border=\"1\" class=\"dataframe\">\n",
              "  <thead>\n",
              "    <tr style=\"text-align: right;\">\n",
              "      <th></th>\n",
              "      <th>fixed acidity</th>\n",
              "      <th>volatile acidity</th>\n",
              "      <th>citric acid</th>\n",
              "      <th>residual sugar</th>\n",
              "      <th>chlorides</th>\n",
              "      <th>free sulfur dioxide</th>\n",
              "      <th>total sulfur dioxide</th>\n",
              "      <th>density</th>\n",
              "      <th>pH</th>\n",
              "      <th>sulphates</th>\n",
              "      <th>alcohol</th>\n",
              "    </tr>\n",
              "  </thead>\n",
              "  <tbody>\n",
              "    <tr>\n",
              "      <th>225</th>\n",
              "      <td>6.5</td>\n",
              "      <td>0.21</td>\n",
              "      <td>0.40</td>\n",
              "      <td>7.3</td>\n",
              "      <td>0.041</td>\n",
              "      <td>49.0</td>\n",
              "      <td>115.0</td>\n",
              "      <td>0.99268</td>\n",
              "      <td>3.21</td>\n",
              "      <td>0.43</td>\n",
              "      <td>11.0</td>\n",
              "    </tr>\n",
              "    <tr>\n",
              "      <th>3557</th>\n",
              "      <td>7.5</td>\n",
              "      <td>0.19</td>\n",
              "      <td>0.34</td>\n",
              "      <td>2.6</td>\n",
              "      <td>0.037</td>\n",
              "      <td>33.0</td>\n",
              "      <td>125.0</td>\n",
              "      <td>0.99230</td>\n",
              "      <td>3.10</td>\n",
              "      <td>0.49</td>\n",
              "      <td>11.1</td>\n",
              "    </tr>\n",
              "    <tr>\n",
              "      <th>3825</th>\n",
              "      <td>9.2</td>\n",
              "      <td>0.43</td>\n",
              "      <td>0.49</td>\n",
              "      <td>2.4</td>\n",
              "      <td>0.086</td>\n",
              "      <td>23.0</td>\n",
              "      <td>116.0</td>\n",
              "      <td>0.99760</td>\n",
              "      <td>3.23</td>\n",
              "      <td>0.64</td>\n",
              "      <td>9.5</td>\n",
              "    </tr>\n",
              "    <tr>\n",
              "      <th>1740</th>\n",
              "      <td>5.9</td>\n",
              "      <td>0.25</td>\n",
              "      <td>0.19</td>\n",
              "      <td>12.4</td>\n",
              "      <td>0.047</td>\n",
              "      <td>50.0</td>\n",
              "      <td>162.0</td>\n",
              "      <td>0.99730</td>\n",
              "      <td>3.35</td>\n",
              "      <td>0.38</td>\n",
              "      <td>9.5</td>\n",
              "    </tr>\n",
              "    <tr>\n",
              "      <th>1221</th>\n",
              "      <td>5.7</td>\n",
              "      <td>0.15</td>\n",
              "      <td>0.28</td>\n",
              "      <td>3.7</td>\n",
              "      <td>0.045</td>\n",
              "      <td>57.0</td>\n",
              "      <td>151.0</td>\n",
              "      <td>0.99130</td>\n",
              "      <td>3.22</td>\n",
              "      <td>0.27</td>\n",
              "      <td>11.2</td>\n",
              "    </tr>\n",
              "  </tbody>\n",
              "</table>\n",
              "</div>"
            ],
            "text/plain": [
              "      fixed acidity  volatile acidity  citric acid  ...    pH  sulphates  alcohol\n",
              "225             6.5              0.21         0.40  ...  3.21       0.43     11.0\n",
              "3557            7.5              0.19         0.34  ...  3.10       0.49     11.1\n",
              "3825            9.2              0.43         0.49  ...  3.23       0.64      9.5\n",
              "1740            5.9              0.25         0.19  ...  3.35       0.38      9.5\n",
              "1221            5.7              0.15         0.28  ...  3.22       0.27     11.2\n",
              "\n",
              "[5 rows x 11 columns]"
            ]
          },
          "metadata": {
            "tags": []
          },
          "execution_count": 18
        }
      ]
    },
    {
      "cell_type": "code",
      "metadata": {
        "id": "WWiZPAHCLjUs"
      },
      "source": [
        "# Normalize the data\n",
        "def norm(x):\n",
        "    return (x - train_stats['mean']) / train_stats['std']"
      ],
      "execution_count": 19,
      "outputs": []
    },
    {
      "cell_type": "code",
      "metadata": {
        "deletable": false,
        "id": "JEaOi2I2Lk69",
        "nbgrader": {
          "cell_type": "code",
          "checksum": "6bc0cdcb563d192f271067aa3373ff32",
          "grade": false,
          "grade_id": "cell-d8416d975c371095",
          "locked": false,
          "schema_version": 3,
          "solution": true,
          "task": false
        }
      },
      "source": [
        "# normalize the train set\n",
        "norm_train_X = norm(train)\n",
        "    \n",
        "# normalize the val set\n",
        "norm_val_X = norm(val)\n",
        "    \n",
        "# normalize the test set\n",
        "norm_test_X = norm(test)"
      ],
      "execution_count": 20,
      "outputs": []
    },
    {
      "cell_type": "code",
      "metadata": {
        "deletable": false,
        "id": "Rhcns3oTFkM6",
        "nbgrader": {
          "cell_type": "code",
          "checksum": "74b031247e569526552bf13a034a1c07",
          "grade": false,
          "grade_id": "cell-73fceedad1fe351c",
          "locked": false,
          "schema_version": 3,
          "solution": true,
          "task": false
        }
      },
      "source": [
        "def base_model(inputs):\n",
        "    x = Dense(128, activation=\"relu\", name=\"dense1\")(inputs)\n",
        "    x = Dense(128, activation=\"relu\", name=\"dense2\")(x)\n",
        "    return x"
      ],
      "execution_count": 21,
      "outputs": []
    },
    {
      "cell_type": "code",
      "metadata": {
        "deletable": false,
        "id": "n5UGF8PMVLPt",
        "nbgrader": {
          "cell_type": "code",
          "checksum": "76d35b90d20cdcbb22986cd8211057de",
          "grade": false,
          "grade_id": "cell-19e285f482f021fb",
          "locked": false,
          "schema_version": 3,
          "solution": true,
          "task": false
        }
      },
      "source": [
        "# output layers\n",
        "def final_model(inputs):\n",
        "    x = base_model(inputs)\n",
        "    # regression\n",
        "    wine_quality = Dense(units='1', name='wine_quality')(x)\n",
        "    # classification\n",
        "    wine_type = Dense(units='1', activation=\"sigmoid\", name='wine_type')(x)\n",
        "    model = Model(inputs=inputs, outputs=[wine_quality, wine_type] )\n",
        "    return model"
      ],
      "execution_count": 22,
      "outputs": []
    },
    {
      "cell_type": "code",
      "metadata": {
        "colab": {
          "base_uri": "https://localhost:8080/"
        },
        "deletable": false,
        "id": "LK11duUbUjmh",
        "nbgrader": {
          "cell_type": "code",
          "checksum": "22f45067ca69eb2ccadb43874dbcc27b",
          "grade": false,
          "grade_id": "cell-81afdc4dcca51d5e",
          "locked": false,
          "schema_version": 3,
          "solution": true,
          "task": false
        },
        "outputId": "411cf205-ede6-4654-c006-f322bf03bc18"
      },
      "source": [
        "inputs = tf.keras.layers.Input(shape=(11,))\n",
        "rms = tf.keras.optimizers.RMSprop(lr=0.0001)\n",
        "model = final_model(inputs)\n",
        "\n",
        "model.compile(optimizer=rms, \n",
        "              loss = {'wine_type' : \"binary_crossentropy\",\n",
        "                      'wine_quality' : \"mse\"\n",
        "                     },\n",
        "              metrics = {'wine_type' : \"accuracy\",\n",
        "                         'wine_quality': tf.keras.metrics.RootMeanSquaredError()\n",
        "                       }\n",
        "             )"
      ],
      "execution_count": 23,
      "outputs": [
        {
          "output_type": "stream",
          "text": [
            "/usr/local/lib/python3.7/dist-packages/tensorflow/python/keras/optimizer_v2/optimizer_v2.py:375: UserWarning: The `lr` argument is deprecated, use `learning_rate` instead.\n",
            "  \"The `lr` argument is deprecated, use `learning_rate` instead.\")\n"
          ],
          "name": "stderr"
        }
      ]
    },
    {
      "cell_type": "code",
      "metadata": {
        "id": "WyLdJrxPJ41m"
      },
      "source": [
        "cb_cp = tf.keras.callbacks.ModelCheckpoint(\"best_model.h5\", save_weights_only=True, save_best_only=True, monitor=\"loss\")"
      ],
      "execution_count": 24,
      "outputs": []
    },
    {
      "cell_type": "code",
      "metadata": {
        "colab": {
          "base_uri": "https://localhost:8080/"
        },
        "deletable": false,
        "id": "_eiZkle4XwiY",
        "nbgrader": {
          "cell_type": "code",
          "checksum": "2ca7664be03bfd6fd3651ae44d17b793",
          "grade": false,
          "grade_id": "cell-0bb56262896f6680",
          "locked": false,
          "schema_version": 3,
          "solution": true,
          "task": false
        },
        "outputId": "5e450c40-470d-4388-cc2b-ac1902751790"
      },
      "source": [
        "history = model.fit(norm_train_X, train_Y,\n",
        "                    epochs=100, validation_data=(norm_val_X, val_Y),\n",
        "                    callbacks=[cb_cp])\n",
        "\n",
        "model.load_weights(\"best_model.h5\")"
      ],
      "execution_count": 25,
      "outputs": [
        {
          "output_type": "stream",
          "text": [
            "Epoch 1/100\n",
            "99/99 [==============================] - 4s 6ms/step - loss: 25.8981 - wine_quality_loss: 25.2072 - wine_type_loss: 0.6908 - wine_quality_root_mean_squared_error: 5.0207 - wine_type_accuracy: 0.5217 - val_loss: 18.4168 - val_wine_quality_loss: 17.7343 - val_wine_type_loss: 0.6826 - val_wine_quality_root_mean_squared_error: 4.2112 - val_wine_type_accuracy: 0.5539\n",
            "Epoch 2/100\n",
            "99/99 [==============================] - 0s 4ms/step - loss: 12.8881 - wine_quality_loss: 12.2207 - wine_type_loss: 0.6673 - wine_quality_root_mean_squared_error: 3.4958 - wine_type_accuracy: 0.6158 - val_loss: 7.5956 - val_wine_quality_loss: 6.9467 - val_wine_type_loss: 0.6489 - val_wine_quality_root_mean_squared_error: 2.6357 - val_wine_type_accuracy: 0.6502\n",
            "Epoch 3/100\n",
            "99/99 [==============================] - 0s 4ms/step - loss: 5.2455 - wine_quality_loss: 4.6417 - wine_type_loss: 0.6039 - wine_quality_root_mean_squared_error: 2.1545 - wine_type_accuracy: 0.7179 - val_loss: 3.3615 - val_wine_quality_loss: 2.8066 - val_wine_type_loss: 0.5549 - val_wine_quality_root_mean_squared_error: 1.6753 - val_wine_type_accuracy: 0.7123\n",
            "Epoch 4/100\n",
            "99/99 [==============================] - 0s 4ms/step - loss: 3.0901 - wine_quality_loss: 2.6073 - wine_type_loss: 0.4828 - wine_quality_root_mean_squared_error: 1.6147 - wine_type_accuracy: 0.7784 - val_loss: 2.6114 - val_wine_quality_loss: 2.1852 - val_wine_type_loss: 0.4262 - val_wine_quality_root_mean_squared_error: 1.4782 - val_wine_type_accuracy: 0.8390\n",
            "Epoch 5/100\n",
            "99/99 [==============================] - 0s 4ms/step - loss: 2.5043 - wine_quality_loss: 2.1345 - wine_type_loss: 0.3698 - wine_quality_root_mean_squared_error: 1.4610 - wine_type_accuracy: 0.8897 - val_loss: 2.2240 - val_wine_quality_loss: 1.8989 - val_wine_type_loss: 0.3251 - val_wine_quality_root_mean_squared_error: 1.3780 - val_wine_type_accuracy: 0.9227\n",
            "Epoch 6/100\n",
            "99/99 [==============================] - 0s 4ms/step - loss: 2.1163 - wine_quality_loss: 1.8370 - wine_type_loss: 0.2793 - wine_quality_root_mean_squared_error: 1.3554 - wine_type_accuracy: 0.9515 - val_loss: 1.9540 - val_wine_quality_loss: 1.7103 - val_wine_type_loss: 0.2437 - val_wine_quality_root_mean_squared_error: 1.3078 - val_wine_type_accuracy: 0.9607\n",
            "Epoch 7/100\n",
            "99/99 [==============================] - 0s 4ms/step - loss: 1.8601 - wine_quality_loss: 1.6463 - wine_type_loss: 0.2138 - wine_quality_root_mean_squared_error: 1.2831 - wine_type_accuracy: 0.9756 - val_loss: 1.7664 - val_wine_quality_loss: 1.5800 - val_wine_type_loss: 0.1864 - val_wine_quality_root_mean_squared_error: 1.2570 - val_wine_type_accuracy: 0.9721\n",
            "Epoch 8/100\n",
            "99/99 [==============================] - 0s 4ms/step - loss: 1.6762 - wine_quality_loss: 1.5088 - wine_type_loss: 0.1674 - wine_quality_root_mean_squared_error: 1.2283 - wine_type_accuracy: 0.9845 - val_loss: 1.6262 - val_wine_quality_loss: 1.4804 - val_wine_type_loss: 0.1458 - val_wine_quality_root_mean_squared_error: 1.2167 - val_wine_type_accuracy: 0.9797\n",
            "Epoch 9/100\n",
            "99/99 [==============================] - 0s 4ms/step - loss: 1.5397 - wine_quality_loss: 1.4050 - wine_type_loss: 0.1347 - wine_quality_root_mean_squared_error: 1.1853 - wine_type_accuracy: 0.9854 - val_loss: 1.5006 - val_wine_quality_loss: 1.3825 - val_wine_type_loss: 0.1181 - val_wine_quality_root_mean_squared_error: 1.1758 - val_wine_type_accuracy: 0.9848\n",
            "Epoch 10/100\n",
            "99/99 [==============================] - 0s 4ms/step - loss: 1.4240 - wine_quality_loss: 1.3118 - wine_type_loss: 0.1122 - wine_quality_root_mean_squared_error: 1.1453 - wine_type_accuracy: 0.9861 - val_loss: 1.4052 - val_wine_quality_loss: 1.3065 - val_wine_type_loss: 0.0987 - val_wine_quality_root_mean_squared_error: 1.1430 - val_wine_type_accuracy: 0.9873\n",
            "Epoch 11/100\n",
            "99/99 [==============================] - 0s 5ms/step - loss: 1.3210 - wine_quality_loss: 1.2251 - wine_type_loss: 0.0959 - wine_quality_root_mean_squared_error: 1.1068 - wine_type_accuracy: 0.9864 - val_loss: 1.3354 - val_wine_quality_loss: 1.2509 - val_wine_type_loss: 0.0846 - val_wine_quality_root_mean_squared_error: 1.1184 - val_wine_type_accuracy: 0.9886\n",
            "Epoch 12/100\n",
            "99/99 [==============================] - 0s 5ms/step - loss: 1.2370 - wine_quality_loss: 1.1526 - wine_type_loss: 0.0844 - wine_quality_root_mean_squared_error: 1.0736 - wine_type_accuracy: 0.9876 - val_loss: 1.2546 - val_wine_quality_loss: 1.1809 - val_wine_type_loss: 0.0737 - val_wine_quality_root_mean_squared_error: 1.0867 - val_wine_type_accuracy: 0.9899\n",
            "Epoch 13/100\n",
            "99/99 [==============================] - 0s 4ms/step - loss: 1.1580 - wine_quality_loss: 1.0825 - wine_type_loss: 0.0755 - wine_quality_root_mean_squared_error: 1.0404 - wine_type_accuracy: 0.9876 - val_loss: 1.1662 - val_wine_quality_loss: 1.1006 - val_wine_type_loss: 0.0656 - val_wine_quality_root_mean_squared_error: 1.0491 - val_wine_type_accuracy: 0.9911\n",
            "Epoch 14/100\n",
            "99/99 [==============================] - 0s 5ms/step - loss: 1.0860 - wine_quality_loss: 1.0174 - wine_type_loss: 0.0687 - wine_quality_root_mean_squared_error: 1.0086 - wine_type_accuracy: 0.9880 - val_loss: 1.1015 - val_wine_quality_loss: 1.0423 - val_wine_type_loss: 0.0592 - val_wine_quality_root_mean_squared_error: 1.0209 - val_wine_type_accuracy: 0.9924\n",
            "Epoch 15/100\n",
            "99/99 [==============================] - 0s 4ms/step - loss: 1.0204 - wine_quality_loss: 0.9568 - wine_type_loss: 0.0636 - wine_quality_root_mean_squared_error: 0.9782 - wine_type_accuracy: 0.9880 - val_loss: 1.0455 - val_wine_quality_loss: 0.9907 - val_wine_type_loss: 0.0547 - val_wine_quality_root_mean_squared_error: 0.9954 - val_wine_type_accuracy: 0.9924\n",
            "Epoch 16/100\n",
            "99/99 [==============================] - 0s 4ms/step - loss: 0.9624 - wine_quality_loss: 0.9027 - wine_type_loss: 0.0597 - wine_quality_root_mean_squared_error: 0.9501 - wine_type_accuracy: 0.9892 - val_loss: 0.9971 - val_wine_quality_loss: 0.9459 - val_wine_type_loss: 0.0512 - val_wine_quality_root_mean_squared_error: 0.9726 - val_wine_type_accuracy: 0.9924\n",
            "Epoch 17/100\n",
            "99/99 [==============================] - 0s 4ms/step - loss: 0.9065 - wine_quality_loss: 0.8498 - wine_type_loss: 0.0567 - wine_quality_root_mean_squared_error: 0.9218 - wine_type_accuracy: 0.9895 - val_loss: 0.9368 - val_wine_quality_loss: 0.8886 - val_wine_type_loss: 0.0482 - val_wine_quality_root_mean_squared_error: 0.9426 - val_wine_type_accuracy: 0.9924\n",
            "Epoch 18/100\n",
            "99/99 [==============================] - 0s 4ms/step - loss: 0.8606 - wine_quality_loss: 0.8064 - wine_type_loss: 0.0542 - wine_quality_root_mean_squared_error: 0.8980 - wine_type_accuracy: 0.9895 - val_loss: 0.8934 - val_wine_quality_loss: 0.8475 - val_wine_type_loss: 0.0458 - val_wine_quality_root_mean_squared_error: 0.9206 - val_wine_type_accuracy: 0.9924\n",
            "Epoch 19/100\n",
            "99/99 [==============================] - 0s 4ms/step - loss: 0.8127 - wine_quality_loss: 0.7606 - wine_type_loss: 0.0521 - wine_quality_root_mean_squared_error: 0.8721 - wine_type_accuracy: 0.9905 - val_loss: 0.8528 - val_wine_quality_loss: 0.8089 - val_wine_type_loss: 0.0439 - val_wine_quality_root_mean_squared_error: 0.8994 - val_wine_type_accuracy: 0.9924\n",
            "Epoch 20/100\n",
            "99/99 [==============================] - 0s 4ms/step - loss: 0.7690 - wine_quality_loss: 0.7186 - wine_type_loss: 0.0505 - wine_quality_root_mean_squared_error: 0.8477 - wine_type_accuracy: 0.9905 - val_loss: 0.8165 - val_wine_quality_loss: 0.7741 - val_wine_type_loss: 0.0424 - val_wine_quality_root_mean_squared_error: 0.8798 - val_wine_type_accuracy: 0.9924\n",
            "Epoch 21/100\n",
            "99/99 [==============================] - 0s 4ms/step - loss: 0.7313 - wine_quality_loss: 0.6822 - wine_type_loss: 0.0490 - wine_quality_root_mean_squared_error: 0.8260 - wine_type_accuracy: 0.9905 - val_loss: 0.7729 - val_wine_quality_loss: 0.7320 - val_wine_type_loss: 0.0409 - val_wine_quality_root_mean_squared_error: 0.8556 - val_wine_type_accuracy: 0.9924\n",
            "Epoch 22/100\n",
            "99/99 [==============================] - 0s 4ms/step - loss: 0.6943 - wine_quality_loss: 0.6464 - wine_type_loss: 0.0479 - wine_quality_root_mean_squared_error: 0.8040 - wine_type_accuracy: 0.9905 - val_loss: 0.7403 - val_wine_quality_loss: 0.7005 - val_wine_type_loss: 0.0398 - val_wine_quality_root_mean_squared_error: 0.8370 - val_wine_type_accuracy: 0.9924\n",
            "Epoch 23/100\n",
            "99/99 [==============================] - 0s 4ms/step - loss: 0.6621 - wine_quality_loss: 0.6152 - wine_type_loss: 0.0469 - wine_quality_root_mean_squared_error: 0.7843 - wine_type_accuracy: 0.9902 - val_loss: 0.7110 - val_wine_quality_loss: 0.6723 - val_wine_type_loss: 0.0388 - val_wine_quality_root_mean_squared_error: 0.8199 - val_wine_type_accuracy: 0.9924\n",
            "Epoch 24/100\n",
            "99/99 [==============================] - 0s 4ms/step - loss: 0.6319 - wine_quality_loss: 0.5859 - wine_type_loss: 0.0460 - wine_quality_root_mean_squared_error: 0.7654 - wine_type_accuracy: 0.9902 - val_loss: 0.6846 - val_wine_quality_loss: 0.6467 - val_wine_type_loss: 0.0379 - val_wine_quality_root_mean_squared_error: 0.8042 - val_wine_type_accuracy: 0.9924\n",
            "Epoch 25/100\n",
            "99/99 [==============================] - 0s 4ms/step - loss: 0.6056 - wine_quality_loss: 0.5603 - wine_type_loss: 0.0452 - wine_quality_root_mean_squared_error: 0.7486 - wine_type_accuracy: 0.9902 - val_loss: 0.6536 - val_wine_quality_loss: 0.6166 - val_wine_type_loss: 0.0371 - val_wine_quality_root_mean_squared_error: 0.7852 - val_wine_type_accuracy: 0.9924\n",
            "Epoch 26/100\n",
            "99/99 [==============================] - 0s 4ms/step - loss: 0.5795 - wine_quality_loss: 0.5350 - wine_type_loss: 0.0445 - wine_quality_root_mean_squared_error: 0.7314 - wine_type_accuracy: 0.9902 - val_loss: 0.6317 - val_wine_quality_loss: 0.5953 - val_wine_type_loss: 0.0364 - val_wine_quality_root_mean_squared_error: 0.7716 - val_wine_type_accuracy: 0.9924\n",
            "Epoch 27/100\n",
            "99/99 [==============================] - 0s 4ms/step - loss: 0.5543 - wine_quality_loss: 0.5104 - wine_type_loss: 0.0439 - wine_quality_root_mean_squared_error: 0.7144 - wine_type_accuracy: 0.9899 - val_loss: 0.6064 - val_wine_quality_loss: 0.5705 - val_wine_type_loss: 0.0359 - val_wine_quality_root_mean_squared_error: 0.7553 - val_wine_type_accuracy: 0.9924\n",
            "Epoch 28/100\n",
            "99/99 [==============================] - 0s 4ms/step - loss: 0.5330 - wine_quality_loss: 0.4897 - wine_type_loss: 0.0433 - wine_quality_root_mean_squared_error: 0.6998 - wine_type_accuracy: 0.9908 - val_loss: 0.5833 - val_wine_quality_loss: 0.5481 - val_wine_type_loss: 0.0352 - val_wine_quality_root_mean_squared_error: 0.7403 - val_wine_type_accuracy: 0.9924\n",
            "Epoch 29/100\n",
            "99/99 [==============================] - 0s 4ms/step - loss: 0.5105 - wine_quality_loss: 0.4679 - wine_type_loss: 0.0426 - wine_quality_root_mean_squared_error: 0.6840 - wine_type_accuracy: 0.9911 - val_loss: 0.5744 - val_wine_quality_loss: 0.5399 - val_wine_type_loss: 0.0346 - val_wine_quality_root_mean_squared_error: 0.7347 - val_wine_type_accuracy: 0.9924\n",
            "Epoch 30/100\n",
            "99/99 [==============================] - 0s 4ms/step - loss: 0.4944 - wine_quality_loss: 0.4523 - wine_type_loss: 0.0422 - wine_quality_root_mean_squared_error: 0.6725 - wine_type_accuracy: 0.9914 - val_loss: 0.5560 - val_wine_quality_loss: 0.5219 - val_wine_type_loss: 0.0341 - val_wine_quality_root_mean_squared_error: 0.7224 - val_wine_type_accuracy: 0.9924\n",
            "Epoch 31/100\n",
            "99/99 [==============================] - 0s 4ms/step - loss: 0.4781 - wine_quality_loss: 0.4364 - wine_type_loss: 0.0417 - wine_quality_root_mean_squared_error: 0.6606 - wine_type_accuracy: 0.9918 - val_loss: 0.5434 - val_wine_quality_loss: 0.5098 - val_wine_type_loss: 0.0336 - val_wine_quality_root_mean_squared_error: 0.7140 - val_wine_type_accuracy: 0.9937\n",
            "Epoch 32/100\n",
            "99/99 [==============================] - 0s 4ms/step - loss: 0.4610 - wine_quality_loss: 0.4197 - wine_type_loss: 0.0413 - wine_quality_root_mean_squared_error: 0.6478 - wine_type_accuracy: 0.9914 - val_loss: 0.5259 - val_wine_quality_loss: 0.4927 - val_wine_type_loss: 0.0332 - val_wine_quality_root_mean_squared_error: 0.7019 - val_wine_type_accuracy: 0.9937\n",
            "Epoch 33/100\n",
            "99/99 [==============================] - 0s 4ms/step - loss: 0.4469 - wine_quality_loss: 0.4060 - wine_type_loss: 0.0409 - wine_quality_root_mean_squared_error: 0.6372 - wine_type_accuracy: 0.9918 - val_loss: 0.5104 - val_wine_quality_loss: 0.4775 - val_wine_type_loss: 0.0328 - val_wine_quality_root_mean_squared_error: 0.6910 - val_wine_type_accuracy: 0.9937\n",
            "Epoch 34/100\n",
            "99/99 [==============================] - 0s 4ms/step - loss: 0.4346 - wine_quality_loss: 0.3941 - wine_type_loss: 0.0405 - wine_quality_root_mean_squared_error: 0.6278 - wine_type_accuracy: 0.9921 - val_loss: 0.4949 - val_wine_quality_loss: 0.4625 - val_wine_type_loss: 0.0324 - val_wine_quality_root_mean_squared_error: 0.6801 - val_wine_type_accuracy: 0.9937\n",
            "Epoch 35/100\n",
            "99/99 [==============================] - 0s 4ms/step - loss: 0.4225 - wine_quality_loss: 0.3825 - wine_type_loss: 0.0401 - wine_quality_root_mean_squared_error: 0.6185 - wine_type_accuracy: 0.9918 - val_loss: 0.4893 - val_wine_quality_loss: 0.4573 - val_wine_type_loss: 0.0320 - val_wine_quality_root_mean_squared_error: 0.6762 - val_wine_type_accuracy: 0.9937\n",
            "Epoch 36/100\n",
            "99/99 [==============================] - 0s 4ms/step - loss: 0.4132 - wine_quality_loss: 0.3736 - wine_type_loss: 0.0396 - wine_quality_root_mean_squared_error: 0.6112 - wine_type_accuracy: 0.9921 - val_loss: 0.4757 - val_wine_quality_loss: 0.4441 - val_wine_type_loss: 0.0317 - val_wine_quality_root_mean_squared_error: 0.6664 - val_wine_type_accuracy: 0.9937\n",
            "Epoch 37/100\n",
            "99/99 [==============================] - 0s 4ms/step - loss: 0.4031 - wine_quality_loss: 0.3638 - wine_type_loss: 0.0393 - wine_quality_root_mean_squared_error: 0.6031 - wine_type_accuracy: 0.9924 - val_loss: 0.4700 - val_wine_quality_loss: 0.4387 - val_wine_type_loss: 0.0313 - val_wine_quality_root_mean_squared_error: 0.6623 - val_wine_type_accuracy: 0.9949\n",
            "Epoch 38/100\n",
            "99/99 [==============================] - 0s 4ms/step - loss: 0.3955 - wine_quality_loss: 0.3566 - wine_type_loss: 0.0389 - wine_quality_root_mean_squared_error: 0.5972 - wine_type_accuracy: 0.9924 - val_loss: 0.4676 - val_wine_quality_loss: 0.4366 - val_wine_type_loss: 0.0310 - val_wine_quality_root_mean_squared_error: 0.6608 - val_wine_type_accuracy: 0.9949\n",
            "Epoch 39/100\n",
            "99/99 [==============================] - 0s 4ms/step - loss: 0.3881 - wine_quality_loss: 0.3496 - wine_type_loss: 0.0386 - wine_quality_root_mean_squared_error: 0.5913 - wine_type_accuracy: 0.9924 - val_loss: 0.4577 - val_wine_quality_loss: 0.4269 - val_wine_type_loss: 0.0308 - val_wine_quality_root_mean_squared_error: 0.6534 - val_wine_type_accuracy: 0.9962\n",
            "Epoch 40/100\n",
            "99/99 [==============================] - 0s 4ms/step - loss: 0.3816 - wine_quality_loss: 0.3434 - wine_type_loss: 0.0383 - wine_quality_root_mean_squared_error: 0.5860 - wine_type_accuracy: 0.9927 - val_loss: 0.4533 - val_wine_quality_loss: 0.4228 - val_wine_type_loss: 0.0304 - val_wine_quality_root_mean_squared_error: 0.6503 - val_wine_type_accuracy: 0.9949\n",
            "Epoch 41/100\n",
            "99/99 [==============================] - 0s 4ms/step - loss: 0.3765 - wine_quality_loss: 0.3386 - wine_type_loss: 0.0379 - wine_quality_root_mean_squared_error: 0.5819 - wine_type_accuracy: 0.9924 - val_loss: 0.4432 - val_wine_quality_loss: 0.4130 - val_wine_type_loss: 0.0302 - val_wine_quality_root_mean_squared_error: 0.6427 - val_wine_type_accuracy: 0.9962\n",
            "Epoch 42/100\n",
            "99/99 [==============================] - 0s 4ms/step - loss: 0.3701 - wine_quality_loss: 0.3326 - wine_type_loss: 0.0375 - wine_quality_root_mean_squared_error: 0.5767 - wine_type_accuracy: 0.9924 - val_loss: 0.4339 - val_wine_quality_loss: 0.4040 - val_wine_type_loss: 0.0299 - val_wine_quality_root_mean_squared_error: 0.6356 - val_wine_type_accuracy: 0.9937\n",
            "Epoch 43/100\n",
            "99/99 [==============================] - 0s 4ms/step - loss: 0.3677 - wine_quality_loss: 0.3304 - wine_type_loss: 0.0373 - wine_quality_root_mean_squared_error: 0.5748 - wine_type_accuracy: 0.9927 - val_loss: 0.4423 - val_wine_quality_loss: 0.4125 - val_wine_type_loss: 0.0298 - val_wine_quality_root_mean_squared_error: 0.6423 - val_wine_type_accuracy: 0.9949\n",
            "Epoch 44/100\n",
            "99/99 [==============================] - 0s 4ms/step - loss: 0.3625 - wine_quality_loss: 0.3255 - wine_type_loss: 0.0369 - wine_quality_root_mean_squared_error: 0.5706 - wine_type_accuracy: 0.9927 - val_loss: 0.4268 - val_wine_quality_loss: 0.3974 - val_wine_type_loss: 0.0295 - val_wine_quality_root_mean_squared_error: 0.6304 - val_wine_type_accuracy: 0.9949\n",
            "Epoch 45/100\n",
            "99/99 [==============================] - 0s 4ms/step - loss: 0.3592 - wine_quality_loss: 0.3225 - wine_type_loss: 0.0366 - wine_quality_root_mean_squared_error: 0.5679 - wine_type_accuracy: 0.9927 - val_loss: 0.4362 - val_wine_quality_loss: 0.4069 - val_wine_type_loss: 0.0293 - val_wine_quality_root_mean_squared_error: 0.6379 - val_wine_type_accuracy: 0.9962\n",
            "Epoch 46/100\n",
            "99/99 [==============================] - 0s 4ms/step - loss: 0.3563 - wine_quality_loss: 0.3200 - wine_type_loss: 0.0363 - wine_quality_root_mean_squared_error: 0.5657 - wine_type_accuracy: 0.9930 - val_loss: 0.4232 - val_wine_quality_loss: 0.3941 - val_wine_type_loss: 0.0291 - val_wine_quality_root_mean_squared_error: 0.6277 - val_wine_type_accuracy: 0.9962\n",
            "Epoch 47/100\n",
            "99/99 [==============================] - 0s 4ms/step - loss: 0.3528 - wine_quality_loss: 0.3169 - wine_type_loss: 0.0359 - wine_quality_root_mean_squared_error: 0.5629 - wine_type_accuracy: 0.9930 - val_loss: 0.4258 - val_wine_quality_loss: 0.3968 - val_wine_type_loss: 0.0291 - val_wine_quality_root_mean_squared_error: 0.6299 - val_wine_type_accuracy: 0.9949\n",
            "Epoch 48/100\n",
            "99/99 [==============================] - 0s 4ms/step - loss: 0.3508 - wine_quality_loss: 0.3149 - wine_type_loss: 0.0358 - wine_quality_root_mean_squared_error: 0.5612 - wine_type_accuracy: 0.9930 - val_loss: 0.4249 - val_wine_quality_loss: 0.3961 - val_wine_type_loss: 0.0288 - val_wine_quality_root_mean_squared_error: 0.6294 - val_wine_type_accuracy: 0.9949\n",
            "Epoch 49/100\n",
            "99/99 [==============================] - 0s 4ms/step - loss: 0.3474 - wine_quality_loss: 0.3119 - wine_type_loss: 0.0355 - wine_quality_root_mean_squared_error: 0.5585 - wine_type_accuracy: 0.9927 - val_loss: 0.4173 - val_wine_quality_loss: 0.3887 - val_wine_type_loss: 0.0286 - val_wine_quality_root_mean_squared_error: 0.6235 - val_wine_type_accuracy: 0.9949\n",
            "Epoch 50/100\n",
            "99/99 [==============================] - 0s 4ms/step - loss: 0.3450 - wine_quality_loss: 0.3097 - wine_type_loss: 0.0352 - wine_quality_root_mean_squared_error: 0.5565 - wine_type_accuracy: 0.9930 - val_loss: 0.4175 - val_wine_quality_loss: 0.3889 - val_wine_type_loss: 0.0285 - val_wine_quality_root_mean_squared_error: 0.6236 - val_wine_type_accuracy: 0.9962\n",
            "Epoch 51/100\n",
            "99/99 [==============================] - 0s 4ms/step - loss: 0.3435 - wine_quality_loss: 0.3086 - wine_type_loss: 0.0349 - wine_quality_root_mean_squared_error: 0.5556 - wine_type_accuracy: 0.9930 - val_loss: 0.4118 - val_wine_quality_loss: 0.3834 - val_wine_type_loss: 0.0284 - val_wine_quality_root_mean_squared_error: 0.6192 - val_wine_type_accuracy: 0.9962\n",
            "Epoch 52/100\n",
            "99/99 [==============================] - 0s 4ms/step - loss: 0.3407 - wine_quality_loss: 0.3060 - wine_type_loss: 0.0347 - wine_quality_root_mean_squared_error: 0.5532 - wine_type_accuracy: 0.9933 - val_loss: 0.4098 - val_wine_quality_loss: 0.3817 - val_wine_type_loss: 0.0281 - val_wine_quality_root_mean_squared_error: 0.6178 - val_wine_type_accuracy: 0.9962\n",
            "Epoch 53/100\n",
            "99/99 [==============================] - 0s 4ms/step - loss: 0.3390 - wine_quality_loss: 0.3045 - wine_type_loss: 0.0345 - wine_quality_root_mean_squared_error: 0.5518 - wine_type_accuracy: 0.9933 - val_loss: 0.4083 - val_wine_quality_loss: 0.3803 - val_wine_type_loss: 0.0280 - val_wine_quality_root_mean_squared_error: 0.6167 - val_wine_type_accuracy: 0.9949\n",
            "Epoch 54/100\n",
            "99/99 [==============================] - 0s 4ms/step - loss: 0.3375 - wine_quality_loss: 0.3032 - wine_type_loss: 0.0343 - wine_quality_root_mean_squared_error: 0.5506 - wine_type_accuracy: 0.9933 - val_loss: 0.4362 - val_wine_quality_loss: 0.4083 - val_wine_type_loss: 0.0279 - val_wine_quality_root_mean_squared_error: 0.6390 - val_wine_type_accuracy: 0.9962\n",
            "Epoch 55/100\n",
            "99/99 [==============================] - 0s 4ms/step - loss: 0.3367 - wine_quality_loss: 0.3027 - wine_type_loss: 0.0340 - wine_quality_root_mean_squared_error: 0.5502 - wine_type_accuracy: 0.9930 - val_loss: 0.4029 - val_wine_quality_loss: 0.3752 - val_wine_type_loss: 0.0277 - val_wine_quality_root_mean_squared_error: 0.6125 - val_wine_type_accuracy: 0.9949\n",
            "Epoch 56/100\n",
            "99/99 [==============================] - 0s 4ms/step - loss: 0.3345 - wine_quality_loss: 0.3007 - wine_type_loss: 0.0337 - wine_quality_root_mean_squared_error: 0.5484 - wine_type_accuracy: 0.9933 - val_loss: 0.4134 - val_wine_quality_loss: 0.3858 - val_wine_type_loss: 0.0276 - val_wine_quality_root_mean_squared_error: 0.6211 - val_wine_type_accuracy: 0.9949\n",
            "Epoch 57/100\n",
            "99/99 [==============================] - 0s 5ms/step - loss: 0.3327 - wine_quality_loss: 0.2993 - wine_type_loss: 0.0335 - wine_quality_root_mean_squared_error: 0.5470 - wine_type_accuracy: 0.9933 - val_loss: 0.4035 - val_wine_quality_loss: 0.3759 - val_wine_type_loss: 0.0276 - val_wine_quality_root_mean_squared_error: 0.6131 - val_wine_type_accuracy: 0.9962\n",
            "Epoch 58/100\n",
            "99/99 [==============================] - 0s 4ms/step - loss: 0.3316 - wine_quality_loss: 0.2982 - wine_type_loss: 0.0333 - wine_quality_root_mean_squared_error: 0.5461 - wine_type_accuracy: 0.9933 - val_loss: 0.3974 - val_wine_quality_loss: 0.3698 - val_wine_type_loss: 0.0275 - val_wine_quality_root_mean_squared_error: 0.6082 - val_wine_type_accuracy: 0.9962\n",
            "Epoch 59/100\n",
            "99/99 [==============================] - 0s 4ms/step - loss: 0.3297 - wine_quality_loss: 0.2967 - wine_type_loss: 0.0331 - wine_quality_root_mean_squared_error: 0.5447 - wine_type_accuracy: 0.9930 - val_loss: 0.3967 - val_wine_quality_loss: 0.3694 - val_wine_type_loss: 0.0273 - val_wine_quality_root_mean_squared_error: 0.6078 - val_wine_type_accuracy: 0.9975\n",
            "Epoch 60/100\n",
            "99/99 [==============================] - 0s 4ms/step - loss: 0.3288 - wine_quality_loss: 0.2959 - wine_type_loss: 0.0329 - wine_quality_root_mean_squared_error: 0.5440 - wine_type_accuracy: 0.9933 - val_loss: 0.3982 - val_wine_quality_loss: 0.3709 - val_wine_type_loss: 0.0273 - val_wine_quality_root_mean_squared_error: 0.6090 - val_wine_type_accuracy: 0.9962\n",
            "Epoch 61/100\n",
            "99/99 [==============================] - 0s 4ms/step - loss: 0.3271 - wine_quality_loss: 0.2944 - wine_type_loss: 0.0327 - wine_quality_root_mean_squared_error: 0.5426 - wine_type_accuracy: 0.9933 - val_loss: 0.3973 - val_wine_quality_loss: 0.3703 - val_wine_type_loss: 0.0271 - val_wine_quality_root_mean_squared_error: 0.6085 - val_wine_type_accuracy: 0.9975\n",
            "Epoch 62/100\n",
            "99/99 [==============================] - 0s 4ms/step - loss: 0.3253 - wine_quality_loss: 0.2929 - wine_type_loss: 0.0325 - wine_quality_root_mean_squared_error: 0.5412 - wine_type_accuracy: 0.9933 - val_loss: 0.3977 - val_wine_quality_loss: 0.3707 - val_wine_type_loss: 0.0270 - val_wine_quality_root_mean_squared_error: 0.6089 - val_wine_type_accuracy: 0.9975\n",
            "Epoch 63/100\n",
            "99/99 [==============================] - 0s 4ms/step - loss: 0.3246 - wine_quality_loss: 0.2924 - wine_type_loss: 0.0323 - wine_quality_root_mean_squared_error: 0.5407 - wine_type_accuracy: 0.9937 - val_loss: 0.4048 - val_wine_quality_loss: 0.3778 - val_wine_type_loss: 0.0270 - val_wine_quality_root_mean_squared_error: 0.6146 - val_wine_type_accuracy: 0.9975\n",
            "Epoch 64/100\n",
            "99/99 [==============================] - 0s 4ms/step - loss: 0.3245 - wine_quality_loss: 0.2925 - wine_type_loss: 0.0320 - wine_quality_root_mean_squared_error: 0.5409 - wine_type_accuracy: 0.9933 - val_loss: 0.3926 - val_wine_quality_loss: 0.3658 - val_wine_type_loss: 0.0268 - val_wine_quality_root_mean_squared_error: 0.6048 - val_wine_type_accuracy: 0.9975\n",
            "Epoch 65/100\n",
            "99/99 [==============================] - 0s 5ms/step - loss: 0.3223 - wine_quality_loss: 0.2905 - wine_type_loss: 0.0318 - wine_quality_root_mean_squared_error: 0.5390 - wine_type_accuracy: 0.9933 - val_loss: 0.3917 - val_wine_quality_loss: 0.3650 - val_wine_type_loss: 0.0267 - val_wine_quality_root_mean_squared_error: 0.6041 - val_wine_type_accuracy: 0.9975\n",
            "Epoch 66/100\n",
            "99/99 [==============================] - 0s 4ms/step - loss: 0.3214 - wine_quality_loss: 0.2898 - wine_type_loss: 0.0316 - wine_quality_root_mean_squared_error: 0.5383 - wine_type_accuracy: 0.9937 - val_loss: 0.3966 - val_wine_quality_loss: 0.3701 - val_wine_type_loss: 0.0266 - val_wine_quality_root_mean_squared_error: 0.6083 - val_wine_type_accuracy: 0.9975\n",
            "Epoch 67/100\n",
            "99/99 [==============================] - 0s 5ms/step - loss: 0.3207 - wine_quality_loss: 0.2893 - wine_type_loss: 0.0314 - wine_quality_root_mean_squared_error: 0.5378 - wine_type_accuracy: 0.9943 - val_loss: 0.3914 - val_wine_quality_loss: 0.3649 - val_wine_type_loss: 0.0264 - val_wine_quality_root_mean_squared_error: 0.6041 - val_wine_type_accuracy: 0.9975\n",
            "Epoch 68/100\n",
            "99/99 [==============================] - 0s 4ms/step - loss: 0.3189 - wine_quality_loss: 0.2877 - wine_type_loss: 0.0312 - wine_quality_root_mean_squared_error: 0.5364 - wine_type_accuracy: 0.9943 - val_loss: 0.4246 - val_wine_quality_loss: 0.3983 - val_wine_type_loss: 0.0263 - val_wine_quality_root_mean_squared_error: 0.6311 - val_wine_type_accuracy: 0.9962\n",
            "Epoch 69/100\n",
            "99/99 [==============================] - 0s 4ms/step - loss: 0.3183 - wine_quality_loss: 0.2873 - wine_type_loss: 0.0310 - wine_quality_root_mean_squared_error: 0.5360 - wine_type_accuracy: 0.9937 - val_loss: 0.4022 - val_wine_quality_loss: 0.3760 - val_wine_type_loss: 0.0262 - val_wine_quality_root_mean_squared_error: 0.6132 - val_wine_type_accuracy: 0.9975\n",
            "Epoch 70/100\n",
            "99/99 [==============================] - 0s 4ms/step - loss: 0.3178 - wine_quality_loss: 0.2870 - wine_type_loss: 0.0308 - wine_quality_root_mean_squared_error: 0.5358 - wine_type_accuracy: 0.9943 - val_loss: 0.3865 - val_wine_quality_loss: 0.3603 - val_wine_type_loss: 0.0262 - val_wine_quality_root_mean_squared_error: 0.6003 - val_wine_type_accuracy: 0.9975\n",
            "Epoch 71/100\n",
            "99/99 [==============================] - 0s 4ms/step - loss: 0.3164 - wine_quality_loss: 0.2859 - wine_type_loss: 0.0306 - wine_quality_root_mean_squared_error: 0.5347 - wine_type_accuracy: 0.9943 - val_loss: 0.3961 - val_wine_quality_loss: 0.3700 - val_wine_type_loss: 0.0261 - val_wine_quality_root_mean_squared_error: 0.6083 - val_wine_type_accuracy: 0.9975\n",
            "Epoch 72/100\n",
            "99/99 [==============================] - 0s 4ms/step - loss: 0.3160 - wine_quality_loss: 0.2855 - wine_type_loss: 0.0304 - wine_quality_root_mean_squared_error: 0.5344 - wine_type_accuracy: 0.9940 - val_loss: 0.3898 - val_wine_quality_loss: 0.3638 - val_wine_type_loss: 0.0259 - val_wine_quality_root_mean_squared_error: 0.6032 - val_wine_type_accuracy: 0.9975\n",
            "Epoch 73/100\n",
            "99/99 [==============================] - 0s 4ms/step - loss: 0.3147 - wine_quality_loss: 0.2844 - wine_type_loss: 0.0302 - wine_quality_root_mean_squared_error: 0.5333 - wine_type_accuracy: 0.9943 - val_loss: 0.3891 - val_wine_quality_loss: 0.3632 - val_wine_type_loss: 0.0259 - val_wine_quality_root_mean_squared_error: 0.6026 - val_wine_type_accuracy: 0.9975\n",
            "Epoch 74/100\n",
            "99/99 [==============================] - 0s 4ms/step - loss: 0.3141 - wine_quality_loss: 0.2841 - wine_type_loss: 0.0300 - wine_quality_root_mean_squared_error: 0.5330 - wine_type_accuracy: 0.9943 - val_loss: 0.3914 - val_wine_quality_loss: 0.3656 - val_wine_type_loss: 0.0258 - val_wine_quality_root_mean_squared_error: 0.6046 - val_wine_type_accuracy: 0.9975\n",
            "Epoch 75/100\n",
            "99/99 [==============================] - 0s 4ms/step - loss: 0.3130 - wine_quality_loss: 0.2832 - wine_type_loss: 0.0297 - wine_quality_root_mean_squared_error: 0.5322 - wine_type_accuracy: 0.9940 - val_loss: 0.3934 - val_wine_quality_loss: 0.3677 - val_wine_type_loss: 0.0258 - val_wine_quality_root_mean_squared_error: 0.6064 - val_wine_type_accuracy: 0.9975\n",
            "Epoch 76/100\n",
            "99/99 [==============================] - 0s 4ms/step - loss: 0.3122 - wine_quality_loss: 0.2825 - wine_type_loss: 0.0296 - wine_quality_root_mean_squared_error: 0.5315 - wine_type_accuracy: 0.9943 - val_loss: 0.3837 - val_wine_quality_loss: 0.3580 - val_wine_type_loss: 0.0257 - val_wine_quality_root_mean_squared_error: 0.5984 - val_wine_type_accuracy: 0.9975\n",
            "Epoch 77/100\n",
            "99/99 [==============================] - 0s 4ms/step - loss: 0.3114 - wine_quality_loss: 0.2820 - wine_type_loss: 0.0294 - wine_quality_root_mean_squared_error: 0.5310 - wine_type_accuracy: 0.9943 - val_loss: 0.3865 - val_wine_quality_loss: 0.3609 - val_wine_type_loss: 0.0256 - val_wine_quality_root_mean_squared_error: 0.6007 - val_wine_type_accuracy: 0.9975\n",
            "Epoch 78/100\n",
            "99/99 [==============================] - 0s 4ms/step - loss: 0.3109 - wine_quality_loss: 0.2817 - wine_type_loss: 0.0293 - wine_quality_root_mean_squared_error: 0.5307 - wine_type_accuracy: 0.9943 - val_loss: 0.3844 - val_wine_quality_loss: 0.3588 - val_wine_type_loss: 0.0256 - val_wine_quality_root_mean_squared_error: 0.5990 - val_wine_type_accuracy: 0.9975\n",
            "Epoch 79/100\n",
            "99/99 [==============================] - 0s 4ms/step - loss: 0.3084 - wine_quality_loss: 0.2794 - wine_type_loss: 0.0291 - wine_quality_root_mean_squared_error: 0.5285 - wine_type_accuracy: 0.9946 - val_loss: 0.3843 - val_wine_quality_loss: 0.3589 - val_wine_type_loss: 0.0254 - val_wine_quality_root_mean_squared_error: 0.5991 - val_wine_type_accuracy: 0.9975\n",
            "Epoch 80/100\n",
            "99/99 [==============================] - 0s 4ms/step - loss: 0.3100 - wine_quality_loss: 0.2811 - wine_type_loss: 0.0288 - wine_quality_root_mean_squared_error: 0.5302 - wine_type_accuracy: 0.9946 - val_loss: 0.4118 - val_wine_quality_loss: 0.3864 - val_wine_type_loss: 0.0254 - val_wine_quality_root_mean_squared_error: 0.6216 - val_wine_type_accuracy: 0.9975\n",
            "Epoch 81/100\n",
            "99/99 [==============================] - 0s 4ms/step - loss: 0.3086 - wine_quality_loss: 0.2799 - wine_type_loss: 0.0287 - wine_quality_root_mean_squared_error: 0.5290 - wine_type_accuracy: 0.9946 - val_loss: 0.3853 - val_wine_quality_loss: 0.3600 - val_wine_type_loss: 0.0253 - val_wine_quality_root_mean_squared_error: 0.6000 - val_wine_type_accuracy: 0.9975\n",
            "Epoch 82/100\n",
            "99/99 [==============================] - 0s 4ms/step - loss: 0.3078 - wine_quality_loss: 0.2792 - wine_type_loss: 0.0285 - wine_quality_root_mean_squared_error: 0.5284 - wine_type_accuracy: 0.9946 - val_loss: 0.3832 - val_wine_quality_loss: 0.3579 - val_wine_type_loss: 0.0252 - val_wine_quality_root_mean_squared_error: 0.5983 - val_wine_type_accuracy: 0.9975\n",
            "Epoch 83/100\n",
            "99/99 [==============================] - 0s 5ms/step - loss: 0.3062 - wine_quality_loss: 0.2778 - wine_type_loss: 0.0284 - wine_quality_root_mean_squared_error: 0.5271 - wine_type_accuracy: 0.9946 - val_loss: 0.3908 - val_wine_quality_loss: 0.3656 - val_wine_type_loss: 0.0251 - val_wine_quality_root_mean_squared_error: 0.6047 - val_wine_type_accuracy: 0.9975\n",
            "Epoch 84/100\n",
            "99/99 [==============================] - 0s 4ms/step - loss: 0.3071 - wine_quality_loss: 0.2790 - wine_type_loss: 0.0282 - wine_quality_root_mean_squared_error: 0.5282 - wine_type_accuracy: 0.9949 - val_loss: 0.3859 - val_wine_quality_loss: 0.3608 - val_wine_type_loss: 0.0251 - val_wine_quality_root_mean_squared_error: 0.6007 - val_wine_type_accuracy: 0.9975\n",
            "Epoch 85/100\n",
            "99/99 [==============================] - 0s 4ms/step - loss: 0.3042 - wine_quality_loss: 0.2761 - wine_type_loss: 0.0281 - wine_quality_root_mean_squared_error: 0.5255 - wine_type_accuracy: 0.9946 - val_loss: 0.3840 - val_wine_quality_loss: 0.3590 - val_wine_type_loss: 0.0250 - val_wine_quality_root_mean_squared_error: 0.5992 - val_wine_type_accuracy: 0.9975\n",
            "Epoch 86/100\n",
            "99/99 [==============================] - 0s 5ms/step - loss: 0.3047 - wine_quality_loss: 0.2769 - wine_type_loss: 0.0279 - wine_quality_root_mean_squared_error: 0.5262 - wine_type_accuracy: 0.9946 - val_loss: 0.3833 - val_wine_quality_loss: 0.3583 - val_wine_type_loss: 0.0250 - val_wine_quality_root_mean_squared_error: 0.5986 - val_wine_type_accuracy: 0.9975\n",
            "Epoch 87/100\n",
            "99/99 [==============================] - 0s 4ms/step - loss: 0.3045 - wine_quality_loss: 0.2767 - wine_type_loss: 0.0277 - wine_quality_root_mean_squared_error: 0.5261 - wine_type_accuracy: 0.9949 - val_loss: 0.3798 - val_wine_quality_loss: 0.3549 - val_wine_type_loss: 0.0249 - val_wine_quality_root_mean_squared_error: 0.5957 - val_wine_type_accuracy: 0.9975\n",
            "Epoch 88/100\n",
            "99/99 [==============================] - 0s 4ms/step - loss: 0.3040 - wine_quality_loss: 0.2764 - wine_type_loss: 0.0275 - wine_quality_root_mean_squared_error: 0.5258 - wine_type_accuracy: 0.9949 - val_loss: 0.3883 - val_wine_quality_loss: 0.3635 - val_wine_type_loss: 0.0248 - val_wine_quality_root_mean_squared_error: 0.6029 - val_wine_type_accuracy: 0.9975\n",
            "Epoch 89/100\n",
            "99/99 [==============================] - 0s 4ms/step - loss: 0.3019 - wine_quality_loss: 0.2745 - wine_type_loss: 0.0274 - wine_quality_root_mean_squared_error: 0.5240 - wine_type_accuracy: 0.9946 - val_loss: 0.3817 - val_wine_quality_loss: 0.3569 - val_wine_type_loss: 0.0248 - val_wine_quality_root_mean_squared_error: 0.5974 - val_wine_type_accuracy: 0.9975\n",
            "Epoch 90/100\n",
            "99/99 [==============================] - 0s 5ms/step - loss: 0.3010 - wine_quality_loss: 0.2738 - wine_type_loss: 0.0272 - wine_quality_root_mean_squared_error: 0.5233 - wine_type_accuracy: 0.9949 - val_loss: 0.3817 - val_wine_quality_loss: 0.3570 - val_wine_type_loss: 0.0247 - val_wine_quality_root_mean_squared_error: 0.5975 - val_wine_type_accuracy: 0.9975\n",
            "Epoch 91/100\n",
            "99/99 [==============================] - 0s 4ms/step - loss: 0.3013 - wine_quality_loss: 0.2742 - wine_type_loss: 0.0271 - wine_quality_root_mean_squared_error: 0.5236 - wine_type_accuracy: 0.9949 - val_loss: 0.3786 - val_wine_quality_loss: 0.3539 - val_wine_type_loss: 0.0247 - val_wine_quality_root_mean_squared_error: 0.5949 - val_wine_type_accuracy: 0.9975\n",
            "Epoch 92/100\n",
            "99/99 [==============================] - 0s 4ms/step - loss: 0.2997 - wine_quality_loss: 0.2728 - wine_type_loss: 0.0269 - wine_quality_root_mean_squared_error: 0.5223 - wine_type_accuracy: 0.9949 - val_loss: 0.3783 - val_wine_quality_loss: 0.3537 - val_wine_type_loss: 0.0246 - val_wine_quality_root_mean_squared_error: 0.5947 - val_wine_type_accuracy: 0.9975\n",
            "Epoch 93/100\n",
            "99/99 [==============================] - 0s 4ms/step - loss: 0.2993 - wine_quality_loss: 0.2725 - wine_type_loss: 0.0267 - wine_quality_root_mean_squared_error: 0.5220 - wine_type_accuracy: 0.9949 - val_loss: 0.3813 - val_wine_quality_loss: 0.3568 - val_wine_type_loss: 0.0245 - val_wine_quality_root_mean_squared_error: 0.5973 - val_wine_type_accuracy: 0.9975\n",
            "Epoch 94/100\n",
            "99/99 [==============================] - 0s 4ms/step - loss: 0.2989 - wine_quality_loss: 0.2723 - wine_type_loss: 0.0265 - wine_quality_root_mean_squared_error: 0.5218 - wine_type_accuracy: 0.9949 - val_loss: 0.3837 - val_wine_quality_loss: 0.3592 - val_wine_type_loss: 0.0245 - val_wine_quality_root_mean_squared_error: 0.5993 - val_wine_type_accuracy: 0.9975\n",
            "Epoch 95/100\n",
            "99/99 [==============================] - 0s 4ms/step - loss: 0.2987 - wine_quality_loss: 0.2723 - wine_type_loss: 0.0264 - wine_quality_root_mean_squared_error: 0.5218 - wine_type_accuracy: 0.9949 - val_loss: 0.3815 - val_wine_quality_loss: 0.3571 - val_wine_type_loss: 0.0245 - val_wine_quality_root_mean_squared_error: 0.5975 - val_wine_type_accuracy: 0.9975\n",
            "Epoch 96/100\n",
            "99/99 [==============================] - 0s 4ms/step - loss: 0.2967 - wine_quality_loss: 0.2704 - wine_type_loss: 0.0263 - wine_quality_root_mean_squared_error: 0.5200 - wine_type_accuracy: 0.9949 - val_loss: 0.3797 - val_wine_quality_loss: 0.3553 - val_wine_type_loss: 0.0244 - val_wine_quality_root_mean_squared_error: 0.5960 - val_wine_type_accuracy: 0.9975\n",
            "Epoch 97/100\n",
            "99/99 [==============================] - 0s 5ms/step - loss: 0.2966 - wine_quality_loss: 0.2704 - wine_type_loss: 0.0261 - wine_quality_root_mean_squared_error: 0.5200 - wine_type_accuracy: 0.9949 - val_loss: 0.3806 - val_wine_quality_loss: 0.3563 - val_wine_type_loss: 0.0243 - val_wine_quality_root_mean_squared_error: 0.5969 - val_wine_type_accuracy: 0.9975\n",
            "Epoch 98/100\n",
            "99/99 [==============================] - 0s 4ms/step - loss: 0.2966 - wine_quality_loss: 0.2706 - wine_type_loss: 0.0260 - wine_quality_root_mean_squared_error: 0.5202 - wine_type_accuracy: 0.9949 - val_loss: 0.3766 - val_wine_quality_loss: 0.3524 - val_wine_type_loss: 0.0242 - val_wine_quality_root_mean_squared_error: 0.5936 - val_wine_type_accuracy: 0.9975\n",
            "Epoch 99/100\n",
            "99/99 [==============================] - 0s 4ms/step - loss: 0.2954 - wine_quality_loss: 0.2696 - wine_type_loss: 0.0258 - wine_quality_root_mean_squared_error: 0.5192 - wine_type_accuracy: 0.9949 - val_loss: 0.3808 - val_wine_quality_loss: 0.3567 - val_wine_type_loss: 0.0242 - val_wine_quality_root_mean_squared_error: 0.5972 - val_wine_type_accuracy: 0.9975\n",
            "Epoch 100/100\n",
            "99/99 [==============================] - 0s 5ms/step - loss: 0.2949 - wine_quality_loss: 0.2692 - wine_type_loss: 0.0257 - wine_quality_root_mean_squared_error: 0.5189 - wine_type_accuracy: 0.9949 - val_loss: 0.3760 - val_wine_quality_loss: 0.3519 - val_wine_type_loss: 0.0241 - val_wine_quality_root_mean_squared_error: 0.5932 - val_wine_type_accuracy: 0.9975\n"
          ],
          "name": "stdout"
        }
      ]
    },
    {
      "cell_type": "code",
      "metadata": {
        "colab": {
          "base_uri": "https://localhost:8080/"
        },
        "id": "CubF2J2gSf6q",
        "outputId": "2f5b9764-403a-4497-e5c2-3904b75ebaca"
      },
      "source": [
        "# Gather the training metrics\n",
        "loss, wine_quality_loss, wine_type_loss, wine_quality_rmse, wine_type_accuracy = model.evaluate(x=norm_val_X, y=val_Y)\n",
        "\n",
        "print()\n",
        "print(f'loss: {loss}')\n",
        "print(f'wine_quality_loss: {wine_quality_loss}')\n",
        "print(f'wine_type_loss: {wine_type_loss}')\n",
        "print(f'wine_quality_rmse: {wine_quality_rmse}')\n",
        "print(f'wine_type_accuracy: {wine_type_accuracy}')"
      ],
      "execution_count": 26,
      "outputs": [
        {
          "output_type": "stream",
          "text": [
            "25/25 [==============================] - 0s 3ms/step - loss: 0.3760 - wine_quality_loss: 0.3519 - wine_type_loss: 0.0241 - wine_quality_root_mean_squared_error: 0.5932 - wine_type_accuracy: 0.9975\n",
            "\n",
            "loss: 0.37600958347320557\n",
            "wine_quality_loss: 0.35186120867729187\n",
            "wine_type_loss: 0.024148356169462204\n",
            "wine_quality_rmse: 0.593178927898407\n",
            "wine_type_accuracy: 0.9974651336669922\n"
          ],
          "name": "stdout"
        }
      ]
    },
    {
      "cell_type": "code",
      "metadata": {
        "id": "tBq9PEeAaW-Y"
      },
      "source": [
        "# Performance\n",
        "predictions = model.predict(norm_test_X)\n",
        "\n",
        "# two outputs.\n",
        "quality_pred = predictions[0]\n",
        "type_pred = predictions[1]"
      ],
      "execution_count": 27,
      "outputs": []
    },
    {
      "cell_type": "code",
      "metadata": {
        "colab": {
          "base_uri": "https://localhost:8080/"
        },
        "id": "YLhgTR4xTIxj",
        "outputId": "936ac932-b9d9-426a-9616-0a792fbae5c4"
      },
      "source": [
        "print(quality_pred[0])"
      ],
      "execution_count": 28,
      "outputs": [
        {
          "output_type": "stream",
          "text": [
            "[5.4674115]\n"
          ],
          "name": "stdout"
        }
      ]
    },
    {
      "cell_type": "code",
      "metadata": {
        "colab": {
          "base_uri": "https://localhost:8080/"
        },
        "id": "MPi-eYfGTUXi",
        "outputId": "9ee90436-2700-41a1-e847-d195603112e4"
      },
      "source": [
        "print(type_pred[0])\n",
        "print(type_pred[944])"
      ],
      "execution_count": 29,
      "outputs": [
        {
          "output_type": "stream",
          "text": [
            "[0.0021055]\n",
            "[0.00162186]\n"
          ],
          "name": "stdout"
        }
      ]
    },
    {
      "cell_type": "code",
      "metadata": {
        "id": "62gEOFUhn6aQ"
      },
      "source": [
        "def plot_metrics(metric_name, title, ylim=5):\n",
        "    plt.title(title)\n",
        "    plt.ylim(0,ylim)\n",
        "    plt.plot(history.history[metric_name],color='blue',label=metric_name)\n",
        "    plt.plot(history.history['val_' + metric_name],color='green',label='val_' + metric_name)\n"
      ],
      "execution_count": 30,
      "outputs": []
    },
    {
      "cell_type": "code",
      "metadata": {
        "id": "6rfgSx7uz5dj"
      },
      "source": [
        "def plot_confusion_matrix(y_true, y_pred, title='', labels=[0,1]):\n",
        "    cm = confusion_matrix(y_true, y_pred)\n",
        "    fig = plt.figure()\n",
        "    ax = fig.add_subplot(111)\n",
        "    cax = ax.matshow(cm)\n",
        "    plt.title('Confusion matrix of the classifier')\n",
        "    fig.colorbar(cax)\n",
        "    ax.set_xticklabels([''] + labels)\n",
        "    ax.set_yticklabels([''] + labels)\n",
        "    plt.xlabel('Predicted')\n",
        "    plt.ylabel('True')\n",
        "    fmt = 'd'\n",
        "    thresh = cm.max() / 2.\n",
        "    for i, j in itertools.product(range(cm.shape[0]), range(cm.shape[1])):\n",
        "          plt.text(j, i, format(cm[i, j], fmt),\n",
        "                  horizontalalignment=\"center\",\n",
        "                  color=\"black\" if cm[i, j] > thresh else \"white\")\n",
        "    plt.show()"
      ],
      "execution_count": 31,
      "outputs": []
    },
    {
      "cell_type": "code",
      "metadata": {
        "id": "dfVLIqi017Vf"
      },
      "source": [
        "def plot_diff(y_true, y_pred, title = '' ):\n",
        "    plt.scatter(y_true, y_pred)\n",
        "    plt.title(title)\n",
        "    plt.xlabel('True Values')\n",
        "    plt.ylabel('Predictions')\n",
        "    plt.axis('equal')\n",
        "    plt.axis('square')\n",
        "    plt.plot([-100, 100], [-100, 100])\n",
        "    return plt"
      ],
      "execution_count": 32,
      "outputs": []
    },
    {
      "cell_type": "code",
      "metadata": {
        "colab": {
          "base_uri": "https://localhost:8080/",
          "height": 281
        },
        "id": "f3MwZ5J1pOfj",
        "outputId": "28f15d15-a8e8-491a-ff22-0d24ebf2a926"
      },
      "source": [
        "plot_metrics('wine_quality_root_mean_squared_error', 'RMSE', ylim=2)"
      ],
      "execution_count": 33,
      "outputs": [
        {
          "output_type": "display_data",
          "data": {
            "image/png": "[encoded data removed]",
            "text/plain": [
              "<Figure size 432x288 with 1 Axes>"
            ]
          },
          "metadata": {
            "tags": [],
            "needs_background": "light"
          }
        }
      ]
    },
    {
      "cell_type": "code",
      "metadata": {
        "colab": {
          "base_uri": "https://localhost:8080/",
          "height": 281
        },
        "id": "QIAxEezCppnd",
        "outputId": "3011c554-dee0-40bb-eb64-1ba466fa777d"
      },
      "source": [
        "plot_metrics('wine_type_loss', 'Wine Type Loss', ylim=0.2)"
      ],
      "execution_count": 34,
      "outputs": [
        {
          "output_type": "display_data",
          "data": {
            "image/png": "[encoded data removed]",
            "text/plain": [
              "<Figure size 432x288 with 1 Axes>"
            ]
          },
          "metadata": {
            "tags": [],
            "needs_background": "light"
          }
        }
      ]
    },
    {
      "cell_type": "code",
      "metadata": {
        "colab": {
          "base_uri": "https://localhost:8080/",
          "height": 289
        },
        "id": "C3hvTYxIaf3n",
        "outputId": "6f56133d-dea8-4f53-f119-42d53e811f78"
      },
      "source": [
        "# Confusion Matrix\n",
        "plot_confusion_matrix(test_Y[1], np.round(type_pred), title='Wine Type', labels = [0, 1])"
      ],
      "execution_count": 35,
      "outputs": [
        {
          "output_type": "display_data",
          "data": {
            "image/png": "[encoded data removed]",
            "text/plain": [
              "<Figure size 432x288 with 2 Axes>"
            ]
          },
          "metadata": {
            "tags": [],
            "needs_background": "light"
          }
        }
      ]
    },
    {
      "cell_type": "code",
      "metadata": {
        "colab": {
          "base_uri": "https://localhost:8080/",
          "height": 295
        },
        "id": "GW91ym8P2I5y",
        "outputId": "1704890b-292f-46db-92f6-140fdb9c214f"
      },
      "source": [
        "scatter_plot = plot_diff(test_Y[0], quality_pred, title='Type')"
      ],
      "execution_count": 36,
      "outputs": [
        {
          "output_type": "display_data",
          "data": {
            "image/png": "[encoded data removed]",
            "text/plain": [
              "<Figure size 432x288 with 1 Axes>"
            ]
          },
          "metadata": {
            "tags": [],
            "needs_background": "light"
          }
        }
      ]
    },
    {
      "cell_type": "code",
      "metadata": {
        "id": "nbk5SQ6RJ41q"
      },
      "source": [
        ""
      ],
      "execution_count": 36,
      "outputs": []
    }
  ]
}