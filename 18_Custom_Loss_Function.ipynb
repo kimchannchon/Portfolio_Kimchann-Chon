{
  "nbformat": 4,
  "nbformat_minor": 0,
  "metadata": {
    "colab": {
      "name": "Custom Loss Function.ipynb",
      "provenance": []
    },
    "kernelspec": {
      "display_name": "Python 3",
      "language": "python",
      "name": "python3"
    },
    "language_info": {
      "codemirror_mode": {
        "name": "ipython",
        "version": 3
      },
      "file_extension": ".py",
      "mimetype": "text/x-python",
      "name": "python",
      "nbconvert_exporter": "python",
      "pygments_lexer": "ipython3",
      "version": "3.8.8"
    }
  },
  "cells": [
    {
      "cell_type": "code",
      "metadata": {
        "id": "0pajvrhrInPa"
      },
      "source": [
        "import tensorflow as tf\n",
        "import numpy as np\n",
        "from tensorflow import keras\n",
        "from tensorflow.keras import backend as K"
      ],
      "execution_count": 1,
      "outputs": []
    },
    {
      "cell_type": "code",
      "metadata": {
        "id": "B5cfNcfyKbc9"
      },
      "source": [
        "# inputs\n",
        "xs = np.array([-1.0,  0.0, 1.0, 2.0, 3.0, 4.0], dtype=float)\n",
        "\n",
        "# labels. y=2x-1.\n",
        "ys = np.array([-3.0, -1.0, 1.0, 3.0, 5.0, 7.0], dtype=float)"
      ],
      "execution_count": 2,
      "outputs": []
    },
    {
      "cell_type": "code",
      "metadata": {
        "deletable": false,
        "id": "bXNGIkq2Azmf",
        "nbgrader": {
          "cell_type": "code",
          "checksum": "8301324615aba1e02e1f756b4bf1b092",
          "grade": false,
          "grade_id": "cell-31648b482908e493",
          "locked": false,
          "schema_version": 3,
          "solution": true,
          "task": false
        }
      },
      "source": [
        "# Loss Function\n",
        "def my_rmse(y_true, y_pred):\n",
        "    return K.sqrt(K.mean(K.square(y_true - y_pred)))"
      ],
      "execution_count": 3,
      "outputs": []
    },
    {
      "cell_type": "code",
      "metadata": {
        "colab": {
          "base_uri": "https://localhost:8080/"
        },
        "deletable": false,
        "id": "2eY7fw0EHwda",
        "nbgrader": {
          "cell_type": "code",
          "checksum": "8af71f8408d04ff7abaf41eb3414c8f6",
          "grade": false,
          "grade_id": "cell-5a29bb71c93124fc",
          "locked": false,
          "schema_version": 3,
          "solution": true,
          "task": false
        },
        "outputId": "a9ecd730-2c1a-4499-9785-fd8c47e9268a"
      },
      "source": [
        "model = tf.keras.Sequential([keras.layers.Dense(units=1, input_shape=[1])])\n",
        "model.compile(optimizer='sgd', loss = my_rmse)\n",
        "\n",
        "model.fit(xs, ys, epochs=500, verbose=0)\n",
        "              \n",
        "print(model.predict([10.0]))"
      ],
      "execution_count": 4,
      "outputs": [
        {
          "output_type": "stream",
          "text": [
            "[[19.127796]]\n"
          ],
          "name": "stdout"
        }
      ]
    }
  ]
}