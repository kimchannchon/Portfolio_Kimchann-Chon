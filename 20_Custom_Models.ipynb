{
  "nbformat": 4,
  "nbformat_minor": 0,
  "metadata": {
    "colab": {
      "name": "C1W4_Assignment.ipynb",
      "provenance": [],
      "collapsed_sections": []
    },
    "kernelspec": {
      "display_name": "Python 3",
      "language": "python",
      "name": "python3"
    },
    "language_info": {
      "codemirror_mode": {
        "name": "ipython",
        "version": 3
      },
      "file_extension": ".py",
      "mimetype": "text/x-python",
      "name": "python",
      "nbconvert_exporter": "python",
      "pygments_lexer": "ipython3",
      "version": "3.8.5"
    }
  },
  "cells": [
    {
      "cell_type": "markdown",
      "metadata": {
        "id": "GC7zSrbOWiz0"
      },
      "source": [
        "# Week 4 Assignment: Create a VGG network"
      ]
    },
    {
      "cell_type": "code",
      "metadata": {
        "id": "Z01I5nj0NAOu"
      },
      "source": [
        "import tensorflow as tf\n",
        "import tensorflow_datasets as tfds"
      ],
      "execution_count": 2,
      "outputs": []
    },
    {
      "cell_type": "code",
      "metadata": {
        "id": "FJKT1j1_ODky"
      },
      "source": [
        "class MyClass:\n",
        "    def __init__(self):        \n",
        "        self.var1 = 1\n",
        "        \n",
        "my_obj = MyClass()"
      ],
      "execution_count": 3,
      "outputs": []
    },
    {
      "cell_type": "code",
      "metadata": {
        "colab": {
          "base_uri": "https://localhost:8080/"
        },
        "id": "f5HvqX-AODkz",
        "outputId": "8ab45e79-1f5f-4f74-b676-d614c3f7319d"
      },
      "source": [
        "my_obj.__dict__"
      ],
      "execution_count": 4,
      "outputs": [
        {
          "output_type": "execute_result",
          "data": {
            "text/plain": [
              "{'var1': 1}"
            ]
          },
          "metadata": {
            "tags": []
          },
          "execution_count": 4
        }
      ]
    },
    {
      "cell_type": "code",
      "metadata": {
        "colab": {
          "base_uri": "https://localhost:8080/"
        },
        "id": "2jrZ-DafODk0",
        "outputId": "514d6e8a-5eec-4f73-8e87-7e81c8f169c6"
      },
      "source": [
        "vars(my_obj)"
      ],
      "execution_count": 5,
      "outputs": [
        {
          "output_type": "execute_result",
          "data": {
            "text/plain": [
              "{'var1': 1}"
            ]
          },
          "metadata": {
            "tags": []
          },
          "execution_count": 5
        }
      ]
    },
    {
      "cell_type": "code",
      "metadata": {
        "colab": {
          "base_uri": "https://localhost:8080/"
        },
        "id": "sY78douNODk1",
        "outputId": "b57edbe0-68b0-44a3-aaee-80454ce38a7e"
      },
      "source": [
        "my_obj.var2 = 2\n",
        "vars(my_obj)"
      ],
      "execution_count": 6,
      "outputs": [
        {
          "output_type": "execute_result",
          "data": {
            "text/plain": [
              "{'var1': 1, 'var2': 2}"
            ]
          },
          "metadata": {
            "tags": []
          },
          "execution_count": 6
        }
      ]
    },
    {
      "cell_type": "code",
      "metadata": {
        "colab": {
          "base_uri": "https://localhost:8080/"
        },
        "id": "WBVEaVwvODk1",
        "outputId": "5b8c4e45-0ebc-4ebe-e85e-602312562f38"
      },
      "source": [
        "vars(my_obj)['var3'] = 3\n",
        "vars(my_obj)"
      ],
      "execution_count": 7,
      "outputs": [
        {
          "output_type": "execute_result",
          "data": {
            "text/plain": [
              "{'var1': 1, 'var2': 2, 'var3': 3}"
            ]
          },
          "metadata": {
            "tags": []
          },
          "execution_count": 7
        }
      ]
    },
    {
      "cell_type": "code",
      "metadata": {
        "colab": {
          "base_uri": "https://localhost:8080/"
        },
        "id": "qTozfIWjODk2",
        "outputId": "1d6f0f7f-b5d3-4011-cef7-dbe79c2a7824"
      },
      "source": [
        "for i in range(4,10):\n",
        "    # Format a string\n",
        "    vars(my_obj)[f'var{i}'] = 0\n",
        "    \n",
        "vars(my_obj)"
      ],
      "execution_count": 8,
      "outputs": [
        {
          "output_type": "execute_result",
          "data": {
            "text/plain": [
              "{'var1': 1,\n",
              " 'var2': 2,\n",
              " 'var3': 3,\n",
              " 'var4': 0,\n",
              " 'var5': 0,\n",
              " 'var6': 0,\n",
              " 'var7': 0,\n",
              " 'var8': 0,\n",
              " 'var9': 0}"
            ]
          },
          "metadata": {
            "tags": []
          },
          "execution_count": 8
        }
      ]
    },
    {
      "cell_type": "code",
      "metadata": {
        "colab": {
          "base_uri": "https://localhost:8080/"
        },
        "id": "Jth751B-ODk2",
        "outputId": "95864a73-f617-4164-e732-ed00bb465f26"
      },
      "source": [
        "# Format a string\n",
        "i=1\n",
        "print(f\"var{i}\")\n",
        "\n",
        "# Format a string\n",
        "i=2\n",
        "print(\"var{}\".format(i))"
      ],
      "execution_count": 9,
      "outputs": [
        {
          "output_type": "stream",
          "text": [
            "var1\n",
            "var2\n"
          ],
          "name": "stdout"
        }
      ]
    },
    {
      "cell_type": "code",
      "metadata": {
        "colab": {
          "base_uri": "https://localhost:8080/"
        },
        "id": "VKpfHDwNODk3",
        "outputId": "6f10877a-2eb6-4202-d8f8-d56b792bce90"
      },
      "source": [
        "class MyClass:\n",
        "    def __init__(self):\n",
        "        vars(self)['var1'] = 1 \n",
        "\n",
        "my_obj = MyClass()\n",
        "vars(my_obj)"
      ],
      "execution_count": 10,
      "outputs": [
        {
          "output_type": "execute_result",
          "data": {
            "text/plain": [
              "{'var1': 1}"
            ]
          },
          "metadata": {
            "tags": []
          },
          "execution_count": 10
        }
      ]
    },
    {
      "cell_type": "code",
      "metadata": {
        "deletable": false,
        "id": "WGJGaxVjM00W",
        "nbgrader": {
          "cell_type": "code",
          "checksum": "7f19295d8925e1d2e60eefd42a6b4dd8",
          "grade": false,
          "grade_id": "cell-1449db9892707876",
          "locked": false,
          "schema_version": 3,
          "solution": true,
          "task": false
        }
      },
      "source": [
        "# generic VGG block\n",
        "class Block(tf.keras.Model):\n",
        "    def __init__(self, filters, kernel_size, repetitions, pool_size=2, strides=2):\n",
        "        super(Block, self).__init__()\n",
        "        self.filters = filters\n",
        "        self.kernel_size = kernel_size\n",
        "        self.repetitions = repetitions   \n",
        "\n",
        "        for i in range(repetitions):\n",
        "            conv = tf.keras.layers.Conv2D(filters, kernel_size, activation=\"relu\", padding=\"same\")    \n",
        "            vars(self)[f'conv2D_{i}'] = conv\n",
        "        \n",
        "        self.max_pool = tf.keras.layers.MaxPooling2D(pool_size = (3,3), strides = (2,2)) \n",
        "          \n",
        "    def call(self, inputs):\n",
        "        conv2D_0 = vars(self)[\"conv2D_0\"]        \n",
        "        x = conv2D_0(inputs)\n",
        "\n",
        "        for i in range(1, self.repetitions):\n",
        "            conv2D_i = vars(self)[f\"conv2D_{i}\"]        \n",
        "            x = conv2D_i(x)\n",
        "\n",
        "        max_pool = self.max_pool(x)\n",
        "        return max_pool"
      ],
      "execution_count": 11,
      "outputs": []
    },
    {
      "cell_type": "code",
      "metadata": {
        "deletable": false,
        "id": "yD-paeGiNGvz",
        "nbgrader": {
          "cell_type": "code",
          "checksum": "523346a38f53bc31e080114e98e8eca6",
          "grade": false,
          "grade_id": "cell-d9e90af0898eb47f",
          "locked": false,
          "schema_version": 3,
          "solution": true,
          "task": false
        }
      },
      "source": [
        "# Custom VGG network\n",
        "class MyVGG(tf.keras.Model):\n",
        "\n",
        "    def __init__(self, num_classes):\n",
        "        super(MyVGG, self).__init__()\n",
        "        self.block_a = Block(64, 3, 2)\n",
        "        self.block_b = Block(128, 3, 2)\n",
        "        self.block_c = Block(256, 3, 3)\n",
        "        self.block_d = Block(512, 3, 3)\n",
        "        self.block_e = Block(512, 3, 3)\n",
        "\n",
        "        # Classification head      \n",
        "        self.flatten = tf.keras.layers.Flatten()        \n",
        "        self.fc = tf.keras.layers.Dense(256, activation=\"relu\")\n",
        "        self.classifier = tf.keras.layers.Dense(num_classes, activation=\"softmax\")\n",
        "\n",
        "    def call(self, inputs):\n",
        "        x = self.block_a(inputs)\n",
        "        x = self.block_b(x)\n",
        "        x = self.block_c(x)\n",
        "        x = self.block_d(x)\n",
        "        x = self.block_e(x)\n",
        "        x = self.flatten(x)\n",
        "        x = self.fc(x)\n",
        "        x = self.classifier(x)\n",
        "        return x"
      ],
      "execution_count": 12,
      "outputs": []
    },
    {
      "cell_type": "code",
      "metadata": {
        "id": "MaF763OKNJxU"
      },
      "source": [
        "dataset = tfds.load('cats_vs_dogs', split=tfds.Split.TRAIN, data_dir='data/')\n",
        "\n",
        "vgg = MyVGG(num_classes=2)\n",
        "vgg.compile(optimizer='adam', loss='sparse_categorical_crossentropy', metrics=['accuracy'])\n",
        "\n",
        "def preprocess(features):\n",
        "    # Resize and normalize\n",
        "    image = tf.image.resize(features['image'], (224,224))\n",
        "    return tf.cast(image, tf.float32)/255., features['label']\n",
        "\n",
        "# transformations\n",
        "dataset = dataset.map(preprocess).batch(32).prefetch(1)\n",
        "\n",
        "# vgg.fit(dataset, epochs=15)"
      ],
      "execution_count": null,
      "outputs": []
    }
  ]
}