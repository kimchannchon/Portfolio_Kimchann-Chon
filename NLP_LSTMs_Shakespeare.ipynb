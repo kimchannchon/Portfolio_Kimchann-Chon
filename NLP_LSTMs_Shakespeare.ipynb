{
 "cells": [
  {
   "cell_type": "code",
   "execution_count": 1,
   "metadata": {
    "colab": {},
    "colab_type": "code",
    "id": "BOwsuGQQY9OL"
   },
   "outputs": [],
   "source": [
    "from tensorflow.keras.preprocessing.sequence import pad_sequences\n",
    "from tensorflow.keras.layers import Embedding, LSTM, Dense, Dropout, Bidirectional\n",
    "from tensorflow.keras.preprocessing.text import Tokenizer\n",
    "from tensorflow.keras.models import Sequential\n",
    "from tensorflow.keras.optimizers import Adam\n",
    "from os import getcwd\n",
    "\n",
    "from tensorflow.keras import regularizers\n",
    "\n",
    "import tensorflow.keras.utils as ku \n",
    "import numpy as np "
   ]
  },
  {
   "cell_type": "code",
   "execution_count": 6,
   "metadata": {
    "colab": {},
    "colab_type": "code",
    "id": "PRnDnCW-Z7qv"
   },
   "outputs": [
    {
     "name": "stdout",
     "output_type": "stream",
     "text": [
      "[[   0    0    0 ...    0   34  417]\n",
      " [   0    0    0 ...   34  417  877]\n",
      " [   0    0    0 ...  417  877  166]\n",
      " ...\n",
      " [   0    0    0 ...  493  493 3210]\n",
      " [   0    0    0 ...  493 3210   15]\n",
      " [   0    0    0 ... 3210   15   14]]\n"
     ]
    }
   ],
   "source": [
    "tokenizer = Tokenizer()\n",
    "path_sonnets = f\"{getcwd()}/../tmp2/sonnets.txt\"\n",
    "data = open(path_sonnets).read()\n",
    "\n",
    "corpus = data.lower().split(\"\\n\")\n",
    "\n",
    "tokenizer.fit_on_texts(corpus)\n",
    "total_words = len(tokenizer.word_index) + 1\n",
    "\n",
    "# input sequences\n",
    "input_sequences = []\n",
    "for line in corpus:\n",
    "\ttoken_list = tokenizer.texts_to_sequences([line])[0]\n",
    "\tfor i in range(1, len(token_list)):\n",
    "\t\tn_gram_sequence = token_list[:i+1]\n",
    "\t\tinput_sequences.append(n_gram_sequence)\n",
    "\n",
    "# pad sequences \n",
    "max_sequence_len = max([len(x) for x in input_sequences])\n",
    "input_sequences = np.array(pad_sequences(input_sequences, maxlen=max_sequence_len, padding='pre'))\n",
    "\n",
    "# predictors and label\n",
    "predictors, label = input_sequences[:,:-1],input_sequences[:,-1]\n",
    "\n",
    "label = ku.to_categorical(label, num_classes=total_words)\n",
    "\n",
    "print(input_sequences[:-1,:-1])"
   ]
  },
  {
   "cell_type": "code",
   "execution_count": 3,
   "metadata": {
    "colab": {},
    "colab_type": "code",
    "id": "w9vH8Y59ajYL"
   },
   "outputs": [
    {
     "name": "stdout",
     "output_type": "stream",
     "text": [
      "Model: \"sequential\"\n",
      "_________________________________________________________________\n",
      "Layer (type)                 Output Shape              Param #   \n",
      "=================================================================\n",
      "embedding (Embedding)        (None, 10, 100)           321100    \n",
      "_________________________________________________________________\n",
      "bidirectional (Bidirectional (None, 10, 300)           301200    \n",
      "_________________________________________________________________\n",
      "dropout (Dropout)            (None, 10, 300)           0         \n",
      "_________________________________________________________________\n",
      "lstm_1 (LSTM)                (None, 100)               160400    \n",
      "_________________________________________________________________\n",
      "dense (Dense)                (None, 1605)              162105    \n",
      "_________________________________________________________________\n",
      "dense_1 (Dense)              (None, 3211)              5156866   \n",
      "=================================================================\n",
      "Total params: 6,101,671\n",
      "Trainable params: 6,101,671\n",
      "Non-trainable params: 0\n",
      "_________________________________________________________________\n",
      "None\n"
     ]
    }
   ],
   "source": [
    "model = Sequential()\n",
    "model.add(Embedding(total_words, 100, input_length=max_sequence_len-1))\n",
    "model.add(Bidirectional(LSTM(150, return_sequences = True)))\n",
    "model.add(Dropout(0.5))\n",
    "model.add(LSTM(100))\n",
    "model.add(Dense(total_words/2, activation='relu', kernel_regularizer='l2'))\n",
    "model.add(Dense(total_words, activation='softmax'))\n",
    "\n",
    "model.compile(loss='categorical_crossentropy', \n",
    "              optimizer='adam', \n",
    "              metrics=['accuracy'])\n",
    "print(model.summary())"
   ]
  },
  {
   "cell_type": "code",
   "execution_count": 4,
   "metadata": {
    "colab": {},
    "colab_type": "code",
    "id": "AIg2f1HBxqof"
   },
   "outputs": [
    {
     "name": "stdout",
     "output_type": "stream",
     "text": [
      "Train on 15462 samples\n",
      "Epoch 1/50\n",
      "15462/15462 [==============================] - 22s 1ms/sample - loss: 7.3101 - accuracy: 0.0209\n",
      "Epoch 2/50\n",
      "15462/15462 [==============================] - 9s 601us/sample - loss: 6.5558 - accuracy: 0.0215\n",
      "Epoch 3/50\n",
      "15462/15462 [==============================] - 9s 595us/sample - loss: 6.4611 - accuracy: 0.0238\n",
      "Epoch 4/50\n",
      "15462/15462 [==============================] - 10s 666us/sample - loss: 6.3833 - accuracy: 0.0280\n",
      "Epoch 5/50\n",
      "15462/15462 [==============================] - 10s 673us/sample - loss: 6.2963 - accuracy: 0.0314\n",
      "Epoch 6/50\n",
      "15462/15462 [==============================] - 11s 718us/sample - loss: 6.2191 - accuracy: 0.0328\n",
      "Epoch 7/50\n",
      "15462/15462 [==============================] - 28s 2ms/sample - loss: 6.1536 - accuracy: 0.0371\n",
      "Epoch 8/50\n",
      "15462/15462 [==============================] - 20s 1ms/sample - loss: 6.0851 - accuracy: 0.0404\n",
      "Epoch 9/50\n",
      "15462/15462 [==============================] - 19s 1ms/sample - loss: 6.0176 - accuracy: 0.0444\n",
      "Epoch 10/50\n",
      "15462/15462 [==============================] - 16s 1ms/sample - loss: 5.9466 - accuracy: 0.0463\n",
      "Epoch 11/50\n",
      "15462/15462 [==============================] - 14s 899us/sample - loss: 5.8838 - accuracy: 0.0487\n",
      "Epoch 12/50\n",
      "15462/15462 [==============================] - 12s 763us/sample - loss: 5.8273 - accuracy: 0.0493\n",
      "Epoch 13/50\n",
      "15462/15462 [==============================] - 16s 1ms/sample - loss: 5.7649 - accuracy: 0.0524\n",
      "Epoch 14/50\n",
      "15462/15462 [==============================] - 14s 893us/sample - loss: 5.7091 - accuracy: 0.0534\n",
      "Epoch 15/50\n",
      "15462/15462 [==============================] - 11s 718us/sample - loss: 5.6407 - accuracy: 0.0600\n",
      "Epoch 16/50\n",
      "15462/15462 [==============================] - 11s 679us/sample - loss: 5.5767 - accuracy: 0.0622\n",
      "Epoch 17/50\n",
      "15462/15462 [==============================] - 11s 737us/sample - loss: 5.5047 - accuracy: 0.0651\n",
      "Epoch 18/50\n",
      "15462/15462 [==============================] - 15s 990us/sample - loss: 5.4347 - accuracy: 0.0700\n",
      "Epoch 19/50\n",
      "15462/15462 [==============================] - 16s 1ms/sample - loss: 5.3585 - accuracy: 0.0726\n",
      "Epoch 20/50\n",
      "15462/15462 [==============================] - 12s 796us/sample - loss: 5.2892 - accuracy: 0.0752\n",
      "Epoch 21/50\n",
      "15462/15462 [==============================] - 11s 711us/sample - loss: 5.2061 - accuracy: 0.0810\n",
      "Epoch 22/50\n",
      "15462/15462 [==============================] - 10s 628us/sample - loss: 5.1349 - accuracy: 0.0818\n",
      "Epoch 23/50\n",
      "15462/15462 [==============================] - 13s 866us/sample - loss: 5.0707 - accuracy: 0.0867\n",
      "Epoch 24/50\n",
      "15462/15462 [==============================] - 11s 685us/sample - loss: 4.9966 - accuracy: 0.0901\n",
      "Epoch 25/50\n",
      "15462/15462 [==============================] - 11s 712us/sample - loss: 4.9233 - accuracy: 0.0980\n",
      "Epoch 26/50\n",
      "15462/15462 [==============================] - 15s 964us/sample - loss: 4.8572 - accuracy: 0.1012\n",
      "Epoch 27/50\n",
      "15462/15462 [==============================] - 13s 828us/sample - loss: 4.7942 - accuracy: 0.1067\n",
      "Epoch 28/50\n",
      "15462/15462 [==============================] - 10s 627us/sample - loss: 4.7285 - accuracy: 0.1116\n",
      "Epoch 29/50\n",
      "15462/15462 [==============================] - 14s 892us/sample - loss: 4.6654 - accuracy: 0.1165\n",
      "Epoch 30/50\n",
      "15462/15462 [==============================] - 11s 731us/sample - loss: 4.5976 - accuracy: 0.1212\n",
      "Epoch 31/50\n",
      "15462/15462 [==============================] - 11s 692us/sample - loss: 4.5385 - accuracy: 0.1301\n",
      "Epoch 32/50\n",
      "15462/15462 [==============================] - 13s 828us/sample - loss: 4.4873 - accuracy: 0.1326\n",
      "Epoch 33/50\n",
      "15462/15462 [==============================] - 10s 673us/sample - loss: 4.4274 - accuracy: 0.1392\n",
      "Epoch 34/50\n",
      "15462/15462 [==============================] - 10s 666us/sample - loss: 4.3697 - accuracy: 0.1442\n",
      "Epoch 35/50\n",
      "15462/15462 [==============================] - 10s 646us/sample - loss: 4.3122 - accuracy: 0.1490\n",
      "Epoch 36/50\n",
      "15462/15462 [==============================] - 10s 615us/sample - loss: 4.2529 - accuracy: 0.1581\n",
      "Epoch 37/50\n",
      "15462/15462 [==============================] - 10s 621us/sample - loss: 4.1949 - accuracy: 0.1660\n",
      "Epoch 38/50\n",
      "15462/15462 [==============================] - 9s 569us/sample - loss: 4.1413 - accuracy: 0.1773\n",
      "Epoch 39/50\n",
      "15462/15462 [==============================] - 11s 692us/sample - loss: 4.0946 - accuracy: 0.1825\n",
      "Epoch 40/50\n",
      "15462/15462 [==============================] - 13s 834us/sample - loss: 4.0434 - accuracy: 0.1906\n",
      "Epoch 41/50\n",
      "15462/15462 [==============================] - 12s 751us/sample - loss: 3.9876 - accuracy: 0.1995\n",
      "Epoch 42/50\n",
      "15462/15462 [==============================] - 12s 789us/sample - loss: 3.9361 - accuracy: 0.2113\n",
      "Epoch 43/50\n",
      "15462/15462 [==============================] - 12s 750us/sample - loss: 3.8922 - accuracy: 0.2198\n",
      "Epoch 44/50\n",
      "15462/15462 [==============================] - 11s 692us/sample - loss: 3.8401 - accuracy: 0.2242\n",
      "Epoch 45/50\n",
      "15462/15462 [==============================] - 11s 686us/sample - loss: 3.7938 - accuracy: 0.2379\n",
      "Epoch 46/50\n",
      "15462/15462 [==============================] - 11s 730us/sample - loss: 3.7384 - accuracy: 0.2460\n",
      "Epoch 47/50\n",
      "15462/15462 [==============================] - 14s 912us/sample - loss: 3.7010 - accuracy: 0.2537\n",
      "Epoch 48/50\n",
      "15462/15462 [==============================] - 11s 738us/sample - loss: 3.6409 - accuracy: 0.2624\n",
      "Epoch 49/50\n",
      "15462/15462 [==============================] - 9s 614us/sample - loss: 3.5972 - accuracy: 0.2718\n",
      "Epoch 50/50\n",
      "15462/15462 [==============================] - 10s 666us/sample - loss: 3.5591 - accuracy: 0.2809\n"
     ]
    }
   ],
   "source": [
    " history = model.fit(predictors, label, \n",
    "                     epochs=50, \n",
    "                     batch_size=128, \n",
    "                     verbose=1)"
   ]
  },
  {
   "cell_type": "code",
   "execution_count": 5,
   "metadata": {
    "colab": {},
    "colab_type": "code",
    "id": "1fXTEO3GJ282"
   },
   "outputs": [
    {
     "data": {
      "image/png": "[encoded data removed]",
      "text/plain": [
       "<Figure size 432x288 with 1 Axes>"
      ]
     },
     "metadata": {
      "needs_background": "light"
     },
     "output_type": "display_data"
    },
    {
     "data": {
      "image/png": "[encoded data removed]",
      "text/plain": [
       "<Figure size 432x288 with 1 Axes>"
      ]
     },
     "metadata": {
      "needs_background": "light"
     },
     "output_type": "display_data"
    }
   ],
   "source": [
    "%matplotlib inline\n",
    "import matplotlib.pyplot as plt\n",
    "\n",
    "acc = history.history['accuracy']\n",
    "loss = history.history['loss']\n",
    "\n",
    "epochs = range(len(acc))\n",
    "\n",
    "plt.plot(epochs, acc, 'b', label='Training accuracy')\n",
    "plt.title('Training accuracy')\n",
    "plt.figure()\n",
    "plt.plot(epochs, loss, 'b', label='Training Loss')\n",
    "plt.title('Training loss')\n",
    "plt.legend()\n",
    "plt.show()"
   ]
  },
  {
   "cell_type": "code",
   "execution_count": 6,
   "metadata": {
    "colab": {},
    "colab_type": "code",
    "id": "6Vc6PHgxa6Hm"
   },
   "outputs": [
    {
     "name": "stdout",
     "output_type": "stream",
     "text": [
      "Help me Obi Wan Kenobi, you're my only hope that thy heart doth lie it grows to be groan so ground thee grows is die die die die go wide face inhearse prove thee thee ground ground ground ground ' ' toil'd go doth grow strange time thence go wastes heir face prove held wrong grow told die die die ' ' go doth prove die die misuse thee so bear his way brow brow place kings dyed brow light woe skill subscribes slow behind strange time due to kings die die go ' and in me foes twain twain needing held go wide face prove wrong prove forth\n"
     ]
    }
   ],
   "source": [
    "seed_text = \"Help me Obi Wan Kenobi, you're my only hope\"\n",
    "next_words = 100\n",
    "  \n",
    "for _ in range(next_words):\n",
    "\ttoken_list = tokenizer.texts_to_sequences([seed_text])[0]\n",
    "\ttoken_list = pad_sequences([token_list], maxlen=max_sequence_len-1, padding='pre')\n",
    "\tpredicted = model.predict_classes(token_list, verbose=0)\n",
    "\toutput_word = \"\"\n",
    "\tfor word, index in tokenizer.word_index.items():\n",
    "\t\tif index == predicted:\n",
    "\t\t\toutput_word = word\n",
    "\t\t\tbreak\n",
    "\tseed_text += \" \" + output_word\n",
    "print(seed_text)"
   ]
  }
 ],
 "metadata": {
  "accelerator": "GPU",
  "colab": {
   "name": "NLP-Week4-Exercise-Shakespeare-Question.ipynb",
   "provenance": []
  },
  "coursera": {
   "course_slug": "natural-language-processing-tensorflow",
   "graded_item_id": "zLi5k",
   "launcher_item_id": "qRKzU"
  },
  "kernelspec": {
   "display_name": "Python 3",
   "language": "python",
   "name": "python3"
  },
  "language_info": {
   "codemirror_mode": {
    "name": "ipython",
    "version": 3
   },
   "file_extension": ".py",
   "mimetype": "text/x-python",
   "name": "python",
   "nbconvert_exporter": "python",
   "pygments_lexer": "ipython3",
   "version": "3.8.8"
  }
 },
 "nbformat": 4,
 "nbformat_minor": 1
}
