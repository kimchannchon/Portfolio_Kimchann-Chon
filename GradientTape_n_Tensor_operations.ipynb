{
  "nbformat": 4,
  "nbformat_minor": 0,
  "metadata": {
    "coursera": {
      "schema_names": [
        "TF3C2W1-1",
        "TF3C2W1-2",
        "TF3C2W1-3",
        "TF3C2W1-4",
        "TF3C2W1-5",
        "TF3C2W1-6",
        "TF3C2W1-7"
      ]
    },
    "kernelspec": {
      "display_name": "Python 3",
      "language": "python",
      "name": "python3"
    },
    "language_info": {
      "codemirror_mode": {
        "name": "ipython",
        "version": 3
      },
      "file_extension": ".py",
      "mimetype": "text/x-python",
      "name": "python",
      "nbconvert_exporter": "python",
      "pygments_lexer": "ipython3",
      "version": "3.8.5"
    },
    "colab": {
      "name": "C2W1_Assignment.ipynb",
      "provenance": []
    }
  },
  "cells": [
    {
      "cell_type": "code",
      "metadata": {
        "id": "jqev488WJ9-R"
      },
      "source": [
        "import tensorflow as tf\n",
        "import numpy as np"
      ],
      "execution_count": 1,
      "outputs": []
    },
    {
      "cell_type": "code",
      "metadata": {
        "id": "MYdVyiSoLPgO"
      },
      "source": [
        "# Convert NumPy array to Tensor\n",
        "def tf_constant(array):\n",
        "    \"\"\"\n",
        "    Args:\n",
        "        array (numpy.ndarray): tensor-like array.\n",
        "\n",
        "    Returns:\n",
        "        tensorflow.python.framework.ops.EagerTensor: tensor.\n",
        "    \"\"\"\n",
        "    tf_constant_array = tf.constant(array)\n",
        "    return tf_constant_array"
      ],
      "execution_count": 2,
      "outputs": []
    },
    {
      "cell_type": "code",
      "metadata": {
        "colab": {
          "base_uri": "https://localhost:8080/"
        },
        "id": "qXRADH5fYQvF",
        "outputId": "0e760b7b-5867-4d33-fefa-b414a0707dbd"
      },
      "source": [
        "tmp_array = np.arange(1,10)\n",
        "x = tf_constant(tmp_array)\n",
        "x"
      ],
      "execution_count": 3,
      "outputs": [
        {
          "output_type": "execute_result",
          "data": {
            "text/plain": [
              "<tf.Tensor: shape=(9,), dtype=int64, numpy=array([1, 2, 3, 4, 5, 6, 7, 8, 9])>"
            ]
          },
          "metadata": {
            "tags": []
          },
          "execution_count": 3
        }
      ]
    },
    {
      "cell_type": "code",
      "metadata": {
        "id": "W6BTwNJCLjV8"
      },
      "source": [
        "# Square the input tensor\n",
        "def tf_square(array):\n",
        "    \"\"\"\n",
        "    Args:\n",
        "        array (numpy.ndarray): tensor-like array.\n",
        "\n",
        "    Returns:\n",
        "        EagerTensor: tensor.\n",
        "    \"\"\"\n",
        "    array = tf.constant(array)\n",
        "    tf_squared_array = tf.square(array)\n",
        "    return tf_squared_array"
      ],
      "execution_count": 4,
      "outputs": []
    },
    {
      "cell_type": "code",
      "metadata": {
        "colab": {
          "base_uri": "https://localhost:8080/"
        },
        "id": "yzziOk91YQvJ",
        "outputId": "64ad1117-c101-4224-deec-986c93e6b56d"
      },
      "source": [
        "tmp_array = tf.constant(np.arange(1, 10))\n",
        "x = tf_square(tmp_array)\n",
        "x"
      ],
      "execution_count": 5,
      "outputs": [
        {
          "output_type": "execute_result",
          "data": {
            "text/plain": [
              "<tf.Tensor: shape=(9,), dtype=int64, numpy=array([ 1,  4,  9, 16, 25, 36, 49, 64, 81])>"
            ]
          },
          "metadata": {
            "tags": []
          },
          "execution_count": 5
        }
      ]
    },
    {
      "cell_type": "code",
      "metadata": {
        "id": "7nzBSX8-L0Xt"
      },
      "source": [
        "# Reshape tensor\n",
        "def tf_reshape(array, shape):\n",
        "    \"\"\"\n",
        "    Args:\n",
        "        array (EagerTensor): tensor to reshape.\n",
        "        shape (tuple): desired shape.\n",
        "\n",
        "    Returns:\n",
        "        EagerTensor: reshaped tensor.\n",
        "    \"\"\"\n",
        "    array = tf.constant(array)\n",
        "    tf_reshaped_array = tf.reshape(array, shape=shape)\n",
        "    return tf_reshaped_array"
      ],
      "execution_count": 6,
      "outputs": []
    },
    {
      "cell_type": "code",
      "metadata": {
        "colab": {
          "base_uri": "https://localhost:8080/"
        },
        "id": "mhnrmMpKYQvK",
        "outputId": "3ecc42ae-c1db-4bec-9973-c8e0ec054fb5"
      },
      "source": [
        "tmp_array = np.array([1,2,3,4,5,6,7,8,9])\n",
        "x = tf_reshape(tmp_array, (3, 3))\n",
        "x"
      ],
      "execution_count": 7,
      "outputs": [
        {
          "output_type": "execute_result",
          "data": {
            "text/plain": [
              "<tf.Tensor: shape=(3, 3), dtype=int64, numpy=\n",
              "array([[1, 2, 3],\n",
              "       [4, 5, 6],\n",
              "       [7, 8, 9]])>"
            ]
          },
          "metadata": {
            "tags": []
          },
          "execution_count": 7
        }
      ]
    },
    {
      "cell_type": "code",
      "metadata": {
        "id": "VoT-jiAIL8x5"
      },
      "source": [
        "# Cast tensor to a new type\n",
        "def tf_cast(array, dtype):\n",
        "    \"\"\"\n",
        "    Args:\n",
        "        array (EagerTensor): tensor to be casted.\n",
        "        dtype (tensorflow.python.framework.dtypes.DType): desired new type. (Should be a TF dtype!)\n",
        "\n",
        "    Returns:\n",
        "        EagerTensor: casted tensor.\n",
        "    \"\"\"\n",
        "    array = tf.constant(array)\n",
        "    tf_cast_array = tf.cast(array, dtype)\n",
        "    return tf_cast_array"
      ],
      "execution_count": 8,
      "outputs": []
    },
    {
      "cell_type": "code",
      "metadata": {
        "colab": {
          "base_uri": "https://localhost:8080/"
        },
        "id": "WsOpaKvLYQvL",
        "outputId": "b3e64436-96f3-4d6b-a78c-5a84cf7e33f2"
      },
      "source": [
        "tmp_array = [1,2,3,4]\n",
        "x = tf_cast(tmp_array, tf.float32)\n",
        "x"
      ],
      "execution_count": 9,
      "outputs": [
        {
          "output_type": "execute_result",
          "data": {
            "text/plain": [
              "<tf.Tensor: shape=(4,), dtype=float32, numpy=array([1., 2., 3., 4.], dtype=float32)>"
            ]
          },
          "metadata": {
            "tags": []
          },
          "execution_count": 9
        }
      ]
    },
    {
      "cell_type": "code",
      "metadata": {
        "id": "ivepGtD5MKP5"
      },
      "source": [
        "# Multiply tensors\n",
        "def tf_multiply(tensor1, tensor2):\n",
        "    \"\"\"\n",
        "    Args:\n",
        "        tensor1 (EagerTensor): a tensor.\n",
        "        tensor2 (EagerTensor): another tensor.\n",
        "\n",
        "    Returns:\n",
        "        EagerTensor: resulting tensor.\n",
        "    \"\"\"\n",
        "    tensor1 = tf.constant(tensor1)\n",
        "    tensor2 = tf.constant(tensor2)\n",
        "    product = tf.multiply(tensor1, tensor2)\n",
        "    return product"
      ],
      "execution_count": 10,
      "outputs": []
    },
    {
      "cell_type": "code",
      "metadata": {
        "colab": {
          "base_uri": "https://localhost:8080/"
        },
        "id": "DJ5pSdVfYQvM",
        "outputId": "95b026f5-248f-42b7-c26b-bf0746705d56"
      },
      "source": [
        "tmp_1 = tf.constant(np.array([[1,2],[3,4]]))\n",
        "tmp_2 = tf.constant(np.array(2))\n",
        "result = tf_multiply(tmp_1, tmp_2)\n",
        "result"
      ],
      "execution_count": 11,
      "outputs": [
        {
          "output_type": "execute_result",
          "data": {
            "text/plain": [
              "<tf.Tensor: shape=(2, 2), dtype=int64, numpy=\n",
              "array([[2, 4],\n",
              "       [6, 8]])>"
            ]
          },
          "metadata": {
            "tags": []
          },
          "execution_count": 11
        }
      ]
    },
    {
      "cell_type": "code",
      "metadata": {
        "id": "BVlntdYnMboh"
      },
      "source": [
        "# Add tensors\n",
        "def tf_add(tensor1, tensor2):\n",
        "    \"\"\"\n",
        "    Args:\n",
        "        tensor1 (EagerTensor): a tensor.\n",
        "        tensor2 (EagerTensor): another tensor.\n",
        "\n",
        "    Returns:\n",
        "        EagerTensor: resulting tensor.\n",
        "    \"\"\"\n",
        "    tensor1 = tf.constant(tensor1)\n",
        "    tensor2 = tf.constant(tensor2)\n",
        "    total = tf.add(tensor1, tensor2)\n",
        "    return total"
      ],
      "execution_count": 12,
      "outputs": []
    },
    {
      "cell_type": "code",
      "metadata": {
        "colab": {
          "base_uri": "https://localhost:8080/"
        },
        "id": "IXcsLSxUYQvN",
        "outputId": "ed498ee0-8bbc-40f6-f791-fa4f49b57ca4"
      },
      "source": [
        "tmp_1 = tf.constant(np.array([1, 2, 3]))\n",
        "tmp_2 = tf.constant(np.array([4, 5, 6 ]))\n",
        "tf_add(tmp_1, tmp_2)"
      ],
      "execution_count": 13,
      "outputs": [
        {
          "output_type": "execute_result",
          "data": {
            "text/plain": [
              "<tf.Tensor: shape=(3,), dtype=int64, numpy=array([5, 7, 9])>"
            ]
          },
          "metadata": {
            "tags": []
          },
          "execution_count": 13
        }
      ]
    },
    {
      "cell_type": "code",
      "metadata": {
        "id": "p3K94BWZM6nW"
      },
      "source": [
        "# Gradient Tape\n",
        "def tf_gradient_tape(x):\n",
        "    \"\"\"\n",
        "    Args:\n",
        "        x (EagerTensor): a tensor.\n",
        "\n",
        "    Returns:\n",
        "        EagerTensor: Derivative of z with respect to the input tensor x.\n",
        "    \"\"\"\n",
        "    with tf.GradientTape() as t:\n",
        "        # Record the actions performed on tensor x\n",
        "         t.watch(x)\n",
        "\n",
        "        # Define a polynomial of form 3x^3 - 2x^2 + x\n",
        "         y = tf.pow(x, 3)*3-tf.square(x)*2+x\n",
        "\n",
        "        # Obtain the sum of the elements\n",
        "         z = tf.reduce_sum(y)\n",
        "  \n",
        "    dz_dx = t.gradient(z, x)\n",
        "    return dz_dx"
      ],
      "execution_count": 14,
      "outputs": []
    },
    {
      "cell_type": "code",
      "metadata": {
        "colab": {
          "base_uri": "https://localhost:8080/"
        },
        "id": "75ct8_TCYQvO",
        "outputId": "ff5ab907-2587-4cbc-af2e-59933079ac51"
      },
      "source": [
        "tmp_x = tf.constant(2.0)\n",
        "dz_dx = tf_gradient_tape(tmp_x)\n",
        "result = dz_dx.numpy()\n",
        "result"
      ],
      "execution_count": 15,
      "outputs": [
        {
          "output_type": "execute_result",
          "data": {
            "text/plain": [
              "29.0"
            ]
          },
          "metadata": {
            "tags": []
          },
          "execution_count": 15
        }
      ]
    }
  ]
}
