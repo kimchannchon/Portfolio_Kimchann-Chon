{
  "nbformat": 4,
  "nbformat_minor": 0,
  "metadata": {
    "coursera": {
      "schema_names": [
        "TF3C2W2-1",
        "TF3C2W2-2",
        "TF3C2W2-3"
      ]
    },
    "kernelspec": {
      "display_name": "Python 3",
      "language": "python",
      "name": "python3"
    },
    "language_info": {
      "codemirror_mode": {
        "name": "ipython",
        "version": 3
      },
      "file_extension": ".py",
      "mimetype": "text/x-python",
      "name": "python",
      "nbconvert_exporter": "python",
      "pygments_lexer": "ipython3",
      "version": "3.8.5"
    },
    "colab": {
      "name": "C2W2_Assignment.ipynb",
      "provenance": []
    }
  },
  "cells": [
    {
      "cell_type": "code",
      "metadata": {
        "id": "JkMXve8XuN5X"
      },
      "source": [
        "import tensorflow as tf\n",
        "from tensorflow.keras.models import Model\n",
        "from tensorflow.keras.layers import Dense, Input\n",
        "\n",
        "import numpy as np\n",
        "import matplotlib.pyplot as plt\n",
        "import matplotlib.ticker as mticker\n",
        "import pandas as pd\n",
        "from sklearn.model_selection import train_test_split\n",
        "from sklearn.metrics import confusion_matrix\n",
        "import itertools\n",
        "from tqdm import tqdm\n",
        "import tensorflow_datasets as tfds\n",
        "\n",
        "tf.get_logger().setLevel('ERROR')"
      ],
      "execution_count": 1,
      "outputs": []
    },
    {
      "cell_type": "code",
      "metadata": {
        "id": "HVh-W73J5TjS"
      },
      "source": [
        "DATASET_URL = \"data/\"\n",
        "data_file = tf.keras.utils.get_file(\"breast_cancer.csv\", DATASET_URL)\n",
        "col_names = [\"id\", \"clump_thickness\", \"un_cell_size\", \"un_cell_shape\", \"marginal_adheshion\", \"single_eph_cell_size\", \"bare_nuclei\", \"bland_chromatin\", \"normal_nucleoli\", \"mitoses\", \"class\"]\n",
        "df = pd.read_csv(data_file, names=col_names, header=None)"
      ],
      "execution_count": 2,
      "outputs": []
    },
    {
      "cell_type": "code",
      "metadata": {
        "colab": {
          "base_uri": "https://localhost:8080/",
          "height": 204
        },
        "id": "XEv8vS_P6HaV",
        "outputId": "d475d8ee-c777-4794-eb8c-ef6950f7f286"
      },
      "source": [
        "df.head()"
      ],
      "execution_count": 3,
      "outputs": [
        {
          "output_type": "execute_result",
          "data": {
            "text/html": [
              "<div>\n",
              "<style scoped>\n",
              "    .dataframe tbody tr th:only-of-type {\n",
              "        vertical-align: middle;\n",
              "    }\n",
              "\n",
              "    .dataframe tbody tr th {\n",
              "        vertical-align: top;\n",
              "    }\n",
              "\n",
              "    .dataframe thead th {\n",
              "        text-align: right;\n",
              "    }\n",
              "</style>\n",
              "<table border=\"1\" class=\"dataframe\">\n",
              "  <thead>\n",
              "    <tr style=\"text-align: right;\">\n",
              "      <th></th>\n",
              "      <th>id</th>\n",
              "      <th>clump_thickness</th>\n",
              "      <th>un_cell_size</th>\n",
              "      <th>un_cell_shape</th>\n",
              "      <th>marginal_adheshion</th>\n",
              "      <th>single_eph_cell_size</th>\n",
              "      <th>bare_nuclei</th>\n",
              "      <th>bland_chromatin</th>\n",
              "      <th>normal_nucleoli</th>\n",
              "      <th>mitoses</th>\n",
              "      <th>class</th>\n",
              "    </tr>\n",
              "  </thead>\n",
              "  <tbody>\n",
              "    <tr>\n",
              "      <th>0</th>\n",
              "      <td>1000025</td>\n",
              "      <td>5</td>\n",
              "      <td>1</td>\n",
              "      <td>1</td>\n",
              "      <td>1</td>\n",
              "      <td>2</td>\n",
              "      <td>1</td>\n",
              "      <td>3</td>\n",
              "      <td>1</td>\n",
              "      <td>1</td>\n",
              "      <td>2</td>\n",
              "    </tr>\n",
              "    <tr>\n",
              "      <th>1</th>\n",
              "      <td>1002945</td>\n",
              "      <td>5</td>\n",
              "      <td>4</td>\n",
              "      <td>4</td>\n",
              "      <td>5</td>\n",
              "      <td>7</td>\n",
              "      <td>10</td>\n",
              "      <td>3</td>\n",
              "      <td>2</td>\n",
              "      <td>1</td>\n",
              "      <td>2</td>\n",
              "    </tr>\n",
              "    <tr>\n",
              "      <th>2</th>\n",
              "      <td>1015425</td>\n",
              "      <td>3</td>\n",
              "      <td>1</td>\n",
              "      <td>1</td>\n",
              "      <td>1</td>\n",
              "      <td>2</td>\n",
              "      <td>2</td>\n",
              "      <td>3</td>\n",
              "      <td>1</td>\n",
              "      <td>1</td>\n",
              "      <td>2</td>\n",
              "    </tr>\n",
              "    <tr>\n",
              "      <th>3</th>\n",
              "      <td>1016277</td>\n",
              "      <td>6</td>\n",
              "      <td>8</td>\n",
              "      <td>8</td>\n",
              "      <td>1</td>\n",
              "      <td>3</td>\n",
              "      <td>4</td>\n",
              "      <td>3</td>\n",
              "      <td>7</td>\n",
              "      <td>1</td>\n",
              "      <td>2</td>\n",
              "    </tr>\n",
              "    <tr>\n",
              "      <th>4</th>\n",
              "      <td>1017023</td>\n",
              "      <td>4</td>\n",
              "      <td>1</td>\n",
              "      <td>1</td>\n",
              "      <td>3</td>\n",
              "      <td>2</td>\n",
              "      <td>1</td>\n",
              "      <td>3</td>\n",
              "      <td>1</td>\n",
              "      <td>1</td>\n",
              "      <td>2</td>\n",
              "    </tr>\n",
              "  </tbody>\n",
              "</table>\n",
              "</div>"
            ],
            "text/plain": [
              "        id  clump_thickness  un_cell_size  ...  normal_nucleoli  mitoses  class\n",
              "0  1000025                5             1  ...                1        1      2\n",
              "1  1002945                5             4  ...                2        1      2\n",
              "2  1015425                3             1  ...                1        1      2\n",
              "3  1016277                6             8  ...                7        1      2\n",
              "4  1017023                4             1  ...                1        1      2\n",
              "\n",
              "[5 rows x 11 columns]"
            ]
          },
          "metadata": {
            "tags": []
          },
          "execution_count": 3
        }
      ]
    },
    {
      "cell_type": "code",
      "metadata": {
        "colab": {
          "base_uri": "https://localhost:8080/"
        },
        "id": "nDeXwHdA5uUN",
        "outputId": "31a309d4-0c33-447f-8ce6-e698c902234d"
      },
      "source": [
        "df.pop(\"id\")"
      ],
      "execution_count": 4,
      "outputs": [
        {
          "output_type": "execute_result",
          "data": {
            "text/plain": [
              "0      1000025\n",
              "1      1002945\n",
              "2      1015425\n",
              "3      1016277\n",
              "4      1017023\n",
              "        ...   \n",
              "694     776715\n",
              "695     841769\n",
              "696     888820\n",
              "697     897471\n",
              "698     897471\n",
              "Name: id, Length: 699, dtype: int64"
            ]
          },
          "metadata": {
            "tags": []
          },
          "execution_count": 4
        }
      ]
    },
    {
      "cell_type": "code",
      "metadata": {
        "id": "MCcOrl1ITVhr"
      },
      "source": [
        "df = df[df[\"bare_nuclei\"] != '?' ]\n",
        "df.bare_nuclei = pd.to_numeric(df.bare_nuclei)"
      ],
      "execution_count": 5,
      "outputs": []
    },
    {
      "cell_type": "code",
      "metadata": {
        "colab": {
          "base_uri": "https://localhost:8080/",
          "height": 282
        },
        "id": "SaAdQrBv8daS",
        "outputId": "b8477087-8631-4322-e1bc-cb509dc9bae9"
      },
      "source": [
        "# 2.0 = benign\n",
        "# 4.0 = malignant\n",
        "df['class'].hist(bins=20) "
      ],
      "execution_count": 6,
      "outputs": [
        {
          "output_type": "execute_result",
          "data": {
            "text/plain": [
              "<matplotlib.axes._subplots.AxesSubplot at 0x7f6ff88f86d0>"
            ]
          },
          "metadata": {
            "tags": []
          },
          "execution_count": 6
        },
        {
          "output_type": "display_data",
          "data": {
            "image/png": "[encoded data removed]",
            "text/plain": [
              "<Figure size 432x288 with 1 Axes>"
            ]
          },
          "metadata": {
            "tags": [],
            "needs_background": "light"
          }
        }
      ]
    },
    {
      "cell_type": "code",
      "metadata": {
        "id": "1MVzeUwf_A3E",
        "lines_to_next_cell": 2
      },
      "source": [
        "# benign(2.0) = 0\n",
        "# malignant(4.0) = 1\n",
        "df['class'] = np.where(df['class'] == 2, 0, 1)"
      ],
      "execution_count": 7,
      "outputs": []
    },
    {
      "cell_type": "code",
      "metadata": {
        "id": "aNUy7JcuAXjC"
      },
      "source": [
        "train, test = train_test_split(df, test_size=0.2)"
      ],
      "execution_count": 8,
      "outputs": []
    },
    {
      "cell_type": "code",
      "metadata": {
        "colab": {
          "base_uri": "https://localhost:8080/",
          "height": 328
        },
        "id": "k86tBT_QAm2P",
        "outputId": "879842ef-e57a-44de-eb18-976cda6ea3f3"
      },
      "source": [
        "train_stats = train.describe()\n",
        "train_stats.pop('class')\n",
        "train_stats = train_stats.transpose()\n",
        "train_stats"
      ],
      "execution_count": 9,
      "outputs": [
        {
          "output_type": "execute_result",
          "data": {
            "text/html": [
              "<div>\n",
              "<style scoped>\n",
              "    .dataframe tbody tr th:only-of-type {\n",
              "        vertical-align: middle;\n",
              "    }\n",
              "\n",
              "    .dataframe tbody tr th {\n",
              "        vertical-align: top;\n",
              "    }\n",
              "\n",
              "    .dataframe thead th {\n",
              "        text-align: right;\n",
              "    }\n",
              "</style>\n",
              "<table border=\"1\" class=\"dataframe\">\n",
              "  <thead>\n",
              "    <tr style=\"text-align: right;\">\n",
              "      <th></th>\n",
              "      <th>count</th>\n",
              "      <th>mean</th>\n",
              "      <th>std</th>\n",
              "      <th>min</th>\n",
              "      <th>25%</th>\n",
              "      <th>50%</th>\n",
              "      <th>75%</th>\n",
              "      <th>max</th>\n",
              "    </tr>\n",
              "  </thead>\n",
              "  <tbody>\n",
              "    <tr>\n",
              "      <th>clump_thickness</th>\n",
              "      <td>546.0</td>\n",
              "      <td>4.443223</td>\n",
              "      <td>2.796046</td>\n",
              "      <td>1.0</td>\n",
              "      <td>2.0</td>\n",
              "      <td>4.0</td>\n",
              "      <td>6.0</td>\n",
              "      <td>10.0</td>\n",
              "    </tr>\n",
              "    <tr>\n",
              "      <th>un_cell_size</th>\n",
              "      <td>546.0</td>\n",
              "      <td>3.130037</td>\n",
              "      <td>3.061380</td>\n",
              "      <td>1.0</td>\n",
              "      <td>1.0</td>\n",
              "      <td>1.0</td>\n",
              "      <td>5.0</td>\n",
              "      <td>10.0</td>\n",
              "    </tr>\n",
              "    <tr>\n",
              "      <th>un_cell_shape</th>\n",
              "      <td>546.0</td>\n",
              "      <td>3.184982</td>\n",
              "      <td>2.993055</td>\n",
              "      <td>1.0</td>\n",
              "      <td>1.0</td>\n",
              "      <td>1.0</td>\n",
              "      <td>5.0</td>\n",
              "      <td>10.0</td>\n",
              "    </tr>\n",
              "    <tr>\n",
              "      <th>marginal_adheshion</th>\n",
              "      <td>546.0</td>\n",
              "      <td>2.717949</td>\n",
              "      <td>2.750334</td>\n",
              "      <td>1.0</td>\n",
              "      <td>1.0</td>\n",
              "      <td>1.0</td>\n",
              "      <td>3.0</td>\n",
              "      <td>10.0</td>\n",
              "    </tr>\n",
              "    <tr>\n",
              "      <th>single_eph_cell_size</th>\n",
              "      <td>546.0</td>\n",
              "      <td>3.175824</td>\n",
              "      <td>2.167788</td>\n",
              "      <td>1.0</td>\n",
              "      <td>2.0</td>\n",
              "      <td>2.0</td>\n",
              "      <td>4.0</td>\n",
              "      <td>10.0</td>\n",
              "    </tr>\n",
              "    <tr>\n",
              "      <th>bare_nuclei</th>\n",
              "      <td>546.0</td>\n",
              "      <td>3.525641</td>\n",
              "      <td>3.640784</td>\n",
              "      <td>1.0</td>\n",
              "      <td>1.0</td>\n",
              "      <td>1.0</td>\n",
              "      <td>6.0</td>\n",
              "      <td>10.0</td>\n",
              "    </tr>\n",
              "    <tr>\n",
              "      <th>bland_chromatin</th>\n",
              "      <td>546.0</td>\n",
              "      <td>3.395604</td>\n",
              "      <td>2.433915</td>\n",
              "      <td>1.0</td>\n",
              "      <td>2.0</td>\n",
              "      <td>3.0</td>\n",
              "      <td>4.0</td>\n",
              "      <td>10.0</td>\n",
              "    </tr>\n",
              "    <tr>\n",
              "      <th>normal_nucleoli</th>\n",
              "      <td>546.0</td>\n",
              "      <td>2.847985</td>\n",
              "      <td>3.065159</td>\n",
              "      <td>1.0</td>\n",
              "      <td>1.0</td>\n",
              "      <td>1.0</td>\n",
              "      <td>3.0</td>\n",
              "      <td>10.0</td>\n",
              "    </tr>\n",
              "    <tr>\n",
              "      <th>mitoses</th>\n",
              "      <td>546.0</td>\n",
              "      <td>1.606227</td>\n",
              "      <td>1.732760</td>\n",
              "      <td>1.0</td>\n",
              "      <td>1.0</td>\n",
              "      <td>1.0</td>\n",
              "      <td>1.0</td>\n",
              "      <td>10.0</td>\n",
              "    </tr>\n",
              "  </tbody>\n",
              "</table>\n",
              "</div>"
            ],
            "text/plain": [
              "                      count      mean       std  min  25%  50%  75%   max\n",
              "clump_thickness       546.0  4.443223  2.796046  1.0  2.0  4.0  6.0  10.0\n",
              "un_cell_size          546.0  3.130037  3.061380  1.0  1.0  1.0  5.0  10.0\n",
              "un_cell_shape         546.0  3.184982  2.993055  1.0  1.0  1.0  5.0  10.0\n",
              "marginal_adheshion    546.0  2.717949  2.750334  1.0  1.0  1.0  3.0  10.0\n",
              "single_eph_cell_size  546.0  3.175824  2.167788  1.0  2.0  2.0  4.0  10.0\n",
              "bare_nuclei           546.0  3.525641  3.640784  1.0  1.0  1.0  6.0  10.0\n",
              "bland_chromatin       546.0  3.395604  2.433915  1.0  2.0  3.0  4.0  10.0\n",
              "normal_nucleoli       546.0  2.847985  3.065159  1.0  1.0  1.0  3.0  10.0\n",
              "mitoses               546.0  1.606227  1.732760  1.0  1.0  1.0  1.0  10.0"
            ]
          },
          "metadata": {
            "tags": []
          },
          "execution_count": 9
        }
      ]
    },
    {
      "cell_type": "code",
      "metadata": {
        "id": "V7EGUV-tA5LZ"
      },
      "source": [
        "train_Y = train.pop(\"class\")\n",
        "test_Y = test.pop(\"class\")"
      ],
      "execution_count": 10,
      "outputs": []
    },
    {
      "cell_type": "code",
      "metadata": {
        "id": "NDo__q_AA3j0"
      },
      "source": [
        "# normalize - X = (X - mean(X)) / StandardDeviation(X)\n",
        "def norm(x):\n",
        "    return (x-train_stats['mean'])/train_stats['std']"
      ],
      "execution_count": 11,
      "outputs": []
    },
    {
      "cell_type": "code",
      "metadata": {
        "colab": {
          "base_uri": "https://localhost:8080/",
          "height": 419
        },
        "id": "pdARlWaDA_8G",
        "outputId": "9c926fe2-c90c-411b-83f3-9e4600d8d4ee"
      },
      "source": [
        "norm_train_X = norm(train)\n",
        "norm_test_X = norm(test)\n",
        "\n",
        "norm_train_X"
      ],
      "execution_count": 12,
      "outputs": [
        {
          "output_type": "execute_result",
          "data": {
            "text/html": [
              "<div>\n",
              "<style scoped>\n",
              "    .dataframe tbody tr th:only-of-type {\n",
              "        vertical-align: middle;\n",
              "    }\n",
              "\n",
              "    .dataframe tbody tr th {\n",
              "        vertical-align: top;\n",
              "    }\n",
              "\n",
              "    .dataframe thead th {\n",
              "        text-align: right;\n",
              "    }\n",
              "</style>\n",
              "<table border=\"1\" class=\"dataframe\">\n",
              "  <thead>\n",
              "    <tr style=\"text-align: right;\">\n",
              "      <th></th>\n",
              "      <th>clump_thickness</th>\n",
              "      <th>un_cell_size</th>\n",
              "      <th>un_cell_shape</th>\n",
              "      <th>marginal_adheshion</th>\n",
              "      <th>single_eph_cell_size</th>\n",
              "      <th>bare_nuclei</th>\n",
              "      <th>bland_chromatin</th>\n",
              "      <th>normal_nucleoli</th>\n",
              "      <th>mitoses</th>\n",
              "    </tr>\n",
              "  </thead>\n",
              "  <tbody>\n",
              "    <tr>\n",
              "      <th>378</th>\n",
              "      <td>-0.516166</td>\n",
              "      <td>-0.695777</td>\n",
              "      <td>-0.730017</td>\n",
              "      <td>0.466144</td>\n",
              "      <td>-0.081108</td>\n",
              "      <td>-0.693708</td>\n",
              "      <td>-0.573399</td>\n",
              "      <td>-0.276653</td>\n",
              "      <td>-0.349862</td>\n",
              "    </tr>\n",
              "    <tr>\n",
              "      <th>71</th>\n",
              "      <td>0.556778</td>\n",
              "      <td>2.244074</td>\n",
              "      <td>-0.395910</td>\n",
              "      <td>1.920513</td>\n",
              "      <td>3.147991</td>\n",
              "      <td>-0.419042</td>\n",
              "      <td>1.480904</td>\n",
              "      <td>1.680831</td>\n",
              "      <td>4.844164</td>\n",
              "    </tr>\n",
              "    <tr>\n",
              "      <th>35</th>\n",
              "      <td>-0.873814</td>\n",
              "      <td>-0.695777</td>\n",
              "      <td>-0.730017</td>\n",
              "      <td>-0.624633</td>\n",
              "      <td>-0.542407</td>\n",
              "      <td>-0.693708</td>\n",
              "      <td>-0.573399</td>\n",
              "      <td>-0.602900</td>\n",
              "      <td>-0.349862</td>\n",
              "    </tr>\n",
              "    <tr>\n",
              "      <th>482</th>\n",
              "      <td>1.629722</td>\n",
              "      <td>2.244074</td>\n",
              "      <td>2.276944</td>\n",
              "      <td>2.647697</td>\n",
              "      <td>3.147991</td>\n",
              "      <td>0.404957</td>\n",
              "      <td>2.713486</td>\n",
              "      <td>2.333326</td>\n",
              "      <td>4.844164</td>\n",
              "    </tr>\n",
              "    <tr>\n",
              "      <th>114</th>\n",
              "      <td>-0.516166</td>\n",
              "      <td>-0.042476</td>\n",
              "      <td>-0.395910</td>\n",
              "      <td>-0.624633</td>\n",
              "      <td>-0.542407</td>\n",
              "      <td>-0.144376</td>\n",
              "      <td>-0.162538</td>\n",
              "      <td>-0.602900</td>\n",
              "      <td>-0.349862</td>\n",
              "    </tr>\n",
              "    <tr>\n",
              "      <th>...</th>\n",
              "      <td>...</td>\n",
              "      <td>...</td>\n",
              "      <td>...</td>\n",
              "      <td>...</td>\n",
              "      <td>...</td>\n",
              "      <td>...</td>\n",
              "      <td>...</td>\n",
              "      <td>...</td>\n",
              "      <td>...</td>\n",
              "    </tr>\n",
              "    <tr>\n",
              "      <th>149</th>\n",
              "      <td>1.272074</td>\n",
              "      <td>1.590774</td>\n",
              "      <td>1.274623</td>\n",
              "      <td>0.466144</td>\n",
              "      <td>3.147991</td>\n",
              "      <td>1.778287</td>\n",
              "      <td>1.480904</td>\n",
              "      <td>1.680831</td>\n",
              "      <td>3.112822</td>\n",
              "    </tr>\n",
              "    <tr>\n",
              "      <th>37</th>\n",
              "      <td>0.556778</td>\n",
              "      <td>-0.369126</td>\n",
              "      <td>-0.730017</td>\n",
              "      <td>-0.624633</td>\n",
              "      <td>-1.003707</td>\n",
              "      <td>-0.693708</td>\n",
              "      <td>1.480904</td>\n",
              "      <td>-0.602900</td>\n",
              "      <td>-0.349862</td>\n",
              "    </tr>\n",
              "    <tr>\n",
              "      <th>466</th>\n",
              "      <td>1.987370</td>\n",
              "      <td>0.937474</td>\n",
              "      <td>0.940517</td>\n",
              "      <td>-0.261041</td>\n",
              "      <td>0.380192</td>\n",
              "      <td>1.778287</td>\n",
              "      <td>2.302626</td>\n",
              "      <td>1.354584</td>\n",
              "      <td>-0.349862</td>\n",
              "    </tr>\n",
              "    <tr>\n",
              "      <th>447</th>\n",
              "      <td>0.199130</td>\n",
              "      <td>-0.695777</td>\n",
              "      <td>-0.730017</td>\n",
              "      <td>-0.624633</td>\n",
              "      <td>-0.542407</td>\n",
              "      <td>-0.693708</td>\n",
              "      <td>-0.984260</td>\n",
              "      <td>-0.602900</td>\n",
              "      <td>-0.349862</td>\n",
              "    </tr>\n",
              "    <tr>\n",
              "      <th>483</th>\n",
              "      <td>1.272074</td>\n",
              "      <td>1.264124</td>\n",
              "      <td>1.608730</td>\n",
              "      <td>0.829736</td>\n",
              "      <td>0.841492</td>\n",
              "      <td>1.778287</td>\n",
              "      <td>2.302626</td>\n",
              "      <td>2.333326</td>\n",
              "      <td>-0.349862</td>\n",
              "    </tr>\n",
              "  </tbody>\n",
              "</table>\n",
              "<p>546 rows × 9 columns</p>\n",
              "</div>"
            ],
            "text/plain": [
              "     clump_thickness  un_cell_size  ...  normal_nucleoli   mitoses\n",
              "378        -0.516166     -0.695777  ...        -0.276653 -0.349862\n",
              "71          0.556778      2.244074  ...         1.680831  4.844164\n",
              "35         -0.873814     -0.695777  ...        -0.602900 -0.349862\n",
              "482         1.629722      2.244074  ...         2.333326  4.844164\n",
              "114        -0.516166     -0.042476  ...        -0.602900 -0.349862\n",
              "..               ...           ...  ...              ...       ...\n",
              "149         1.272074      1.590774  ...         1.680831  3.112822\n",
              "37          0.556778     -0.369126  ...        -0.602900 -0.349862\n",
              "466         1.987370      0.937474  ...         1.354584 -0.349862\n",
              "447         0.199130     -0.695777  ...        -0.602900 -0.349862\n",
              "483         1.272074      1.264124  ...         2.333326 -0.349862\n",
              "\n",
              "[546 rows x 9 columns]"
            ]
          },
          "metadata": {
            "tags": []
          },
          "execution_count": 12
        }
      ]
    },
    {
      "cell_type": "code",
      "metadata": {
        "id": "1S0RtsP1Xsj8"
      },
      "source": [
        "train_dataset = tf.data.Dataset.from_tensor_slices((norm_train_X.values, train_Y.values))\n",
        "test_dataset = tf.data.Dataset.from_tensor_slices((norm_test_X.values, test_Y.values))"
      ],
      "execution_count": 13,
      "outputs": []
    },
    {
      "cell_type": "code",
      "metadata": {
        "id": "h9qdsNPen5-F"
      },
      "source": [
        "batch_size = 32\n",
        "train_dataset = train_dataset.shuffle(buffer_size=len(train)).batch(batch_size)\n",
        "\n",
        "test_dataset =  test_dataset.batch(batch_size=batch_size)"
      ],
      "execution_count": 14,
      "outputs": []
    },
    {
      "cell_type": "code",
      "metadata": {
        "colab": {
          "base_uri": "https://localhost:8080/"
        },
        "id": "PX2Loh2Nc-xp",
        "outputId": "51c57e8c-0c30-458c-dd45-a205d2fd7cba"
      },
      "source": [
        "a = enumerate(train_dataset)\n",
        "\n",
        "print(len(list(a)))"
      ],
      "execution_count": 15,
      "outputs": [
        {
          "output_type": "stream",
          "text": [
            "18\n"
          ],
          "name": "stdout"
        }
      ]
    },
    {
      "cell_type": "code",
      "metadata": {
        "id": "HU3qcM9WBcMh"
      },
      "source": [
        "# Model\n",
        "def base_model():\n",
        "    inputs = tf.keras.layers.Input(shape=(len(train.columns)))\n",
        "\n",
        "    x = tf.keras.layers.Dense(16, activation='relu')(inputs)\n",
        "    x = tf.keras.layers.Dense(8, activation='relu')(x)\n",
        "    outputs = tf.keras.layers.Dense(1, activation='sigmoid')(x)\n",
        "    model = tf.keras.Model(inputs=inputs, outputs=outputs)\n",
        "    return model\n",
        "\n",
        "model = base_model()"
      ],
      "execution_count": 16,
      "outputs": []
    },
    {
      "cell_type": "code",
      "metadata": {
        "id": "v5B3vh6fs84i"
      },
      "source": [
        "optimizer = tf.keras.optimizers.RMSprop(learning_rate=0.001)\n",
        "loss_object = tf.keras.losses.BinaryCrossentropy()"
      ],
      "execution_count": 17,
      "outputs": []
    },
    {
      "cell_type": "code",
      "metadata": {
        "colab": {
          "base_uri": "https://localhost:8080/"
        },
        "id": "TUScS3GbtPXt",
        "outputId": "18fe325f-4a87-42d1-d96d-887e0d9de901"
      },
      "source": [
        "# Evaluate Untrained Model\n",
        "outputs = model(norm_test_X.values)\n",
        "outputs_ntrained = np.expand_dims(outputs, axis=2)\n",
        "loss_value = loss_object(y_true=test_Y.values, y_pred=outputs_ntrained)\n",
        "print(\"Loss before training %.4f\" % loss_value.numpy())"
      ],
      "execution_count": 18,
      "outputs": [
        {
          "output_type": "stream",
          "text": [
            "Loss before training 0.7119\n"
          ],
          "name": "stdout"
        }
      ]
    },
    {
      "cell_type": "code",
      "metadata": {
        "id": "ueenYwWZvQM_"
      },
      "source": [
        "def plot_confusion_matrix(y_true, y_pred, title='', labels=[0,1]):\n",
        "    cm = confusion_matrix(y_true, y_pred)\n",
        "    fig = plt.figure()\n",
        "    ax = fig.add_subplot(111)\n",
        "    cax = ax.matshow(cm)\n",
        "    plt.title(title)\n",
        "    fig.colorbar(cax)\n",
        "    ax.set_xticklabels([''] + labels)\n",
        "    ax.set_yticklabels([''] + labels)\n",
        "    plt.xlabel('Predicted')\n",
        "    plt.ylabel('True')\n",
        "    fmt = 'd'\n",
        "    thresh = cm.max() / 2.\n",
        "    for i, j in itertools.product(range(cm.shape[0]), range(cm.shape[1])):\n",
        "          plt.text(j, i, format(cm[i, j], fmt),\n",
        "                  horizontalalignment=\"center\",\n",
        "                  color=\"black\" if cm[i, j] > thresh else \"white\")\n",
        "    plt.show()"
      ],
      "execution_count": 19,
      "outputs": []
    },
    {
      "cell_type": "code",
      "metadata": {
        "colab": {
          "base_uri": "https://localhost:8080/",
          "height": 289
        },
        "id": "FApnBUNWv-ZR",
        "outputId": "bc20ee4b-ab82-47c7-b20e-ccdce45849fd"
      },
      "source": [
        "plot_confusion_matrix(test_Y.values, tf.round(outputs), title='Confusion Matrix for Untrained Model')"
      ],
      "execution_count": 20,
      "outputs": [
        {
          "output_type": "display_data",
          "data": {
            "image/png": "[encoded data removed]",
            "text/plain": [
              "<Figure size 432x288 with 2 Axes>"
            ]
          },
          "metadata": {
            "tags": [],
            "needs_background": "light"
          }
        }
      ]
    },
    {
      "cell_type": "code",
      "metadata": {
        "id": "PdUe6cqvbzXy"
      },
      "source": [
        "class F1Score(tf.keras.metrics.Metric):\n",
        "\n",
        "    def __init__(self, name='f1_score', **kwargs):\n",
        "        '''initializes attributes of the class'''\n",
        "        # call the parent class init\n",
        "        super(F1Score, self).__init__(name=name, **kwargs)\n",
        "\n",
        "        # true positives\n",
        "        self.tp = tf.Variable(0, dtype = 'int32')\n",
        "        # false positives\n",
        "        self.fp = tf.Variable(0, dtype = 'int32')\n",
        "        # true negatives\n",
        "        self.tn = tf.Variable(0, dtype = 'int32')\n",
        "        # false negatives\n",
        "        self.fn = tf.Variable(0, dtype = 'int32')\n",
        "\n",
        "    def update_state(self, y_true, y_pred, sample_weight=None):\n",
        "        '''\n",
        "        Accumulates statistics for the metric\n",
        "        \n",
        "        Args:\n",
        "            y_true: target values from the test data\n",
        "            y_pred: predicted values by the model\n",
        "        '''\n",
        "        # confusion matrix.\n",
        "        conf_matrix = tf.math.confusion_matrix(y_true, y_pred, num_classes=2)\n",
        "        \n",
        "        self.tn.assign_add(conf_matrix[0][0])\n",
        "        self.tp.assign_add(conf_matrix[1][1])\n",
        "        self.fp.assign_add(conf_matrix[0][1])\n",
        "        self.fn.assign_add(conf_matrix[1][0])\n",
        "\n",
        "    def result(self):\n",
        "        '''Computes and returns the metric value tensor.'''\n",
        "        # precision\n",
        "        if (self.tp + self.fp == 0):\n",
        "            precision = 1.0\n",
        "        else:\n",
        "            precision = self.tp / (self.tp + self.fp)\n",
        "        # recall\n",
        "        if (self.tp + self.fn == 0):\n",
        "            recall = 1.0\n",
        "        else:\n",
        "            recall = self.tp / (self.tp + self.fn)\n",
        "        # F1 Score\n",
        "        f1_score = 2 * (precision * recall) / (precision + recall)\n",
        "        \n",
        "        return f1_score\n",
        "\n",
        "    def reset_states(self):\n",
        "        '''Resets all of the metric state variables.'''\n",
        "        self.tp.assign(0)\n",
        "        self.tn.assign(0) \n",
        "        self.fp.assign(0)\n",
        "        self.fn.assign(0)"
      ],
      "execution_count": 21,
      "outputs": []
    },
    {
      "cell_type": "code",
      "metadata": {
        "colab": {
          "base_uri": "https://localhost:8080/"
        },
        "id": "gPWhw5gAc-xt",
        "outputId": "e57452a4-5fd6-4e70-b6b7-f25222cc9e3b"
      },
      "source": [
        "test_F1Score = F1Score()\n",
        "\n",
        "test_F1Score.tp = tf.Variable(2, dtype = 'int32')\n",
        "test_F1Score.fp = tf.Variable(5, dtype = 'int32')\n",
        "test_F1Score.tn = tf.Variable(7, dtype = 'int32')\n",
        "test_F1Score.fn = tf.Variable(9, dtype = 'int32')\n",
        "test_F1Score.result()"
      ],
      "execution_count": 22,
      "outputs": [
        {
          "output_type": "execute_result",
          "data": {
            "text/plain": [
              "<tf.Tensor: shape=(), dtype=float64, numpy=0.2222222222222222>"
            ]
          },
          "metadata": {
            "tags": []
          },
          "execution_count": 22
        }
      ]
    },
    {
      "cell_type": "code",
      "metadata": {
        "id": "7Pa_x-5-CH_V"
      },
      "source": [
        "train_f1score_metric = F1Score()\n",
        "val_f1score_metric = F1Score()\n",
        "\n",
        "train_acc_metric = tf.keras.metrics.BinaryAccuracy()\n",
        "val_acc_metric = tf.keras.metrics.BinaryAccuracy()"
      ],
      "execution_count": 23,
      "outputs": []
    },
    {
      "cell_type": "code",
      "metadata": {
        "id": "MMPe25Dstn0v"
      },
      "source": [
        "# Apply Gradients\n",
        "def apply_gradient(optimizer, loss_object, model, x, y):\n",
        "    '''\n",
        "    applies the gradients to the trainable model weights\n",
        "    \n",
        "    Args:\n",
        "        optimizer: optimizer to update model weights\n",
        "        loss_object: type of loss to measure during training\n",
        "        model: the model we are training\n",
        "        x: input data to the model\n",
        "        y: target values for each input\n",
        "    '''\n",
        "    with tf.GradientTape() as tape:\n",
        "        logits = model(x)\n",
        "        loss_value = loss_object(y, logits)\n",
        "  \n",
        "    gradients = tape.gradient(loss_value, model.trainable_weights)\n",
        "    optimizer.apply_gradients(zip(gradients, model.trainable_weights))\n",
        "    return logits, loss_value"
      ],
      "execution_count": 24,
      "outputs": []
    },
    {
      "cell_type": "code",
      "metadata": {
        "id": "0tFCYQ4Jc-xu"
      },
      "source": [
        "# Test\n",
        "test_model = tf.keras.models.load_model('./test_model')\n",
        "test_logits, test_loss = apply_gradient(optimizer, loss_object, test_model, norm_test_X.values, test_Y.values)\n",
        "\n",
        "print(test_logits.numpy()[:8])\n",
        "print(test_loss.numpy())\n",
        "\n",
        "del test_model\n",
        "del test_logits\n",
        "del test_loss"
      ],
      "execution_count": null,
      "outputs": []
    },
    {
      "cell_type": "code",
      "metadata": {
        "id": "3fHoh_hgz2PC"
      },
      "source": [
        "# Training Loop\n",
        "def train_data_for_one_epoch(train_dataset, optimizer, loss_object, model, \n",
        "                             train_acc_metric, train_f1score_metric, verbose=True):\n",
        "    '''\n",
        "    Computes the loss then updates the weights and metrics for one epoch.\n",
        "    \n",
        "    Args:\n",
        "        train_dataset: the training dataset\n",
        "        optimizer: optimizer to update model weights\n",
        "        loss_object: type of loss to measure during training\n",
        "        model: the model we are training\n",
        "        train_acc_metric: calculates how often predictions match labels\n",
        "        train_f1score_metric: custom metric we defined earlier\n",
        "    '''\n",
        "    losses = []\n",
        "    for step, (x_batch_train, y_batch_train) in enumerate(train_dataset):\n",
        "        logits, loss_value = apply_gradient(optimizer, loss_object, model, x_batch_train, y_batch_train)\n",
        "        losses.append(tf.reduce_mean(loss_value))\n",
        "\n",
        "        logits = tf.round(logits)\n",
        "        logits = tf.cast(logits, 'int64')\n",
        "\n",
        "        train_acc_metric.update_state(y_batch_train, logits)\n",
        "        train_f1score_metric.update_state(y_batch_train, logits)\n",
        "\n",
        "        if verbose:\n",
        "            print(\"Training loss for step %s: %.4f\" % (int(step), float(loss_value)))\n",
        "    return losses"
      ],
      "execution_count": 27,
      "outputs": []
    },
    {
      "cell_type": "code",
      "metadata": {
        "id": "LHHSPc2Pc-xv"
      },
      "source": [
        "# Test\n",
        "test_model = tf.keras.models.load_model('./test_model')\n",
        "\n",
        "test_losses = train_data_for_one_epoch(train_dataset, optimizer, loss_object, test_model, \n",
        "                                       train_acc_metric, train_f1score_metric, verbose=False)\n",
        "\n",
        "for test_loss in test_losses:\n",
        "    print(test_loss.numpy())\n",
        "\n",
        "del test_model\n",
        "del test_losses"
      ],
      "execution_count": null,
      "outputs": []
    },
    {
      "cell_type": "code",
      "metadata": {
        "id": "5gLJyAJE0YRc"
      },
      "source": [
        "def perform_validation():\n",
        "    losses = []\n",
        "    for x_val, y_val in test_dataset:\n",
        "        val_logits = model(x_val) \n",
        "        val_loss = loss_object(y_true=y_val, y_pred=val_logits)\n",
        "        losses.append(val_loss)\n",
        "\n",
        "        val_logits = tf.cast(tf.round(model(x_val)), 'int64')\n",
        "\n",
        "        val_acc_metric.update_state(y_val, val_logits)\n",
        "        val_f1score_metric.update_state(y_val, val_logits)\n",
        "    return losses"
      ],
      "execution_count": 29,
      "outputs": []
    },
    {
      "cell_type": "code",
      "metadata": {
        "colab": {
          "base_uri": "https://localhost:8080/"
        },
        "id": "OOO1x3VyuPUV",
        "outputId": "1631bea0-073f-4e5b-b3ad-da308aed5baf"
      },
      "source": [
        "epochs = 10\n",
        "epochs_val_losses, epochs_train_losses = [], []\n",
        "\n",
        "for epoch in range(epochs):\n",
        "    print('Start of epoch %d' % (epoch,))\n",
        "    #Training over all batches of train data\n",
        "    losses_train = train_data_for_one_epoch(train_dataset, optimizer, loss_object, model, train_acc_metric, train_f1score_metric)\n",
        "\n",
        "    #results from training metrics\n",
        "    train_acc = train_acc_metric.result()\n",
        "    train_f1score = train_f1score_metric.result()\n",
        "\n",
        "    #validation on all batches of test data\n",
        "    losses_val = perform_validation()\n",
        "\n",
        "    # results from validation metrics\n",
        "    val_acc = val_acc_metric.result()\n",
        "    val_f1score = val_f1score_metric.result()\n",
        "\n",
        "    #training and validation losses for current epoch\n",
        "    losses_train_mean = np.mean(losses_train)\n",
        "    losses_val_mean = np.mean(losses_val)\n",
        "    epochs_val_losses.append(losses_val_mean)\n",
        "    epochs_train_losses.append(losses_train_mean)\n",
        "\n",
        "    print('\\n Epoch %s: Train loss: %.4f  Validation Loss: %.4f, Train Accuracy: %.4f, Validation Accuracy %.4f, Train F1 Score: %.4f, Validation F1 Score: %.4f' % (epoch, float(losses_train_mean), float(losses_val_mean), float(train_acc), float(val_acc), train_f1score, val_f1score))\n",
        "\n",
        "    train_acc_metric.reset_states()\n",
        "    val_acc_metric.reset_states()\n",
        "    val_f1score_metric.reset_states()\n",
        "    train_f1score_metric.reset_states()"
      ],
      "execution_count": 30,
      "outputs": [
        {
          "output_type": "stream",
          "text": [
            "Start of epoch 0\n",
            "Training loss for step 0: 0.7474\n",
            "Training loss for step 1: 0.7968\n",
            "Training loss for step 2: 0.6437\n",
            "Training loss for step 3: 0.8853\n",
            "Training loss for step 4: 0.6410\n",
            "Training loss for step 5: 0.9758\n",
            "Training loss for step 6: 0.8310\n",
            "Training loss for step 7: 0.8280\n",
            "Training loss for step 8: 0.8569\n",
            "Training loss for step 9: 0.8611\n",
            "Training loss for step 10: 0.6253\n",
            "Training loss for step 11: 0.5914\n",
            "Training loss for step 12: 0.6218\n",
            "Training loss for step 13: 0.6775\n",
            "Training loss for step 14: 0.7752\n",
            "Training loss for step 15: 0.6350\n",
            "Training loss for step 16: 0.6646\n",
            "Training loss for step 17: 0.3360\n",
            "\n",
            " Epoch 0: Train loss: 0.7219  Validation Loss: 0.6524, Train Accuracy: 0.6701, Validation Accuracy 0.6458, Train F1 Score: 0.0000, Validation F1 Score: 0.0000\n",
            "Start of epoch 1\n",
            "Training loss for step 0: 0.5326\n",
            "Training loss for step 1: 0.7152\n",
            "Training loss for step 2: 0.6210\n",
            "Training loss for step 3: 0.6706\n",
            "Training loss for step 4: 0.5894\n",
            "Training loss for step 5: 0.6794\n",
            "Training loss for step 6: 0.5398\n",
            "Training loss for step 7: 0.5742\n",
            "Training loss for step 8: 0.6535\n",
            "Training loss for step 9: 0.3817\n",
            "Training loss for step 10: 0.6210\n",
            "Training loss for step 11: 0.4527\n",
            "Training loss for step 12: 0.4854\n",
            "Training loss for step 13: 0.4573\n",
            "Training loss for step 14: 0.5517\n",
            "Training loss for step 15: 0.5088\n",
            "Training loss for step 16: 0.4783\n",
            "Training loss for step 17: 0.2213\n",
            "\n",
            " Epoch 1: Train loss: 0.5408  Validation Loss: 0.5126, Train Accuracy: 0.6701, Validation Accuracy 0.6521, Train F1 Score: 0.0000, Validation F1 Score: 0.0400\n",
            "Start of epoch 2\n",
            "Training loss for step 0: 0.4496\n",
            "Training loss for step 1: 0.3657\n",
            "Training loss for step 2: 0.5896\n",
            "Training loss for step 3: 0.4792\n",
            "Training loss for step 4: 0.5034\n",
            "Training loss for step 5: 0.4088\n",
            "Training loss for step 6: 0.3303\n",
            "Training loss for step 7: 0.3697\n",
            "Training loss for step 8: 0.4967\n",
            "Training loss for step 9: 0.4838\n",
            "Training loss for step 10: 0.3788\n",
            "Training loss for step 11: 0.4428\n",
            "Training loss for step 12: 0.5083\n",
            "Training loss for step 13: 0.4086\n",
            "Training loss for step 14: 0.4322\n",
            "Training loss for step 15: 0.3870\n",
            "Training loss for step 16: 0.4322\n",
            "Training loss for step 17: 0.3527\n",
            "\n",
            " Epoch 2: Train loss: 0.4344  Validation Loss: 0.4035, Train Accuracy: 0.6962, Validation Accuracy 0.7083, Train F1 Score: 0.1546, Validation F1 Score: 0.4000\n",
            "Start of epoch 3\n",
            "Training loss for step 0: 0.3736\n",
            "Training loss for step 1: 0.3969\n",
            "Training loss for step 2: 0.2783\n",
            "Training loss for step 3: 0.3062\n",
            "Training loss for step 4: 0.3301\n",
            "Training loss for step 5: 0.3516\n",
            "Training loss for step 6: 0.3735\n",
            "Training loss for step 7: 0.3441\n",
            "Training loss for step 8: 0.3081\n",
            "Training loss for step 9: 0.3517\n",
            "Training loss for step 10: 0.3586\n",
            "Training loss for step 11: 0.3193\n",
            "Training loss for step 12: 0.3737\n",
            "Training loss for step 13: 0.3345\n",
            "Training loss for step 14: 0.3574\n",
            "Training loss for step 15: 0.4031\n",
            "Training loss for step 16: 0.2972\n",
            "Training loss for step 17: 0.3321\n",
            "\n",
            " Epoch 3: Train loss: 0.3439  Validation Loss: 0.3184, Train Accuracy: 0.8507, Validation Accuracy 0.9187, Train F1 Score: 0.7114, Validation F1 Score: 0.8571\n",
            "Start of epoch 4\n",
            "Training loss for step 0: 0.3696\n",
            "Training loss for step 1: 0.2132\n",
            "Training loss for step 2: 0.2619\n",
            "Training loss for step 3: 0.2501\n",
            "Training loss for step 4: 0.3282\n",
            "Training loss for step 5: 0.2767\n",
            "Training loss for step 6: 0.3501\n",
            "Training loss for step 7: 0.2852\n",
            "Training loss for step 8: 0.2429\n",
            "Training loss for step 9: 0.2005\n",
            "Training loss for step 10: 0.2988\n",
            "Training loss for step 11: 0.3233\n",
            "Training loss for step 12: 0.2130\n",
            "Training loss for step 13: 0.2400\n",
            "Training loss for step 14: 0.2731\n",
            "Training loss for step 15: 0.2449\n",
            "Training loss for step 16: 0.2335\n",
            "Training loss for step 17: 0.0420\n",
            "\n",
            " Epoch 4: Train loss: 0.2582  Validation Loss: 0.2541, Train Accuracy: 0.9444, Validation Accuracy 0.9500, Train F1 Score: 0.9106, Validation F1 Score: 0.9184\n",
            "Start of epoch 5\n",
            "Training loss for step 0: 0.1286\n",
            "Training loss for step 1: 0.2416\n",
            "Training loss for step 2: 0.2176\n",
            "Training loss for step 3: 0.2894\n",
            "Training loss for step 4: 0.2096\n",
            "Training loss for step 5: 0.2246\n",
            "Training loss for step 6: 0.2615\n",
            "Training loss for step 7: 0.2327\n",
            "Training loss for step 8: 0.2303\n",
            "Training loss for step 9: 0.1972\n",
            "Training loss for step 10: 0.1511\n",
            "Training loss for step 11: 0.2265\n",
            "Training loss for step 12: 0.2747\n",
            "Training loss for step 13: 0.1892\n",
            "Training loss for step 14: 0.1070\n",
            "Training loss for step 15: 0.2798\n",
            "Training loss for step 16: 0.1680\n",
            "Training loss for step 17: 0.0394\n",
            "\n",
            " Epoch 5: Train loss: 0.2038  Validation Loss: 0.2042, Train Accuracy: 0.9653, Validation Accuracy 0.9500, Train F1 Score: 0.9462, Validation F1 Score: 0.9184\n",
            "Start of epoch 6\n",
            "Training loss for step 0: 0.1651\n",
            "Training loss for step 1: 0.1196\n",
            "Training loss for step 2: 0.1676\n",
            "Training loss for step 3: 0.1782\n",
            "Training loss for step 4: 0.1715\n",
            "Training loss for step 5: 0.1661\n",
            "Training loss for step 6: 0.1715\n",
            "Training loss for step 7: 0.1260\n",
            "Training loss for step 8: 0.1399\n",
            "Training loss for step 9: 0.2233\n",
            "Training loss for step 10: 0.1099\n",
            "Training loss for step 11: 0.1411\n",
            "Training loss for step 12: 0.1726\n",
            "Training loss for step 13: 0.2077\n",
            "Training loss for step 14: 0.1582\n",
            "Training loss for step 15: 0.2746\n",
            "Training loss for step 16: 0.1738\n",
            "Training loss for step 17: 0.0695\n",
            "\n",
            " Epoch 6: Train loss: 0.1631  Validation Loss: 0.1664, Train Accuracy: 0.9722, Validation Accuracy 0.9500, Train F1 Score: 0.9574, Validation F1 Score: 0.9184\n",
            "Start of epoch 7\n",
            "Training loss for step 0: 0.1329\n",
            "Training loss for step 1: 0.1400\n",
            "Training loss for step 2: 0.0810\n",
            "Training loss for step 3: 0.0729\n",
            "Training loss for step 4: 0.1651\n",
            "Training loss for step 5: 0.1777\n",
            "Training loss for step 6: 0.1836\n",
            "Training loss for step 7: 0.1752\n",
            "Training loss for step 8: 0.2125\n",
            "Training loss for step 9: 0.0981\n",
            "Training loss for step 10: 0.1097\n",
            "Training loss for step 11: 0.1408\n",
            "Training loss for step 12: 0.1415\n",
            "Training loss for step 13: 0.1076\n",
            "Training loss for step 14: 0.1295\n",
            "Training loss for step 15: 0.0948\n",
            "Training loss for step 16: 0.1310\n",
            "Training loss for step 17: 0.0740\n",
            "\n",
            " Epoch 7: Train loss: 0.1315  Validation Loss: 0.1413, Train Accuracy: 0.9705, Validation Accuracy 0.9500, Train F1 Score: 0.9549, Validation F1 Score: 0.9200\n",
            "Start of epoch 8\n",
            "Training loss for step 0: 0.1187\n",
            "Training loss for step 1: 0.0911\n",
            "Training loss for step 2: 0.0503\n",
            "Training loss for step 3: 0.1039\n",
            "Training loss for step 4: 0.0693\n",
            "Training loss for step 5: 0.1637\n",
            "Training loss for step 6: 0.1238\n",
            "Training loss for step 7: 0.0403\n",
            "Training loss for step 8: 0.0851\n",
            "Training loss for step 9: 0.1109\n",
            "Training loss for step 10: 0.1152\n",
            "Training loss for step 11: 0.1090\n",
            "Training loss for step 12: 0.1250\n",
            "Training loss for step 13: 0.2470\n",
            "Training loss for step 14: 0.0795\n",
            "Training loss for step 15: 0.2251\n",
            "Training loss for step 16: 0.0540\n",
            "Training loss for step 17: 0.0045\n",
            "\n",
            " Epoch 8: Train loss: 0.1065  Validation Loss: 0.1260, Train Accuracy: 0.9705, Validation Accuracy 0.9563, Train F1 Score: 0.9551, Validation F1 Score: 0.9307\n",
            "Start of epoch 9\n",
            "Training loss for step 0: 0.1296\n",
            "Training loss for step 1: 0.0750\n",
            "Training loss for step 2: 0.0519\n",
            "Training loss for step 3: 0.1125\n",
            "Training loss for step 4: 0.0684\n",
            "Training loss for step 5: 0.1426\n",
            "Training loss for step 6: 0.0789\n",
            "Training loss for step 7: 0.0409\n",
            "Training loss for step 8: 0.0757\n",
            "Training loss for step 9: 0.0831\n",
            "Training loss for step 10: 0.0530\n",
            "Training loss for step 11: 0.1894\n",
            "Training loss for step 12: 0.0912\n",
            "Training loss for step 13: 0.2637\n",
            "Training loss for step 14: 0.0565\n",
            "Training loss for step 15: 0.0690\n",
            "Training loss for step 16: 0.0657\n",
            "Training loss for step 17: 0.0096\n",
            "\n",
            " Epoch 9: Train loss: 0.0921  Validation Loss: 0.1163, Train Accuracy: 0.9722, Validation Accuracy 0.9625, Train F1 Score: 0.9579, Validation F1 Score: 0.9412\n"
          ],
          "name": "stdout"
        }
      ]
    },
    {
      "cell_type": "code",
      "metadata": {
        "colab": {
          "base_uri": "https://localhost:8080/",
          "height": 281
        },
        "id": "MsmF_2n307SP",
        "outputId": "91e051e6-b7c3-4538-a9a1-b6b61a44f0e9"
      },
      "source": [
        "def plot_metrics(train_metric, val_metric, metric_name, title, ylim=5):\n",
        "    plt.title(title)\n",
        "    plt.ylim(0,ylim)\n",
        "    plt.gca().xaxis.set_major_locator(mticker.MultipleLocator(1))\n",
        "    plt.plot(train_metric,color='blue',label=metric_name)\n",
        "    plt.plot(val_metric,color='green',label='val_' + metric_name)\n",
        "    plt.legend()\n",
        "\n",
        "plot_metrics(epochs_train_losses, epochs_val_losses, \"Loss\", \"Loss\", ylim=1.0)"
      ],
      "execution_count": 31,
      "outputs": [
        {
          "output_type": "display_data",
          "data": {
            "image/png": "[encoded data removed]",
            "text/plain": [
              "<Figure size 432x288 with 1 Axes>"
            ]
          },
          "metadata": {
            "tags": [],
            "needs_background": "light"
          }
        }
      ]
    },
    {
      "cell_type": "code",
      "metadata": {
        "colab": {
          "base_uri": "https://localhost:8080/",
          "height": 289
        },
        "id": "_9n2XJ9MwpDS",
        "outputId": "17b58090-92ed-4854-9940-5b69fac9fcd6"
      },
      "source": [
        "test_outputs = model(norm_test_X.values)\n",
        "plot_confusion_matrix(test_Y.values, tf.round(test_outputs), title='Confusion Matrix for Untrained Model')"
      ],
      "execution_count": 32,
      "outputs": [
        {
          "output_type": "display_data",
          "data": {
            "image/png": "[encoded data removed]",
            "text/plain": [
              "<Figure size 432x288 with 2 Axes>"
            ]
          },
          "metadata": {
            "tags": [],
            "needs_background": "light"
          }
        }
      ]
    }
  ]
}